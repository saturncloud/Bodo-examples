{
 "cells": [
  {
   "cell_type": "markdown",
   "metadata": {},
   "source": [
    "# TPC-H\n",
    "\n",
    "TPC-H is a decision support benchmark that offers business-oriented ad hoc queries.\n",
    "More information can be found [here](http://www.tpc.org/tpch)\n",
    "\n",
    "The queries are originally in SQL format and here they are implemented using the pandas API."
   ]
  },
  {
   "cell_type": "markdown",
   "metadata": {},
   "source": [
    "### Notes on running these queries:\n",
    "\n",
    "By defaults runs use Bodo. Hence, data is distributed in chunks across processes.\n",
    "\n",
    "Dataset size is 2GB.\n",
    "\n",
    "There's another dataset available on \"s3://bodo-examples-data/tpch/s4/\" which is 4GB.\n",
    "\n",
    "To run the code:\n",
    "1. Make sure you [add your AWS account credentials to Saturn Cloud](https://saturncloud.io/docs/examples/python/load-data/qs-load-data-s3/#create-aws-credentials) to access the data.\n",
    "2. If you want to run a query in regular pandas:\n",
    "    1. Comment magic expression (`%%px`) from AWS, import statements, its corresponding functions to load data, and the query cells.\n",
    "    2. Comment bodo decorator (`@bodo.jit`) from the load_data functions and the query that you'll run. \n",
    "    3. Re-run the import cells.\n",
    "    4. Re-run functions in [loading data](#loading_data) section to have the requried dataset in one process. "
   ]
  },
  {
   "cell_type": "markdown",
   "metadata": {},
   "source": [
    "### Start an IPyParallel cluster\n",
    "Run the following code in a cell to start an IPyParallel cluster. 4 cores are used in this example. "
   ]
  },
  {
   "cell_type": "code",
   "execution_count": 1,
   "metadata": {
    "execution": {
     "iopub.execute_input": "2022-03-01T20:47:56.082540Z",
     "iopub.status.busy": "2022-03-01T20:47:56.082232Z",
     "iopub.status.idle": "2022-03-01T20:48:02.875101Z",
     "shell.execute_reply": "2022-03-01T20:48:02.874650Z",
     "shell.execute_reply.started": "2022-03-01T20:47:56.082484Z"
    }
   },
   "outputs": [
    {
     "name": "stdout",
     "output_type": "stream",
     "text": [
      "Starting 4 engines with <class 'ipyparallel.cluster.launcher.MPIEngineSetLauncher'>\n"
     ]
    },
    {
     "data": {
      "application/vnd.jupyter.widget-view+json": {
       "model_id": "c519cce61b2743d5846e8fd9b8c64896",
       "version_major": 2,
       "version_minor": 0
      },
      "text/plain": [
       "  0%|          | 0/4 [00:00<?, ?engine/s]"
      ]
     },
     "metadata": {},
     "output_type": "display_data"
    }
   ],
   "source": [
    "import ipyparallel as ipp\n",
    "import psutil; n = min(psutil.cpu_count(logical=False), 8)\n",
    "rc = ipp.Cluster(engines='mpi', n=n).start_and_connect_sync(activate=True)"
   ]
  },
  {
   "cell_type": "markdown",
   "metadata": {},
   "source": [
    "### Verifying your setup\n",
    "Run the following code to verify that your IPyParallel cluster is set up correctly:"
   ]
  },
  {
   "cell_type": "code",
   "execution_count": 2,
   "metadata": {
    "execution": {
     "iopub.execute_input": "2022-03-01T20:48:02.875830Z",
     "iopub.status.busy": "2022-03-01T20:48:02.875631Z",
     "iopub.status.idle": "2022-03-01T20:48:04.290940Z",
     "shell.execute_reply": "2022-03-01T20:48:04.290453Z",
     "shell.execute_reply.started": "2022-03-01T20:48:02.875808Z"
    }
   },
   "outputs": [
    {
     "data": {
      "text/plain": [
       "[stdout:3] Hello World from rank 3. Total ranks=4\n"
      ]
     },
     "metadata": {},
     "output_type": "display_data"
    },
    {
     "data": {
      "text/plain": [
       "[stdout:1] Hello World from rank 1. Total ranks=4\n"
      ]
     },
     "metadata": {},
     "output_type": "display_data"
    },
    {
     "data": {
      "text/plain": [
       "[stdout:2] Hello World from rank 2. Total ranks=4\n"
      ]
     },
     "metadata": {},
     "output_type": "display_data"
    },
    {
     "data": {
      "text/plain": [
       "[stdout:0] Hello World from rank 0. Total ranks=4\n"
      ]
     },
     "metadata": {},
     "output_type": "display_data"
    }
   ],
   "source": [
    "%%px\n",
    "import bodo\n",
    "print(f\"Hello World from rank {bodo.get_rank()}. Total ranks={bodo.get_size()}\")"
   ]
  },
  {
   "cell_type": "code",
   "execution_count": 3,
   "metadata": {
    "execution": {
     "iopub.execute_input": "2022-03-01T20:48:04.292358Z",
     "iopub.status.busy": "2022-03-01T20:48:04.291935Z",
     "iopub.status.idle": "2022-03-01T20:48:04.304593Z",
     "shell.execute_reply": "2022-03-01T20:48:04.304199Z",
     "shell.execute_reply.started": "2022-03-01T20:48:04.292333Z"
    }
   },
   "outputs": [],
   "source": [
    "%%px\n",
    "import bodo\n",
    "import time\n",
    "import numpy as np\n",
    "import pandas as pd"
   ]
  },
  {
   "cell_type": "markdown",
   "metadata": {},
   "source": [
    "<a id=\"loading_data\"></a>\n",
    "## Loading data\n",
    "\n",
    "In this section, we load the data required by the queries in pandas DataFrame."
   ]
  },
  {
   "cell_type": "code",
   "execution_count": 4,
   "metadata": {
    "execution": {
     "iopub.execute_input": "2022-03-01T20:48:04.305478Z",
     "iopub.status.busy": "2022-03-01T20:48:04.305106Z",
     "iopub.status.idle": "2022-03-01T20:51:50.642978Z",
     "shell.execute_reply": "2022-03-01T20:51:50.642570Z",
     "shell.execute_reply.started": "2022-03-01T20:48:04.305442Z"
    }
   },
   "outputs": [
    {
     "data": {
      "application/vnd.jupyter.widget-view+json": {
       "model_id": "2c4b62db1fba415db621be5f4f405873",
       "version_major": 2,
       "version_minor": 0
      },
      "text/plain": [
       "%px:   0%|          | 0/4 [00:00<?, ?tasks/s]"
      ]
     },
     "metadata": {},
     "output_type": "display_data"
    },
    {
     "data": {
      "text/plain": [
       "[stdout:0] Lineitem Reading time:  219841.56608581543  (ms)\n",
       "   L_ORDERKEY  L_PARTKEY  L_SUPPKEY  L_LINENUMBER  L_QUANTITY  \\\n",
       "0           1     310379      15395             1        17.0   \n",
       "1           1     134619      14620             2        36.0   \n",
       "2           1     127400       7401             3         8.0   \n",
       "3           1       4263       9264             4        28.0   \n",
       "4           1      48054       3061             5        24.0   \n",
       "\n",
       "   L_EXTENDEDPRICE  L_DISCOUNT  L_TAX L_RETURNFLAG L_LINESTATUS L_SHIPDATE  \\\n",
       "0         23619.12        0.04   0.02            N            O 1996-03-13   \n",
       "1         59529.96        0.09   0.06            N            O 1996-04-12   \n",
       "2         11419.20        0.10   0.02            N            O 1996-01-29   \n",
       "3         32683.28        0.09   0.06            N            O 1996-04-21   \n",
       "4         24049.20        0.10   0.04            N            O 1996-03-30   \n",
       "\n",
       "  L_COMMITDATE L_RECEIPTDATE     L_SHIPINSTRUCT L_SHIPMODE  \\\n",
       "0   1996-02-12    1996-03-22  DELIVER IN PERSON      TRUCK   \n",
       "1   1996-02-28    1996-04-20   TAKE BACK RETURN       MAIL   \n",
       "2   1996-03-05    1996-01-31   TAKE BACK RETURN    REG AIR   \n",
       "3   1996-03-30    1996-05-16               NONE        AIR   \n",
       "4   1996-03-14    1996-04-01               NONE        FOB   \n",
       "\n",
       "                            L_COMMENT  \n",
       "0             egular courts above the  \n",
       "1  ly final dependencies: slyly bold   \n",
       "2       riously. regular, express dep  \n",
       "3             lites. fluffily even de  \n",
       "4             pending foxes. slyly re  \n"
      ]
     },
     "metadata": {},
     "output_type": "display_data"
    }
   ],
   "source": [
    "%%px\n",
    "@bodo.jit(distributed=[\"rel\"], cache=True)\n",
    "def load_lineitem(data_folder):\n",
    "    t1 = time.time()\n",
    "    file = data_folder + \"/lineitem.tbl\"\n",
    "    cols_names = ['L_ORDERKEY' , 'L_PARTKEY', 'L_SUPPKEY', 'L_LINENUMBER', 'L_QUANTITY',\n",
    "            'L_EXTENDEDPRICE', 'L_DISCOUNT', 'L_TAX', 'L_RETURNFLAG', 'L_LINESTATUS', 'L_SHIPDATE',\n",
    "            'L_COMMITDATE', 'L_RECEIPTDATE', 'L_SHIPINSTRUCT', 'L_SHIPMODE', 'L_COMMENT']\n",
    "    cols = {'L_ORDERKEY' : np.int64, 'L_PARTKEY' : np.int64, 'L_SUPPKEY' : np.int64, 'L_LINENUMBER' : np.int64, 'L_QUANTITY' : np.float64,\n",
    "            'L_EXTENDEDPRICE' : np.float64, 'L_DISCOUNT' : np.float64, 'L_TAX' : np.float64, 'L_RETURNFLAG' : str, 'L_LINESTATUS' : str, 'L_SHIPDATE' : str,\n",
    "            'L_COMMITDATE' : str, 'L_RECEIPTDATE' : str, 'L_SHIPINSTRUCT' : str, 'L_SHIPMODE' : str, 'L_COMMENT' : str}\n",
    "    rel = pd.read_csv(file, sep='|', header=None,\n",
    "        names=cols_names,\n",
    "        dtype=cols,\n",
    "        parse_dates=[10, 11, 12]\n",
    "        )\n",
    "    print(\"Lineitem Reading time: \", ((time.time() - t1) * 1000), \" (ms)\")\n",
    "    print(rel.head())\n",
    "    return rel\n",
    "\n",
    "lineitem = load_lineitem(\"s3://bodo-examples-data/tpch/s2\")"
   ]
  },
  {
   "cell_type": "code",
   "execution_count": 5,
   "metadata": {
    "execution": {
     "iopub.execute_input": "2022-03-01T20:51:50.643658Z",
     "iopub.status.busy": "2022-03-01T20:51:50.643483Z",
     "iopub.status.idle": "2022-03-01T20:52:52.435461Z",
     "shell.execute_reply": "2022-03-01T20:52:52.435017Z",
     "shell.execute_reply.started": "2022-03-01T20:51:50.643639Z"
    },
    "scrolled": true
   },
   "outputs": [
    {
     "data": {
      "application/vnd.jupyter.widget-view+json": {
       "model_id": "e3fcd0c3d0ff45c982d1787ad161de09",
       "version_major": 2,
       "version_minor": 0
      },
      "text/plain": [
       "%px:   0%|          | 0/4 [00:00<?, ?tasks/s]"
      ]
     },
     "metadata": {},
     "output_type": "display_data"
    },
    {
     "data": {
      "text/plain": [
       "[stdout:0] Orders Reading time:  58921.51403427124  (ms)\n",
       "   O_ORDERKEY  O_CUSTKEY O_ORDERSTATUS  O_TOTALPRICE O_ORDERDATE  \\\n",
       "0           1      73801             O     181503.69  1996-01-02   \n",
       "1           2     156004             O      49967.96  1996-12-01   \n",
       "2           3     246628             F     227024.64  1993-10-14   \n",
       "3           4     273553             O      36018.68  1995-10-11   \n",
       "4           5      88970             F     112288.43  1994-07-30   \n",
       "\n",
       "  O_ORDERPRIORITY          O_CLERK  O_SHIPPRIORITY  \\\n",
       "0           5-LOW  Clerk#000001902               0   \n",
       "1        1-URGENT  Clerk#000001759               0   \n",
       "2           5-LOW  Clerk#000001909               0   \n",
       "3           5-LOW  Clerk#000000247               0   \n",
       "4           5-LOW  Clerk#000001850               0   \n",
       "\n",
       "                                           O_COMMENT  \n",
       "0                 nstructions sleep furiously among   \n",
       "1   foxes. pending accounts at the pending, silen...  \n",
       "2  sly final accounts boost. carefully regular id...  \n",
       "3  sits. slyly regular warthogs cajole. regular, ...  \n",
       "4  quickly. bold deposits sleep slyly. packages u...  \n"
      ]
     },
     "metadata": {},
     "output_type": "display_data"
    }
   ],
   "source": [
    "%%px\n",
    "\n",
    "@bodo.jit(distributed=[\"rel\"], cache=True)\n",
    "def load_orders(data_folder):\n",
    "    t1 = time.time()    \n",
    "    file = data_folder + \"/orders.tbl\"\n",
    "    cols_names = ['O_ORDERKEY', 'O_CUSTKEY', 'O_ORDERSTATUS',\n",
    "            'O_TOTALPRICE', 'O_ORDERDATE', 'O_ORDERPRIORITY',\n",
    "            'O_CLERK', 'O_SHIPPRIORITY', 'O_COMMENT']\n",
    "    cols = {'O_ORDERKEY' : np.int64, 'O_CUSTKEY' : np.int64, 'O_ORDERSTATUS' : str,\n",
    "            'O_TOTALPRICE' : np.float64, 'O_ORDERDATE' : np.int64, 'O_ORDERPRIORITY' : str,\n",
    "            'O_CLERK' : str, 'O_SHIPPRIORITY' : np.int64, 'O_COMMENT' : str}\n",
    "    rel = pd.read_csv(file, sep='|', header=None,\n",
    "        names=cols_names,\n",
    "        dtype=cols,\n",
    "        parse_dates=[4]\n",
    "        )\n",
    "    print(\"Orders Reading time: \", ((time.time() - t1) * 1000), \" (ms)\")\n",
    "    print(rel.head())\n",
    "    return rel\n",
    "    \n",
    "orders = load_orders(\"s3://bodo-examples-data/tpch/s2\")"
   ]
  },
  {
   "cell_type": "code",
   "execution_count": 6,
   "metadata": {
    "execution": {
     "iopub.execute_input": "2022-03-01T20:52:52.436363Z",
     "iopub.status.busy": "2022-03-01T20:52:52.435992Z",
     "iopub.status.idle": "2022-03-01T20:52:56.649666Z",
     "shell.execute_reply": "2022-03-01T20:52:56.649234Z",
     "shell.execute_reply.started": "2022-03-01T20:52:52.436344Z"
    }
   },
   "outputs": [
    {
     "data": {
      "application/vnd.jupyter.widget-view+json": {
       "model_id": "79c8487b8a53449e9f7e9656e90cbd25",
       "version_major": 2,
       "version_minor": 0
      },
      "text/plain": [
       "%px:   0%|          | 0/4 [00:00<?, ?tasks/s]"
      ]
     },
     "metadata": {},
     "output_type": "display_data"
    },
    {
     "data": {
      "text/plain": [
       "[stdout:0] Customer Reading time:  1740.7951354980469  (ms)\n",
       "   C_CUSTKEY              C_NAME                       C_ADDRESS  C_NATIONKEY  \\\n",
       "0          1  Customer#000000001               IVhzIApeRb ot,c,E           15   \n",
       "1          2  Customer#000000002  XSTf4,NCwDVaWNe6tEgvwfmRchLXak           13   \n",
       "2          3  Customer#000000003                    MG9kdTD2WBHm            1   \n",
       "3          4  Customer#000000004                     XxVSJsLAGtn            4   \n",
       "4          5  Customer#000000005    KvpyuHCplrB84WgAiGV6sYpZq7Tj            3   \n",
       "\n",
       "           C_PHONE  C_ACCTBAL C_MKTSEGMENT  \\\n",
       "0  25-989-741-2988     711.56     BUILDING   \n",
       "1  23-768-687-3665     121.65   AUTOMOBILE   \n",
       "2  11-719-748-3364    7498.12   AUTOMOBILE   \n",
       "3  14-128-190-5944    2866.83    MACHINERY   \n",
       "4  13-750-942-6364     794.47    HOUSEHOLD   \n",
       "\n",
       "                                           C_COMMENT  \n",
       "0  to the even, regular platelets. regular, ironi...  \n",
       "1  l accounts. blithely ironic theodolites integr...  \n",
       "2   deposits eat slyly ironic, even instructions....  \n",
       "3   requests. final, regular ideas sleep final accou  \n",
       "4  n accounts will have to unwind. foxes cajole a...  \n"
      ]
     },
     "metadata": {},
     "output_type": "display_data"
    }
   ],
   "source": [
    "%%px\n",
    "\n",
    "@bodo.jit(distributed=[\"rel\"], cache=True)\n",
    "def load_customer(data_folder):\n",
    "    t1 = time.time()\n",
    "    file = data_folder + \"/customer.tbl\"\n",
    "    cols_names = ['C_CUSTKEY', 'C_NAME',\n",
    "            'C_ADDRESS', 'C_NATIONKEY',\n",
    "            'C_PHONE', 'C_ACCTBAL',\n",
    "            'C_MKTSEGMENT', 'C_COMMENT']\n",
    "    cols = {'C_CUSTKEY' : np.int64, 'C_NAME' : str,\n",
    "            'C_ADDRESS' : str, 'C_NATIONKEY' : np.int64,\n",
    "            'C_PHONE' : str, 'C_ACCTBAL' : np.float64,\n",
    "            'C_MKTSEGMENT' : str, 'C_COMMENT' : str}\n",
    "    rel = pd.read_csv(file, sep='|', header=None,\n",
    "        names=cols_names,\n",
    "        dtype=cols\n",
    "        )\n",
    "    print(\"Customer Reading time: \", ((time.time() - t1) * 1000), \" (ms)\")\n",
    "    print(rel.head())\n",
    "    return rel\n",
    "\n",
    "customer = load_customer(\"s3://bodo-examples-data/tpch/s2\")"
   ]
  },
  {
   "cell_type": "code",
   "execution_count": 7,
   "metadata": {
    "execution": {
     "iopub.execute_input": "2022-03-01T20:52:56.650366Z",
     "iopub.status.busy": "2022-03-01T20:52:56.650182Z",
     "iopub.status.idle": "2022-03-01T20:52:59.083820Z",
     "shell.execute_reply": "2022-03-01T20:52:59.083244Z",
     "shell.execute_reply.started": "2022-03-01T20:52:56.650346Z"
    }
   },
   "outputs": [
    {
     "data": {
      "application/vnd.jupyter.widget-view+json": {
       "model_id": "05891e0d028f457bafc72434692c2122",
       "version_major": 2,
       "version_minor": 0
      },
      "text/plain": [
       "%px:   0%|          | 0/4 [00:00<?, ?tasks/s]"
      ]
     },
     "metadata": {},
     "output_type": "display_data"
    },
    {
     "data": {
      "text/plain": [
       "[stdout:0] Nation Reading time:  325.0589370727539  (ms)\n",
       "   N_NATIONKEY     N_NAME  N_REGIONKEY  \\\n",
       "0            0    ALGERIA            0   \n",
       "1            1  ARGENTINA            1   \n",
       "2            2     BRAZIL            1   \n",
       "3            3     CANADA            1   \n",
       "4            4      EGYPT            4   \n",
       "\n",
       "                                           N_COMMENT  \n",
       "0   haggle. carefully final deposits detect slyly...  \n",
       "1  al foxes promise slyly according to the regula...  \n",
       "2  y alongside of the pending deposits. carefully...  \n",
       "3  eas hang ironic, silent packages. slyly regula...  \n",
       "4  y above the carefully unusual theodolites. fin...  \n"
      ]
     },
     "metadata": {},
     "output_type": "display_data"
    }
   ],
   "source": [
    "%%px\n",
    "\n",
    "@bodo.jit(distributed=[\"rel\"], cache=True)\n",
    "def load_nation(data_folder):\n",
    "    t1 = time.time()\n",
    "    file = data_folder + \"/nation.tbl\"\n",
    "    cols_names = ['N_NATIONKEY', 'N_NAME',\n",
    "            'N_REGIONKEY', 'N_COMMENT']\n",
    "    cols = {'N_NATIONKEY' : np.int64, 'N_NAME' : str,\n",
    "            'N_REGIONKEY' : np.int64, 'N_COMMENT' : str}\n",
    "    rel = pd.read_csv(file, sep='|', header=None,\n",
    "        names=cols_names,\n",
    "        dtype=cols\n",
    "        )\n",
    "    print(\"Nation Reading time: \", ((time.time() - t1) * 1000), \" (ms)\")\n",
    "    print(rel.head())\n",
    "    return rel\n",
    "\n",
    "nation = load_nation(\"s3://bodo-examples-data/tpch/s2\")"
   ]
  },
  {
   "cell_type": "code",
   "execution_count": 8,
   "metadata": {
    "execution": {
     "iopub.execute_input": "2022-03-01T20:52:59.084731Z",
     "iopub.status.busy": "2022-03-01T20:52:59.084402Z",
     "iopub.status.idle": "2022-03-01T20:53:01.924393Z",
     "shell.execute_reply": "2022-03-01T20:53:01.923982Z",
     "shell.execute_reply.started": "2022-03-01T20:52:59.084712Z"
    }
   },
   "outputs": [
    {
     "data": {
      "application/vnd.jupyter.widget-view+json": {
       "model_id": "5dc324c2f38c46659954119d2112f190",
       "version_major": 2,
       "version_minor": 0
      },
      "text/plain": [
       "%px:   0%|          | 0/4 [00:00<?, ?tasks/s]"
      ]
     },
     "metadata": {},
     "output_type": "display_data"
    },
    {
     "data": {
      "text/plain": [
       "[stdout:0] Supplier Reading time:  437.79897689819336  (ms)\n",
       "   S_SUPPKEY              S_NAME                            S_ADDRESS  \\\n",
       "0          1  Supplier#000000001   N kD4on9OM Ipw3,gf0JBoQDd7tgrzrddZ   \n",
       "1          2  Supplier#000000002                89eJ5ksX3ImxJQBvxObC,   \n",
       "2          3  Supplier#000000003    q1,G3Pj6OjIuUYfUoH18BFTKP5aU9bEV3   \n",
       "3          4  Supplier#000000004            Bk7ah4CK8SYQTepEmvMkkgMwg   \n",
       "4          5  Supplier#000000005                    Gcdm2rJRzl5qlTVzc   \n",
       "\n",
       "   S_NATIONKEY          S_PHONE  S_ACCTBAL  \\\n",
       "0           17  27-918-335-1736    5755.94   \n",
       "1            5  15-679-861-2259    4032.68   \n",
       "2            1  11-383-516-1199    4192.40   \n",
       "3           15  25-843-787-7479    4641.08   \n",
       "4           11  21-151-690-3663    -283.84   \n",
       "\n",
       "                                           S_COMMENT  \n",
       "0                       each slyly above the careful  \n",
       "1             slyly bold instructions. idle dependen  \n",
       "2  blithely silent requests after the express dep...  \n",
       "3                riously even requests above the exp  \n",
       "4                          . slyly regular pinto bea  \n"
      ]
     },
     "metadata": {},
     "output_type": "display_data"
    }
   ],
   "source": [
    "%%px\n",
    "\n",
    "@bodo.jit(distributed=[\"rel\"], cache=True)\n",
    "def load_supplier(data_folder):\n",
    "    t1 = time.time()    \n",
    "    file = data_folder + \"/supplier.tbl\"\n",
    "    cols_names = ['S_SUPPKEY', 'S_NAME', 'S_ADDRESS',\n",
    "            'S_NATIONKEY', 'S_PHONE', 'S_ACCTBAL',\n",
    "            'S_COMMENT']\n",
    "    cols = {'S_SUPPKEY' : np.int64, 'S_NAME' : str, 'S_ADDRESS' : str,\n",
    "            'S_NATIONKEY' : np.int64, 'S_PHONE' : str, 'S_ACCTBAL' : np.float64,\n",
    "            'S_COMMENT' : str}\n",
    "    rel = pd.read_csv(file, sep='|', header=None,\n",
    "        names=cols_names,\n",
    "        dtype=cols\n",
    "        )\n",
    "    print(\"Supplier Reading time: \", ((time.time() - t1) * 1000), \" (ms)\")\n",
    "    print(rel.head())        \n",
    "    return rel\n",
    "\n",
    "supplier = load_supplier(\"s3://bodo-examples-data/tpch/s2\")"
   ]
  },
  {
   "cell_type": "code",
   "execution_count": 9,
   "metadata": {
    "execution": {
     "iopub.execute_input": "2022-03-01T20:53:01.925923Z",
     "iopub.status.busy": "2022-03-01T20:53:01.925715Z",
     "iopub.status.idle": "2022-03-01T20:53:07.863395Z",
     "shell.execute_reply": "2022-03-01T20:53:07.862949Z",
     "shell.execute_reply.started": "2022-03-01T20:53:01.925900Z"
    }
   },
   "outputs": [
    {
     "data": {
      "application/vnd.jupyter.widget-view+json": {
       "model_id": "5897f136de2645d982c77488d4d30c40",
       "version_major": 2,
       "version_minor": 0
      },
      "text/plain": [
       "%px:   0%|          | 0/4 [00:00<?, ?tasks/s]"
      ]
     },
     "metadata": {},
     "output_type": "display_data"
    },
    {
     "data": {
      "text/plain": [
       "[stdout:0] Partsupp Reading time:  3547.73211479187  (ms)\n",
       "   PS_PARTKEY  PS_SUPPKEY  PS_AVAILQTY  PS_SUPPLYCOST  \\\n",
       "0           1           2         3325         771.64   \n",
       "1           1        5002         8076         993.49   \n",
       "2           1       10002         3956         337.09   \n",
       "3           1       15002         4069         357.84   \n",
       "4           2           3         8895         378.49   \n",
       "\n",
       "                                          PS_COMMENT  \n",
       "0  , even theodolites. regular, final theodolites...  \n",
       "1  ven ideas. quickly even packages print. pendin...  \n",
       "2  after the fluffily ironic deposits? blithely s...  \n",
       "3  al, regular dependencies serve carefully after...  \n",
       "4  nic accounts. final accounts sleep furiously a...  \n"
      ]
     },
     "metadata": {},
     "output_type": "display_data"
    }
   ],
   "source": [
    "%%px\n",
    "\n",
    "@bodo.jit(distributed=[\"rel\"], cache=True)\n",
    "def load_partsupp(data_folder):\n",
    "    t1 = time.time()\n",
    "    file = data_folder + \"/partsupp.tbl\"\n",
    "    cols_names = ['PS_PARTKEY', 'PS_SUPPKEY', 'PS_AVAILQTY',\n",
    "            'PS_SUPPLYCOST', 'PS_COMMENT']\n",
    "    cols = {'PS_PARTKEY' : np.int64, 'PS_SUPPKEY' : np.int64, 'PS_AVAILQTY' : np.int64,\n",
    "            'PS_SUPPLYCOST' : np.float64, 'PS_COMMENT' : str}\n",
    "    rel = pd.read_csv(file, sep='|', header=None,\n",
    "        names=cols_names,\n",
    "        dtype=cols\n",
    "        )\n",
    "    print(\"Partsupp Reading time: \", ((time.time() - t1) * 1000), \" (ms)\")\n",
    "    print(rel.head())\n",
    "    return rel\n",
    "\n",
    "partsupp = load_partsupp(\"s3://bodo-examples-data/tpch/s2\")"
   ]
  },
  {
   "cell_type": "code",
   "execution_count": 10,
   "metadata": {
    "execution": {
     "iopub.execute_input": "2022-03-01T20:53:07.864050Z",
     "iopub.status.busy": "2022-03-01T20:53:07.863902Z",
     "iopub.status.idle": "2022-03-01T20:53:11.492944Z",
     "shell.execute_reply": "2022-03-01T20:53:11.492374Z",
     "shell.execute_reply.started": "2022-03-01T20:53:07.864027Z"
    }
   },
   "outputs": [
    {
     "data": {
      "application/vnd.jupyter.widget-view+json": {
       "model_id": "dfea09755e1a46aba6ccfed70503d82a",
       "version_major": 2,
       "version_minor": 0
      },
      "text/plain": [
       "%px:   0%|          | 0/4 [00:00<?, ?tasks/s]"
      ]
     },
     "metadata": {},
     "output_type": "display_data"
    },
    {
     "data": {
      "text/plain": [
       "[stdout:0] Part Reading time:  1074.1510391235352  (ms)\n",
       "   P_PARTKEY                                    P_NAME          P_MFGR  \\\n",
       "0          1  goldenrod lavender spring chocolate lace  Manufacturer#1   \n",
       "1          2          blush thistle blue yellow saddle  Manufacturer#1   \n",
       "2          3       spring green yellow purple cornsilk  Manufacturer#4   \n",
       "3          4     cornflower chocolate smoke green pink  Manufacturer#3   \n",
       "4          5             forest brown coral puff cream  Manufacturer#3   \n",
       "\n",
       "    P_BRAND                   P_TYPE  P_SIZE P_CONTAINER  P_RETAILPRICE  \\\n",
       "0  Brand#13   PROMO BURNISHED COPPER       7   JUMBO PKG          901.0   \n",
       "1  Brand#13      LARGE BRUSHED BRASS       1     LG CASE          902.0   \n",
       "2  Brand#42  STANDARD POLISHED BRASS      21   WRAP CASE          903.0   \n",
       "3  Brand#34       SMALL PLATED BRASS      14    MED DRUM          904.0   \n",
       "4  Brand#32    STANDARD POLISHED TIN      15      SM PKG          905.0   \n",
       "\n",
       "             P_COMMENT  \n",
       "0      ly. slyly ironi  \n",
       "1     lar accounts amo  \n",
       "2  egular deposits hag  \n",
       "3        p furiously r  \n",
       "4      wake carefully   \n"
      ]
     },
     "metadata": {},
     "output_type": "display_data"
    }
   ],
   "source": [
    "%%px\n",
    "\n",
    "@bodo.jit(distributed=[\"rel\"], cache=True)\n",
    "def load_part(data_folder):\n",
    "    t1 = time.time()\n",
    "    file = data_folder + \"/part.tbl\"\n",
    "    cols_names = ['P_PARTKEY', 'P_NAME', 'P_MFGR', 'P_BRAND',\n",
    "            'P_TYPE', 'P_SIZE', 'P_CONTAINER',\n",
    "            'P_RETAILPRICE', 'P_COMMENT']\n",
    "    cols = {'P_PARTKEY' : np.int64, 'P_NAME' : str, 'P_MFGR' : str, 'P_BRAND' : str,\n",
    "            'P_TYPE' : str, 'P_SIZE' : np.int64, 'P_CONTAINER' : str,\n",
    "            'P_RETAILPRICE' : np.float64, 'P_COMMENT' : str}\n",
    "    rel = pd.read_csv(file, sep='|', header=None,\n",
    "        names=cols_names,\n",
    "        dtype=cols\n",
    "        )\n",
    "    print(\"Part Reading time: \", ((time.time() - t1) * 1000), \" (ms)\")\n",
    "    print(rel.head())\n",
    "    return rel\n",
    "\n",
    "part = load_part(\"s3://bodo-examples-data/tpch/s2\")"
   ]
  },
  {
   "cell_type": "markdown",
   "metadata": {},
   "source": [
    "## Query Definitions\n",
    "\n",
    "This section includes some of the queries using Python (Pandas)"
   ]
  },
  {
   "cell_type": "markdown",
   "metadata": {},
   "source": [
    "### Q1: Pricing Summary Report Query\n",
    "This query reports the amount of businesses that were billed, shipped, and returned.\n",
    "\n",
    "Make sure you have run **`load_lineitem`** from [loading data section](#loading_data) before running this query."
   ]
  },
  {
   "cell_type": "code",
   "execution_count": 11,
   "metadata": {
    "execution": {
     "iopub.execute_input": "2022-03-01T20:53:11.493834Z",
     "iopub.status.busy": "2022-03-01T20:53:11.493554Z",
     "iopub.status.idle": "2022-03-01T20:53:16.762751Z",
     "shell.execute_reply": "2022-03-01T20:53:16.761971Z",
     "shell.execute_reply.started": "2022-03-01T20:53:11.493815Z"
    }
   },
   "outputs": [
    {
     "data": {
      "application/vnd.jupyter.widget-view+json": {
       "model_id": "d0f9202d5b374fc0975ad573e3f83f3d",
       "version_major": 2,
       "version_minor": 0
      },
      "text/plain": [
       "%px:   0%|          | 0/4 [00:00<?, ?tasks/s]"
      ]
     },
     "metadata": {},
     "output_type": "display_data"
    },
    {
     "name": "stderr",
     "output_type": "stream",
     "text": [
      "[1:execute]\n",
      "\u001b[0;31m---------------------------------------------------------------------------\u001b[0m\n",
      "\u001b[0;31mBodoError\u001b[0m                                 Traceback (most recent call last)\n",
      "Input \u001b[0;32mIn [10]\u001b[0m, in \u001b[0;36m<module>\u001b[0;34m\u001b[0m\n",
      "\u001b[1;32m     16\u001b[0m     \u001b[38;5;28mprint\u001b[39m(total\u001b[38;5;241m.\u001b[39mhead(\u001b[38;5;241m10\u001b[39m))\n",
      "\u001b[1;32m     17\u001b[0m     \u001b[38;5;28;01mreturn\u001b[39;00m total\u001b[38;5;241m.\u001b[39mhead(\u001b[38;5;241m10\u001b[39m)\n",
      "\u001b[0;32m---> 19\u001b[0m q1_result \u001b[38;5;241m=\u001b[39m \u001b[43mq1\u001b[49m\u001b[43m(\u001b[49m\u001b[43mlineitem\u001b[49m\u001b[43m)\u001b[49m\n",
      "\n",
      "File \u001b[0;32m/srv/conda/envs/saturn/lib/python3.9/site-packages/bodo/numba_compat.py:781\u001b[0m, in \u001b[0;36m_compile_for_args\u001b[0;34m(***failed resolving arguments***)\u001b[0m\n",
      "\u001b[1;32m    779\u001b[0m     \u001b[38;5;28;01mdel\u001b[39;00m args\n",
      "\u001b[1;32m    780\u001b[0m     \u001b[38;5;28;01mif\u001b[39;00m error:\n",
      "\u001b[0;32m--> 781\u001b[0m         \u001b[38;5;28;01mraise\u001b[39;00m error\n",
      "\u001b[1;32m    782\u001b[0m \u001b[38;5;28;01mreturn\u001b[39;00m tmit__osi\n",
      "\n",
      "\u001b[0;31mBodoError\u001b[0m: \u001b[1m\u001b[1m\u001b[1m\u001b[1mVariable 'lineitem' has distributed flag in function 'q1', but it's not possible to distribute it.\n",
      "Distributed diagnostics:\n",
      "Setting distribution of variable '$188return_value.89' to REP: Distributed analysis replicated return variable '$188return_value.89'. Set distributed flag for the original variable if distributed partitions should be returned.\n",
      "\u001b[1m\n",
      "File \"../../../../../tmp/ipykernel_5546/3857982012.py\", line 17:\u001b[0m\n",
      "\u001b[1m<source missing, REPL/exec in use?>\u001b[0m\u001b[0m\n",
      "\u001b[1m\n",
      "File \"../../../../../tmp/ipykernel_5546/3857982012.py\", line 3:\u001b[0m\n",
      "\u001b[1m<source missing, REPL/exec in use?>\u001b[0m\n",
      "\u001b[0m\u001b[0m\u001b[0m\n",
      "[0:execute]\n",
      "\u001b[0;31m---------------------------------------------------------------------------\u001b[0m\n",
      "\u001b[0;31mBodoError\u001b[0m                                 Traceback (most recent call last)\n",
      "Input \u001b[0;32mIn [10]\u001b[0m, in \u001b[0;36m<module>\u001b[0;34m\u001b[0m\n",
      "\u001b[1;32m     16\u001b[0m     \u001b[38;5;28mprint\u001b[39m(total\u001b[38;5;241m.\u001b[39mhead(\u001b[38;5;241m10\u001b[39m))\n",
      "\u001b[1;32m     17\u001b[0m     \u001b[38;5;28;01mreturn\u001b[39;00m total\u001b[38;5;241m.\u001b[39mhead(\u001b[38;5;241m10\u001b[39m)\n",
      "\u001b[0;32m---> 19\u001b[0m q1_result \u001b[38;5;241m=\u001b[39m \u001b[43mq1\u001b[49m\u001b[43m(\u001b[49m\u001b[43mlineitem\u001b[49m\u001b[43m)\u001b[49m\n",
      "\n",
      "File \u001b[0;32m/srv/conda/envs/saturn/lib/python3.9/site-packages/bodo/numba_compat.py:781\u001b[0m, in \u001b[0;36m_compile_for_args\u001b[0;34m(***failed resolving arguments***)\u001b[0m\n",
      "\u001b[1;32m    779\u001b[0m     \u001b[38;5;28;01mdel\u001b[39;00m args\n",
      "\u001b[1;32m    780\u001b[0m     \u001b[38;5;28;01mif\u001b[39;00m error:\n",
      "\u001b[0;32m--> 781\u001b[0m         \u001b[38;5;28;01mraise\u001b[39;00m error\n",
      "\u001b[1;32m    782\u001b[0m \u001b[38;5;28;01mreturn\u001b[39;00m tmit__osi\n",
      "\n",
      "\u001b[0;31mBodoError\u001b[0m: \u001b[1m\u001b[1m\u001b[1m\u001b[1mVariable 'lineitem' has distributed flag in function 'q1', but it's not possible to distribute it.\n",
      "Distributed diagnostics:\n",
      "Setting distribution of variable '$188return_value.89' to REP: Distributed analysis replicated return variable '$188return_value.89'. Set distributed flag for the original variable if distributed partitions should be returned.\n",
      "\u001b[1m\n",
      "File \"../../../../../tmp/ipykernel_5545/3857982012.py\", line 17:\u001b[0m\n",
      "\u001b[1m<source missing, REPL/exec in use?>\u001b[0m\u001b[0m\n",
      "\u001b[1m\n",
      "File \"../../../../../tmp/ipykernel_5545/3857982012.py\", line 3:\u001b[0m\n",
      "\u001b[1m<source missing, REPL/exec in use?>\u001b[0m\n",
      "\u001b[0m\u001b[0m\u001b[0m\n",
      "[2:execute]\n",
      "\u001b[0;31m---------------------------------------------------------------------------\u001b[0m\n",
      "\u001b[0;31mBodoError\u001b[0m                                 Traceback (most recent call last)\n",
      "Input \u001b[0;32mIn [10]\u001b[0m, in \u001b[0;36m<module>\u001b[0;34m\u001b[0m\n",
      "\u001b[1;32m     16\u001b[0m     \u001b[38;5;28mprint\u001b[39m(total\u001b[38;5;241m.\u001b[39mhead(\u001b[38;5;241m10\u001b[39m))\n",
      "\u001b[1;32m     17\u001b[0m     \u001b[38;5;28;01mreturn\u001b[39;00m total\u001b[38;5;241m.\u001b[39mhead(\u001b[38;5;241m10\u001b[39m)\n",
      "\u001b[0;32m---> 19\u001b[0m q1_result \u001b[38;5;241m=\u001b[39m \u001b[43mq1\u001b[49m\u001b[43m(\u001b[49m\u001b[43mlineitem\u001b[49m\u001b[43m)\u001b[49m\n",
      "\n",
      "File \u001b[0;32m/srv/conda/envs/saturn/lib/python3.9/site-packages/bodo/numba_compat.py:781\u001b[0m, in \u001b[0;36m_compile_for_args\u001b[0;34m(***failed resolving arguments***)\u001b[0m\n",
      "\u001b[1;32m    779\u001b[0m     \u001b[38;5;28;01mdel\u001b[39;00m args\n",
      "\u001b[1;32m    780\u001b[0m     \u001b[38;5;28;01mif\u001b[39;00m error:\n",
      "\u001b[0;32m--> 781\u001b[0m         \u001b[38;5;28;01mraise\u001b[39;00m error\n",
      "\u001b[1;32m    782\u001b[0m \u001b[38;5;28;01mreturn\u001b[39;00m tmit__osi\n",
      "\n",
      "\u001b[0;31mBodoError\u001b[0m: \u001b[1m\u001b[1m\u001b[1m\u001b[1mVariable 'lineitem' has distributed flag in function 'q1', but it's not possible to distribute it.\n",
      "Distributed diagnostics:\n",
      "Setting distribution of variable '$188return_value.89' to REP: Distributed analysis replicated return variable '$188return_value.89'. Set distributed flag for the original variable if distributed partitions should be returned.\n",
      "\u001b[1m\n",
      "File \"../../../../../tmp/ipykernel_5547/3857982012.py\", line 17:\u001b[0m\n",
      "\u001b[1m<source missing, REPL/exec in use?>\u001b[0m\u001b[0m\n",
      "\u001b[1m\n",
      "File \"../../../../../tmp/ipykernel_5547/3857982012.py\", line 3:\u001b[0m\n",
      "\u001b[1m<source missing, REPL/exec in use?>\u001b[0m\n",
      "\u001b[0m\u001b[0m\u001b[0m\n",
      "[3:execute]\n",
      "\u001b[0;31m---------------------------------------------------------------------------\u001b[0m\n",
      "\u001b[0;31mBodoError\u001b[0m                                 Traceback (most recent call last)\n",
      "Input \u001b[0;32mIn [10]\u001b[0m, in \u001b[0;36m<module>\u001b[0;34m\u001b[0m\n",
      "\u001b[1;32m     16\u001b[0m     \u001b[38;5;28mprint\u001b[39m(total\u001b[38;5;241m.\u001b[39mhead(\u001b[38;5;241m10\u001b[39m))\n",
      "\u001b[1;32m     17\u001b[0m     \u001b[38;5;28;01mreturn\u001b[39;00m total\u001b[38;5;241m.\u001b[39mhead(\u001b[38;5;241m10\u001b[39m)\n",
      "\u001b[0;32m---> 19\u001b[0m q1_result \u001b[38;5;241m=\u001b[39m \u001b[43mq1\u001b[49m\u001b[43m(\u001b[49m\u001b[43mlineitem\u001b[49m\u001b[43m)\u001b[49m\n",
      "\n",
      "File \u001b[0;32m/srv/conda/envs/saturn/lib/python3.9/site-packages/bodo/numba_compat.py:781\u001b[0m, in \u001b[0;36m_compile_for_args\u001b[0;34m(***failed resolving arguments***)\u001b[0m\n",
      "\u001b[1;32m    779\u001b[0m     \u001b[38;5;28;01mdel\u001b[39;00m args\n",
      "\u001b[1;32m    780\u001b[0m     \u001b[38;5;28;01mif\u001b[39;00m error:\n",
      "\u001b[0;32m--> 781\u001b[0m         \u001b[38;5;28;01mraise\u001b[39;00m error\n",
      "\u001b[1;32m    782\u001b[0m \u001b[38;5;28;01mreturn\u001b[39;00m tmit__osi\n",
      "\n",
      "\u001b[0;31mBodoError\u001b[0m: \u001b[1m\u001b[1m\u001b[1m\u001b[1mVariable 'lineitem' has distributed flag in function 'q1', but it's not possible to distribute it.\n",
      "Distributed diagnostics:\n",
      "Setting distribution of variable '$188return_value.89' to REP: Distributed analysis replicated return variable '$188return_value.89'. Set distributed flag for the original variable if distributed partitions should be returned.\n",
      "\u001b[1m\n",
      "File \"../../../../../tmp/ipykernel_5548/3857982012.py\", line 17:\u001b[0m\n",
      "\u001b[1m<source missing, REPL/exec in use?>\u001b[0m\u001b[0m\n",
      "\u001b[1m\n",
      "File \"../../../../../tmp/ipykernel_5548/3857982012.py\", line 3:\u001b[0m\n",
      "\u001b[1m<source missing, REPL/exec in use?>\u001b[0m\n",
      "\u001b[0m\u001b[0m\u001b[0m\n"
     ]
    },
    {
     "ename": "AlreadyDisplayedError",
     "evalue": "4 errors",
     "output_type": "error",
     "traceback": [
      "4 errors"
     ]
    }
   ],
   "source": [
    "%%px\n",
    "@bodo.jit(distributed=[\"lineitem\"], cache=True)\n",
    "def q1(lineitem):\n",
    "    t1 = time.time()\n",
    "    sel = lineitem.L_SHIPDATE <= \"1998-09-02\"\n",
    "    flineitem = lineitem[sel]\n",
    "    flineitem[\"DISC_PRICE\"] = flineitem.L_EXTENDEDPRICE * (1 - flineitem.L_DISCOUNT)\n",
    "    flineitem[\"CHARGE\"] = (\n",
    "        flineitem.L_EXTENDEDPRICE * (1 - flineitem.L_DISCOUNT) * (1 + flineitem.L_TAX)\n",
    "    )\n",
    "    gb = flineitem.groupby([\"L_RETURNFLAG\", \"L_LINESTATUS\"], as_index=False)\n",
    "    total = gb.agg({\"L_QUANTITY\": [\"sum\", \"mean\"], \"L_EXTENDEDPRICE\": [\"sum\", \"mean\"],\n",
    "                   \"DISC_PRICE\": \"sum\", \"CHARGE\": \"sum\",\n",
    "                   \"L_DISCOUNT\": \"mean\", \"L_ORDERKEY\": \"count\"})\n",
    "    total = total.sort_values([\"L_RETURNFLAG\", \"L_LINESTATUS\"])\n",
    "    print(\"Execution time: \", ((time.time() - t1) * 1000), \" (ms)\")\n",
    "    print(total.head(10))\n",
    "    return total.head(10)\n",
    "\n",
    "q1_result = q1(lineitem)"
   ]
  },
  {
   "cell_type": "markdown",
   "metadata": {},
   "source": [
    "### Q3: Shipping Priority Query\n",
    "This query retrieves the 10 unshipped orders with the highest value.\n",
    "\n",
    "Make sure you have run **`load_lineitem`, `load_orders`, and `load_customer`** from [loading data section](#loading_data) before running this query."
   ]
  },
  {
   "cell_type": "code",
   "execution_count": null,
   "metadata": {
    "execution": {
     "iopub.status.busy": "2022-03-01T20:53:16.763344Z",
     "iopub.status.idle": "2022-03-01T20:53:16.763746Z",
     "shell.execute_reply": "2022-03-01T20:53:16.763572Z",
     "shell.execute_reply.started": "2022-03-01T20:53:16.763551Z"
    }
   },
   "outputs": [],
   "source": [
    "%%px\n",
    "\n",
    "@bodo.jit(distributed=[\"lineitem\", \"orders\", \"customer\"], cache=True)\n",
    "def q3(lineitem, orders, customer):\n",
    "    date = \"1995-03-04\"    \n",
    "    t1 = time.time()\n",
    "    lsel = lineitem.L_SHIPDATE > date\n",
    "    osel = orders.O_ORDERDATE < date\n",
    "    csel = customer.C_MKTSEGMENT == \"HOUSEHOLD\"\n",
    "    flineitem = lineitem[lsel]\n",
    "    forders = orders[osel]\n",
    "    fcustomer = customer[csel]\n",
    "    jn1 = fcustomer.merge(forders, left_on=\"C_CUSTKEY\", right_on=\"O_CUSTKEY\")\n",
    "    jn2 = jn1.merge(flineitem, left_on=\"O_ORDERKEY\", right_on=\"L_ORDERKEY\")\n",
    "\n",
    "    jn2[\"TMP\"] = jn2.L_EXTENDEDPRICE * (1 - jn2.L_DISCOUNT)\n",
    "\n",
    "    total = (\n",
    "        jn2.groupby(\n",
    "            [\"L_ORDERKEY\", \"O_ORDERDATE\", \"O_SHIPPRIORITY\"], as_index=False\n",
    "        )[\"TMP\"]\n",
    "        .sum()\n",
    "        .sort_values([\"TMP\"], ascending=False)\n",
    "    )\n",
    "    res = total[[\"L_ORDERKEY\", \"TMP\", \"O_ORDERDATE\", \"O_SHIPPRIORITY\"]]\n",
    "\n",
    "    print(\"Execution time: \", ((time.time() - t1) * 1000), \" (ms)\")\n",
    "    print(res.head(10))\n",
    "    return res.head(10)\n",
    "\n",
    "q3_result = q3(lineitem, orders, customer)"
   ]
  },
  {
   "cell_type": "markdown",
   "metadata": {},
   "source": [
    "### Q4: Order Priority Checking Query\n",
    "This query determines how well the order priority system is working and gives an assessment of customer satisfaction.\n",
    "\n",
    "Make sure you have run **`load_lineitem` and `load_orders`** from [loading data section](#loading_data) before running this query."
   ]
  },
  {
   "cell_type": "code",
   "execution_count": null,
   "metadata": {
    "execution": {
     "iopub.status.busy": "2022-03-01T20:53:16.764770Z",
     "iopub.status.idle": "2022-03-01T20:53:16.765103Z",
     "shell.execute_reply": "2022-03-01T20:53:16.764938Z",
     "shell.execute_reply.started": "2022-03-01T20:53:16.764920Z"
    }
   },
   "outputs": [],
   "source": [
    "%%px\n",
    "@bodo.jit(distributed=[\"lineitem\", \"orders\"], cache=True)\n",
    "def q4(lineitem, orders):\n",
    "    date1 = \"1993-11-01\"\n",
    "    date2 = \"1993-08-01\"\n",
    "    t1 = time.time()\n",
    "    lsel = lineitem.L_COMMITDATE < lineitem.L_RECEIPTDATE\n",
    "    osel = (orders.O_ORDERDATE < date1) & (orders.O_ORDERDATE >= date2)\n",
    "    flineitem = lineitem[lsel]\n",
    "    forders = orders[osel]\n",
    "    jn = forders[forders[\"O_ORDERKEY\"].isin(flineitem[\"L_ORDERKEY\"])]\n",
    "    total = (\n",
    "        jn.groupby(\"O_ORDERPRIORITY\", as_index=False)[\"O_ORDERKEY\"]\n",
    "        .count()\n",
    "        .sort_values([\"O_ORDERPRIORITY\"])\n",
    "    )\n",
    "    print(\"Execution time: \", ((time.time() - t1) * 1000), \" (ms)\")\n",
    "    print(total.head(10))\n",
    "    return total.head(10)\n",
    "\n",
    "q4_result = q4(lineitem, orders)"
   ]
  },
  {
   "cell_type": "markdown",
   "metadata": {},
   "source": [
    "### Q6: Forecasting Revenue Change Query\n",
    "This query quantifies the amount of revenue increase that would have resulted from eliminating certain company-wide discounts in a given percentage range in a given year.\n",
    "\n",
    "Make sure you have run **`load_lineitem`** from [loading data section](#loading_data) before running this query."
   ]
  },
  {
   "cell_type": "code",
   "execution_count": null,
   "metadata": {
    "execution": {
     "iopub.status.busy": "2022-03-01T20:53:16.765823Z",
     "iopub.status.idle": "2022-03-01T20:53:16.766466Z",
     "shell.execute_reply": "2022-03-01T20:53:16.766278Z",
     "shell.execute_reply.started": "2022-03-01T20:53:16.766254Z"
    }
   },
   "outputs": [],
   "source": [
    "%%px\n",
    "@bodo.jit(distributed=[\"lineitem\"], cache=True)\n",
    "def q6(lineitem):\n",
    "    date1 = \"1996-01-01\"\n",
    "    date2 = \"1997-01-01\"\n",
    "    t1 = time.time()\n",
    "    sel = (\n",
    "        (lineitem.L_SHIPDATE >= date1)\n",
    "        & (lineitem.L_SHIPDATE < date2)\n",
    "        & (lineitem.L_DISCOUNT >= 0.08)\n",
    "        & (lineitem.L_DISCOUNT <= 0.1)\n",
    "        & (lineitem.L_QUANTITY < 24)\n",
    "    )\n",
    "    flineitem = lineitem[sel]\n",
    "    total = (flineitem.L_EXTENDEDPRICE * flineitem.L_DISCOUNT).sum()\n",
    "    print(\"Execution time: \", ((time.time() - t1) * 1000), \" (ms)\")\n",
    "    print(total)\n",
    "    return total\n",
    "\n",
    "q6_result = q6(lineitem)"
   ]
  },
  {
   "cell_type": "markdown",
   "metadata": {},
   "source": [
    "### Q9: Product Type Profit Measure Query\n",
    "This query determines how much profit is made on a given line of parts, broken out by supplier nation and year.\n",
    "\n",
    "Make sure you have run **`load_lineitem`, `load_orders`, `load_part`, `load_nation`, `load_partsupp`, and `load_supplier`** from [loading data section](#loading_data) before running this query."
   ]
  },
  {
   "cell_type": "code",
   "execution_count": null,
   "metadata": {
    "execution": {
     "iopub.status.busy": "2022-03-01T20:53:16.767212Z",
     "iopub.status.idle": "2022-03-01T20:53:16.767703Z",
     "shell.execute_reply": "2022-03-01T20:53:16.767518Z",
     "shell.execute_reply.started": "2022-03-01T20:53:16.767496Z"
    }
   },
   "outputs": [],
   "source": [
    "%%px\n",
    "@bodo.jit(distributed=[\"lineitem\", \"orders\", \"part\", \"nation\", \"partsupp\", \"supplier\"], cache=True)\n",
    "def q9(lineitem, orders, part, nation, partsupp, supplier):\n",
    "    t1 = time.time()\n",
    "    psel = part.P_NAME.str.contains(\"ghost\")\n",
    "    fpart = part[psel]\n",
    "    jn1 = lineitem.merge(fpart, left_on=\"L_PARTKEY\", right_on=\"P_PARTKEY\")\n",
    "    jn2 = jn1.merge(supplier, left_on=\"L_SUPPKEY\", right_on=\"S_SUPPKEY\")\n",
    "    jn3 = jn2.merge(nation, left_on=\"S_NATIONKEY\", right_on=\"N_NATIONKEY\")\n",
    "    jn4 = partsupp.merge(\n",
    "        jn3, left_on=[\"PS_PARTKEY\", \"PS_SUPPKEY\"], right_on=[\"L_PARTKEY\", \"L_SUPPKEY\"]\n",
    "    )\n",
    "    jn5 = jn4.merge(orders, left_on=\"L_ORDERKEY\", right_on=\"O_ORDERKEY\")\n",
    "    jn5[\"TMP\"] = jn5.L_EXTENDEDPRICE * (1 - jn5.L_DISCOUNT) - (\n",
    "        (1 * jn5.PS_SUPPLYCOST) * jn5.L_QUANTITY\n",
    "    )\n",
    "    jn5[\"O_YEAR\"] = jn5.O_ORDERDATE.dt.year\n",
    "    gb = jn5.groupby([\"N_NAME\", \"O_YEAR\"], as_index=False)[\"TMP\"].sum()\n",
    "    total = gb.sort_values([\"N_NAME\", \"O_YEAR\"], ascending=[True, False])\n",
    "    print(\"Execution time: \", ((time.time() - t1) * 1000), \" (ms)\")\n",
    "    print(total.head(10))\n",
    "    return total.head(10)\n",
    "\n",
    "q9_result = q9(lineitem, orders, part, nation, partsupp, supplier)"
   ]
  },
  {
   "cell_type": "markdown",
   "metadata": {},
   "source": [
    "### Q10: Returned Item Reporting Query\n",
    "This query identifies customers who might be having problems with the parts that are shipped to them.\n",
    "\n",
    "Make sure you have run **`load_lineitem`, `load_orders`, `load_customer`, and `load_nation`** from [loading data section](#loading_data) before running this query."
   ]
  },
  {
   "cell_type": "code",
   "execution_count": null,
   "metadata": {
    "execution": {
     "iopub.status.busy": "2022-03-01T20:53:16.768580Z",
     "iopub.status.idle": "2022-03-01T20:53:16.769062Z",
     "shell.execute_reply": "2022-03-01T20:53:16.768881Z",
     "shell.execute_reply.started": "2022-03-01T20:53:16.768858Z"
    }
   },
   "outputs": [],
   "source": [
    "%%px\n",
    "@bodo.jit(distributed=[\"lineitem\", \"orders\", \"customer\", \"nation\"], cache=True)\n",
    "def q10(lineitem, orders, customer, nation):\n",
    "    date1 = \"1994-11-01\"\n",
    "    date2 = \"1995-02-01\"\n",
    "    t1 = time.time()\n",
    "    osel = (orders.O_ORDERDATE >= date1) & (orders.O_ORDERDATE < date2)\n",
    "    lsel = lineitem.L_RETURNFLAG == \"R\"\n",
    "    forders = orders[osel]\n",
    "    flineitem = lineitem[lsel]\n",
    "    jn1 = flineitem.merge(forders, left_on=\"L_ORDERKEY\", right_on=\"O_ORDERKEY\")\n",
    "    jn2 = jn1.merge(customer, left_on=\"O_CUSTKEY\", right_on=\"C_CUSTKEY\")\n",
    "    jn3 = jn2.merge(nation, left_on=\"C_NATIONKEY\", right_on=\"N_NATIONKEY\")\n",
    "    jn3[\"TMP\"] = jn3.L_EXTENDEDPRICE * (1.0 - jn3.L_DISCOUNT)\n",
    "    gb = jn3.groupby(\n",
    "        [\n",
    "            \"C_CUSTKEY\",\n",
    "            \"C_NAME\",\n",
    "            \"C_ACCTBAL\",\n",
    "            \"C_PHONE\",\n",
    "            \"N_NAME\",\n",
    "            \"C_ADDRESS\",\n",
    "            \"C_COMMENT\",\n",
    "        ],\n",
    "        as_index=False,\n",
    "    )[\"TMP\"].sum()\n",
    "    total = gb.sort_values(\"TMP\", ascending=False)\n",
    "    print(\"Execution time: \", ((time.time() - t1) * 1000), \" (ms)\")\n",
    "    print(total.head(10))\n",
    "    return total.head(10)\n",
    "\n",
    "q10_result = q10(lineitem, orders, customer, nation)"
   ]
  },
  {
   "cell_type": "markdown",
   "metadata": {},
   "source": [
    "### Q12: Shipping Modes and Order Priority Query\n",
    "This query determines whether selecting less expensive modes of shipping is negatively affecting the critical-priority orders by causing more parts to be received by customers after the committed date.\n",
    "\n",
    "Make sure you have run **`load_lineitem` and `load_orders`** from [loading data section](#loading_data) before running this query."
   ]
  },
  {
   "cell_type": "code",
   "execution_count": null,
   "metadata": {
    "execution": {
     "iopub.status.busy": "2022-03-01T20:53:16.769816Z",
     "iopub.status.idle": "2022-03-01T20:53:16.770311Z",
     "shell.execute_reply": "2022-03-01T20:53:16.770135Z",
     "shell.execute_reply.started": "2022-03-01T20:53:16.770106Z"
    }
   },
   "outputs": [],
   "source": [
    "%%px\n",
    "@bodo.jit(distributed=[\"lineitem\", \"orders\"], cache=True)\n",
    "def q12(lineitem, orders):\n",
    "    date1 = \"1994-01-01\"\n",
    "    date2 = \"1995-01-01\"\n",
    "    t1 = time.time()\n",
    "    sel = (\n",
    "        (lineitem.L_RECEIPTDATE < date2)\n",
    "        & (lineitem.L_COMMITDATE < date2)\n",
    "        & (lineitem.L_SHIPDATE < date2)\n",
    "        & (lineitem.L_SHIPDATE < lineitem.L_COMMITDATE)\n",
    "        & (lineitem.L_COMMITDATE < lineitem.L_RECEIPTDATE)\n",
    "        & (lineitem.L_RECEIPTDATE >= date1)\n",
    "        & ((lineitem.L_SHIPMODE == \"MAIL\") | (lineitem.L_SHIPMODE == \"SHIP\"))\n",
    "    )\n",
    "    flineitem = lineitem[sel]\n",
    "    jn = flineitem.merge(orders, left_on=\"L_ORDERKEY\", right_on=\"O_ORDERKEY\")\n",
    "\n",
    "    def g1(x):\n",
    "        return ((x == \"1-URGENT\") | (x == \"2-HIGH\")).sum()\n",
    "\n",
    "    def g2(x):\n",
    "        return ((x != \"1-URGENT\") & (x != \"2-HIGH\")).sum()\n",
    "\n",
    "    total = jn.groupby(\"L_SHIPMODE\", as_index=False)[\"O_ORDERPRIORITY\"].agg((g1, g2))\n",
    "    total = total.sort_values(\"L_SHIPMODE\")\n",
    "    print(\"Execution time: \", ((time.time() - t1) * 1000), \" (ms)\")\n",
    "    print(total.head(10))\n",
    "    return total.head(10)\n",
    "\n",
    "q12_result = q12(lineitem, orders)"
   ]
  },
  {
   "cell_type": "markdown",
   "metadata": {},
   "source": [
    "### Q14: Promotion Effect Query\n",
    "This query monitors the market response to a promotion such as TV advertisements or a special campaign.\n",
    "\n",
    "Make sure you have run **`load_lineitem`** and **`load_part`** from [loading data section](#loading_data) before running this query."
   ]
  },
  {
   "cell_type": "code",
   "execution_count": null,
   "metadata": {
    "execution": {
     "iopub.status.busy": "2022-03-01T20:53:16.770991Z",
     "iopub.status.idle": "2022-03-01T20:53:16.771483Z",
     "shell.execute_reply": "2022-03-01T20:53:16.771309Z",
     "shell.execute_reply.started": "2022-03-01T20:53:16.771286Z"
    }
   },
   "outputs": [],
   "source": [
    "%%px\n",
    "@bodo.jit(distributed=[\"lineitem\", \"part\"], cache=True)\n",
    "def q14(lineitem, part):\n",
    "    startDate = \"1994-03-01\"\n",
    "    endDate = \"1994-04-01\"\n",
    "    p_type_like = \"PROMO\"\n",
    "    t1 = time.time()\n",
    "    sel = (lineitem.L_SHIPDATE >= startDate) & (lineitem.L_SHIPDATE < endDate)\n",
    "    flineitem = lineitem[sel]\n",
    "    jn = flineitem.merge(part, left_on=\"L_PARTKEY\", right_on=\"P_PARTKEY\")\n",
    "    jn[\"TMP\"] = jn.L_EXTENDEDPRICE * (1.0 - jn.L_DISCOUNT)\n",
    "    total = jn[jn.P_TYPE.str.startswith(p_type_like)].TMP.sum() * 100 / jn.TMP.sum()\n",
    "    print(\"Execution time: \", ((time.time() - t1) * 1000), \" (ms)\")\n",
    "    print(total)\n",
    "    return total\n",
    "\n",
    "q14_result = q14(lineitem, part)"
   ]
  },
  {
   "cell_type": "markdown",
   "metadata": {},
   "source": [
    "### Q18: Large Volume Customer Query\n",
    "This query ranks customers based on their having placed a large quantity order. Large quantity orders are defined as those orders whose total quantity is above a certain level.\n",
    "\n",
    "Make sure you have run **`load_lineitem`, `load_orders`, and `load_customer`** from [loading data section](#loading_data) before running this query."
   ]
  },
  {
   "cell_type": "code",
   "execution_count": null,
   "metadata": {
    "execution": {
     "iopub.status.busy": "2022-03-01T20:53:16.772099Z",
     "iopub.status.idle": "2022-03-01T20:53:16.772501Z",
     "shell.execute_reply": "2022-03-01T20:53:16.772332Z",
     "shell.execute_reply.started": "2022-03-01T20:53:16.772312Z"
    }
   },
   "outputs": [],
   "source": [
    "%%px\n",
    "@bodo.jit(distributed=[\"lineitem\", \"orders\", \"customer\"], cache=True)\n",
    "def q18(lineitem, orders, customer):\n",
    "    t1 = time.time()\n",
    "    gb1 = lineitem.groupby(\"L_ORDERKEY\", as_index=False)[\"L_QUANTITY\"].sum()\n",
    "    fgb1 = gb1[gb1.L_QUANTITY > 300]\n",
    "    jn1 = fgb1.merge(orders, left_on=\"L_ORDERKEY\", right_on=\"O_ORDERKEY\")\n",
    "    jn2 = jn1.merge(customer, left_on=\"O_CUSTKEY\", right_on=\"C_CUSTKEY\")\n",
    "    gb2 = jn2.groupby(\n",
    "        [\"C_NAME\", \"C_CUSTKEY\", \"O_ORDERKEY\", \"O_ORDERDATE\", \"O_TOTALPRICE\"],\n",
    "        as_index=False,\n",
    "    )[\"L_QUANTITY\"].sum()\n",
    "    total = gb2.sort_values([\"O_TOTALPRICE\", \"O_ORDERDATE\"], ascending=[False, True])\n",
    "    print(\"Execution time: \", ((time.time() - t1) * 1000), \" (ms)\")\n",
    "    print(total.head(10))\n",
    "    return total.head(10)\n",
    "\n",
    "q18_result = q18(lineitem, orders, customer)"
   ]
  },
  {
   "cell_type": "markdown",
   "metadata": {},
   "source": [
    "### Q19: Discounted Revenue Query\n",
    "This query reports the gross discounted revenue attributed to the sale of selected parts handled in a particular manner.\n",
    "\n",
    "Make sure you have run **`load_lineitem`** and **`load_part`** from [loading data section](#loading_data) before running this query."
   ]
  },
  {
   "cell_type": "code",
   "execution_count": null,
   "metadata": {
    "execution": {
     "iopub.status.busy": "2022-03-01T20:53:16.773414Z",
     "iopub.status.idle": "2022-03-01T20:53:16.773739Z",
     "shell.execute_reply": "2022-03-01T20:53:16.773580Z",
     "shell.execute_reply.started": "2022-03-01T20:53:16.773561Z"
    }
   },
   "outputs": [],
   "source": [
    "%%px\n",
    "@bodo.jit(distributed=[\"lineitem\", \"part\"], cache=True)\n",
    "def q19(lineitem, part):\n",
    "    Brand31 = \"Brand#31\"\n",
    "    Brand43 = \"Brand#43\"\n",
    "    SMBOX = \"SM BOX\"\n",
    "    SMCASE = \"SM CASE\"\n",
    "    SMPACK = \"SM PACK\"\n",
    "    SMPKG = \"SM PKG\"\n",
    "    MEDBAG = \"MED BAG\"\n",
    "    MEDBOX = \"MED BOX\"\n",
    "    MEDPACK = \"MED PACK\"\n",
    "    MEDPKG = \"MED PKG\"\n",
    "    LGBOX = \"LG BOX\"\n",
    "    LGCASE = \"LG CASE\"\n",
    "    LGPACK = \"LG PACK\"\n",
    "    LGPKG = \"LG PKG\"\n",
    "    DELIVERINPERSON = \"DELIVER IN PERSON\"\n",
    "    AIR = \"AIR\"\n",
    "    AIRREG = \"AIRREG\"\n",
    "    t1 = time.time()\n",
    "    lsel = (\n",
    "        (\n",
    "            ((lineitem.L_QUANTITY <= 36) & (lineitem.L_QUANTITY >= 26))\n",
    "            | ((lineitem.L_QUANTITY <= 25) & (lineitem.L_QUANTITY >= 15))\n",
    "            | ((lineitem.L_QUANTITY <= 14) & (lineitem.L_QUANTITY >= 4))\n",
    "        )\n",
    "        & (lineitem.L_SHIPINSTRUCT == DELIVERINPERSON)\n",
    "        & ((lineitem.L_SHIPMODE == AIR) | (lineitem.L_SHIPMODE == AIRREG))\n",
    "    )\n",
    "    psel = (part.P_SIZE >= 1) & (\n",
    "        (\n",
    "            (part.P_SIZE <= 5)\n",
    "            & (part.P_BRAND == Brand31)\n",
    "            & (\n",
    "                (part.P_CONTAINER == SMBOX)\n",
    "                | (part.P_CONTAINER == SMCASE)\n",
    "                | (part.P_CONTAINER == SMPACK)\n",
    "                | (part.P_CONTAINER == SMPKG)\n",
    "            )\n",
    "        )\n",
    "        | (\n",
    "            (part.P_SIZE <= 10)\n",
    "            & (part.P_BRAND == Brand43)\n",
    "            & (\n",
    "                (part.P_CONTAINER == MEDBAG)\n",
    "                | (part.P_CONTAINER == MEDBOX)\n",
    "                | (part.P_CONTAINER == MEDPACK)\n",
    "                | (part.P_CONTAINER == MEDPKG)\n",
    "            )\n",
    "        )\n",
    "        | (\n",
    "            (part.P_SIZE <= 15)\n",
    "            & (part.P_BRAND == Brand43)\n",
    "            & (\n",
    "                (part.P_CONTAINER == LGBOX)\n",
    "                | (part.P_CONTAINER == LGCASE)\n",
    "                | (part.P_CONTAINER == LGPACK)\n",
    "                | (part.P_CONTAINER == LGPKG)\n",
    "            )\n",
    "        )\n",
    "    )\n",
    "    flineitem = lineitem[lsel]\n",
    "    fpart = part[psel]\n",
    "    jn = flineitem.merge(fpart, left_on=\"L_PARTKEY\", right_on=\"P_PARTKEY\")\n",
    "    jnsel = (\n",
    "        (jn.P_BRAND == Brand31)\n",
    "        & (\n",
    "            (jn.P_CONTAINER == SMBOX)\n",
    "            | (jn.P_CONTAINER == SMCASE)\n",
    "            | (jn.P_CONTAINER == SMPACK)\n",
    "            | (jn.P_CONTAINER == SMPKG)\n",
    "        )\n",
    "        & (jn.L_QUANTITY >= 4)\n",
    "        & (jn.L_QUANTITY <= 14)\n",
    "        & (jn.P_SIZE <= 5)\n",
    "        | (jn.P_BRAND == Brand43)\n",
    "        & (\n",
    "            (jn.P_CONTAINER == MEDBAG)\n",
    "            | (jn.P_CONTAINER == MEDBOX)\n",
    "            | (jn.P_CONTAINER == MEDPACK)\n",
    "            | (jn.P_CONTAINER == MEDPKG)\n",
    "        )\n",
    "        & (jn.L_QUANTITY >= 15)\n",
    "        & (jn.L_QUANTITY <= 25)\n",
    "        & (jn.P_SIZE <= 10)\n",
    "        | (jn.P_BRAND == Brand43)\n",
    "        & (\n",
    "            (jn.P_CONTAINER == LGBOX)\n",
    "            | (jn.P_CONTAINER == LGCASE)\n",
    "            | (jn.P_CONTAINER == LGPACK)\n",
    "            | (jn.P_CONTAINER == LGPKG)\n",
    "        )\n",
    "        & (jn.L_QUANTITY >= 26)\n",
    "        & (jn.L_QUANTITY <= 36)\n",
    "        & (jn.P_SIZE <= 15)\n",
    "    )\n",
    "    jn = jn[jnsel]\n",
    "    total = (jn.L_EXTENDEDPRICE * (1.0 - jn.L_DISCOUNT)).sum()\n",
    "    print(\"Execution time: \", ((time.time() - t1) * 1000), \" (ms)\")\n",
    "    print(total)\n",
    "    return total\n",
    "\n",
    "q19_result = q19(lineitem, part)"
   ]
  },
  {
   "cell_type": "markdown",
   "metadata": {},
   "source": [
    "### Q20: Potential Part Promotion Query\n",
    "This query identifies suppliers in a particular nation having selected parts that may be candidates for a promotional offer.\n",
    "\n",
    "Make sure you have run **`load_lineitem`, `load_part`, `load_nation`, `load_partsupp`, and `load_supplier`** from [loading data section](#loading_data) before running this query."
   ]
  },
  {
   "cell_type": "code",
   "execution_count": null,
   "metadata": {
    "execution": {
     "iopub.status.busy": "2022-03-01T20:53:16.774396Z",
     "iopub.status.idle": "2022-03-01T20:53:16.774865Z",
     "shell.execute_reply": "2022-03-01T20:53:16.774691Z",
     "shell.execute_reply.started": "2022-03-01T20:53:16.774668Z"
    }
   },
   "outputs": [],
   "source": [
    "%%px\n",
    "@bodo.jit(distributed=[\"lineitem\", \"part\", \"nation\", \"partsupp\", \"supplier\"], cache=True)\n",
    "def q20(lineitem, part, nation, partsupp, supplier):\n",
    "    date1 = \"1996-01-01\"\n",
    "    date2 = \"1997-01-01\"\n",
    "    t1 = time.time()\n",
    "    psel = part.P_NAME.str.startswith(\"azure\")\n",
    "    nsel = nation.N_NAME == \"JORDAN\"\n",
    "    lsel = (lineitem.L_SHIPDATE >= date1) & (lineitem.L_SHIPDATE < date2)\n",
    "    fpart = part[psel]\n",
    "    fnation = nation[nsel]\n",
    "    flineitem = lineitem[lsel]\n",
    "    jn1 = fpart.merge(partsupp, left_on=\"P_PARTKEY\", right_on=\"PS_PARTKEY\")\n",
    "    jn2 = jn1.merge(\n",
    "        flineitem,\n",
    "        left_on=[\"PS_PARTKEY\", \"PS_SUPPKEY\"],\n",
    "        right_on=[\"L_PARTKEY\", \"L_SUPPKEY\"],\n",
    "    )\n",
    "    gb = jn2.groupby([\"PS_PARTKEY\", \"PS_SUPPKEY\", \"PS_AVAILQTY\"], as_index=False)[\n",
    "        \"L_QUANTITY\"\n",
    "    ].sum()\n",
    "    gbsel = gb.PS_AVAILQTY > (0.5 * gb.L_QUANTITY)\n",
    "    fgb = gb[gbsel]\n",
    "    jn3 = fgb.merge(supplier, left_on=\"PS_SUPPKEY\", right_on=\"S_SUPPKEY\")\n",
    "    jn4 = fnation.merge(jn3, left_on=\"N_NATIONKEY\", right_on=\"S_NATIONKEY\")\n",
    "    jn4 = jn4[[\"S_NAME\", \"S_ADDRESS\"]]\n",
    "    total = jn4.sort_values(\"S_NAME\").drop_duplicates()\n",
    "    print(\"Execution time: \", ((time.time() - t1) * 1000), \" (ms)\")\n",
    "    print(total.head(10))\n",
    "    return total.head(10)\n",
    "\n",
    "q20_result = q20(lineitem, part, nation, partsupp, supplier)"
   ]
  },
  {
   "cell_type": "code",
   "execution_count": null,
   "metadata": {
    "execution": {
     "iopub.status.busy": "2022-03-01T20:53:16.775552Z",
     "iopub.status.idle": "2022-03-01T20:53:16.776012Z",
     "shell.execute_reply": "2022-03-01T20:53:16.775837Z",
     "shell.execute_reply.started": "2022-03-01T20:53:16.775814Z"
    },
    "tags": []
   },
   "outputs": [
    {
     "name": "stdout",
     "output_type": "stream",
     "text": [
      "Stopping controller\n"
     ]
    },
    {
     "name": "stderr",
     "output_type": "stream",
     "text": [
      "Stopping cluster <Cluster(cluster_id='1646167676-tnkz', profile='default', controller=<running>, engine_sets=['1646167677'])>\n"
     ]
    },
    {
     "name": "stdout",
     "output_type": "stream",
     "text": [
      "Failed to remove /home/jovyan/.ipython/profile_default/log/ipcontroller-1646167676-tnkz-5481.log: [Errno 2] No such file or directory: '/home/jovyan/.ipython/profile_default/log/ipcontroller-1646167676-tnkz-5481.log'\n",
      "Stopping engine(s): 1646167677\n",
      "Controller stopped: {'exit_code': 0, 'pid': 5511, 'identifier': 'ipcontroller-1646167676-tnkz-5481'}\n"
     ]
    }
   ],
   "source": [
    "# To stop the cluster run the following command.\n",
    "rc.cluster.stop_cluster_sync()"
   ]
  }
 ],
 "metadata": {
  "kernelspec": {
   "display_name": "saturn (Python 3)",
   "language": "python",
   "name": "python3"
  },
  "language_info": {
   "codemirror_mode": {
    "name": "ipython",
    "version": 3
   },
   "file_extension": ".py",
   "mimetype": "text/x-python",
   "name": "python",
   "nbconvert_exporter": "python",
   "pygments_lexer": "ipython3",
   "version": "3.9.9"
  }
 },
 "nbformat": 4,
 "nbformat_minor": 4
}
