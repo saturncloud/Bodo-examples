{
 "cells": [
  {
   "cell_type": "markdown",
   "metadata": {},
   "source": [
    "# Chicago Crimes\n",
    "This examples shows an exploratory data analysis (EDA)  of crimes in Chicago. \n",
    "\n",
    "Original example can be found [here](https://medium.com/@ahsanzafar222/chicago-crime-data-cleaning-and-eda-a744c687a291) and [here](https://www.kaggle.com/fahd09/eda-of-crime-in-chicago-2005-2016).\n"
   ]
  },
  {
   "cell_type": "markdown",
   "metadata": {},
   "source": [
    "### Notes on running these queries:\n",
    "\n",
    "Bodo is used by defaults, which distributes data chunks across cores automatically.\n",
    "\n",
    "Using dataset found [here](https://www.kaggle.com/currie32/crimes-in-chicago) which is ~1.5GB.\n",
    "\n",
    "To run the code:\n",
    "1. Make sure you [add your AWS account credentials to Saturn Cloud](https://saturncloud.io/docs/examples/python/load-data/qs-load-data-s3/#create-aws-credentials) to access the data.\n",
    "2. If you want to run a query in regular pandas:\n",
    "    1. Comment lines with Jupyter parallel magic (%%px) and bodo decorator (@bodo.jit) from all the code cells.\n",
    "    2. Then, re-run cells from the beginning.\n"
   ]
  },
  {
   "cell_type": "markdown",
   "metadata": {},
   "source": [
    "### Start an IPyParallel cluster\n",
    "Run the following code in a cell to start an IPyParallel cluster. 4 cores are used in this example. "
   ]
  },
  {
   "cell_type": "code",
   "execution_count": 1,
   "metadata": {
    "execution": {
     "iopub.execute_input": "2022-03-01T22:17:25.449106Z",
     "iopub.status.busy": "2022-03-01T22:17:25.448813Z",
     "iopub.status.idle": "2022-03-01T22:17:32.220971Z",
     "shell.execute_reply": "2022-03-01T22:17:32.220347Z",
     "shell.execute_reply.started": "2022-03-01T22:17:25.449056Z"
    }
   },
   "outputs": [
    {
     "name": "stdout",
     "output_type": "stream",
     "text": [
      "Starting 4 engines with <class 'ipyparallel.cluster.launcher.MPIEngineSetLauncher'>\n"
     ]
    },
    {
     "data": {
      "application/vnd.jupyter.widget-view+json": {
       "model_id": "9c36634e3a9341f2a51bd877c61e0fce",
       "version_major": 2,
       "version_minor": 0
      },
      "text/plain": [
       "  0%|          | 0/4 [00:00<?, ?engine/s]"
      ]
     },
     "metadata": {},
     "output_type": "display_data"
    }
   ],
   "source": [
    "import ipyparallel as ipp\n",
    "\n",
    "import psutil\n",
    "\n",
    "n = min(psutil.cpu_count(logical=False), 8)\n",
    "rc = ipp.Cluster(engines=\"mpi\", n=n).start_and_connect_sync(activate=True)"
   ]
  },
  {
   "cell_type": "markdown",
   "metadata": {},
   "source": [
    "### Verifying your setup\n",
    "Run the following code to verify that your IPyParallel cluster is set up correctly:"
   ]
  },
  {
   "cell_type": "code",
   "execution_count": 2,
   "metadata": {
    "execution": {
     "iopub.execute_input": "2022-03-01T22:17:32.221803Z",
     "iopub.status.busy": "2022-03-01T22:17:32.221608Z",
     "iopub.status.idle": "2022-03-01T22:17:33.515129Z",
     "shell.execute_reply": "2022-03-01T22:17:33.514619Z",
     "shell.execute_reply.started": "2022-03-01T22:17:32.221782Z"
    }
   },
   "outputs": [
    {
     "data": {
      "text/plain": [
       "[stdout:3] Hello World from rank 3. Total ranks=4\n"
      ]
     },
     "metadata": {},
     "output_type": "display_data"
    },
    {
     "data": {
      "text/plain": [
       "[stdout:0] Hello World from rank 0. Total ranks=4\n"
      ]
     },
     "metadata": {},
     "output_type": "display_data"
    },
    {
     "data": {
      "text/plain": [
       "[stdout:1] Hello World from rank 1. Total ranks=4\n"
      ]
     },
     "metadata": {},
     "output_type": "display_data"
    },
    {
     "data": {
      "text/plain": [
       "[stdout:2] Hello World from rank 2. Total ranks=4\n"
      ]
     },
     "metadata": {},
     "output_type": "display_data"
    }
   ],
   "source": [
    "%%px\n",
    "import bodo\n",
    "\n",
    "print(f\"Hello World from rank {bodo.get_rank()}. Total ranks={bodo.get_size()}\")"
   ]
  },
  {
   "cell_type": "markdown",
   "metadata": {},
   "source": [
    "## Importing the Packages\n",
    "\n",
    "These are the main packages we are going to work with:\n",
    " - Bodo to parallelize Python code automatically\n",
    " - Pandas to work with data"
   ]
  },
  {
   "cell_type": "code",
   "execution_count": 3,
   "metadata": {
    "execution": {
     "iopub.execute_input": "2022-03-01T22:17:33.516636Z",
     "iopub.status.busy": "2022-03-01T22:17:33.516262Z",
     "iopub.status.idle": "2022-03-01T22:17:33.529408Z",
     "shell.execute_reply": "2022-03-01T22:17:33.528947Z",
     "shell.execute_reply.started": "2022-03-01T22:17:33.516616Z"
    },
    "tags": []
   },
   "outputs": [],
   "source": [
    "%%px\n",
    "import warnings\n",
    "\n",
    "warnings.filterwarnings(\"ignore\")\n",
    "\n",
    "import time\n",
    "\n",
    "import bodo\n",
    "import pandas as pd"
   ]
  },
  {
   "cell_type": "markdown",
   "metadata": {},
   "source": [
    "## Load Crimes Data in Chicago 2005 - 2017"
   ]
  },
  {
   "cell_type": "code",
   "execution_count": 4,
   "metadata": {
    "execution": {
     "iopub.execute_input": "2022-03-01T22:17:33.530116Z",
     "iopub.status.busy": "2022-03-01T22:17:33.529933Z",
     "iopub.status.idle": "2022-03-01T22:18:04.526426Z",
     "shell.execute_reply": "2022-03-01T22:18:04.526015Z",
     "shell.execute_reply.started": "2022-03-01T22:17:33.530098Z"
    }
   },
   "outputs": [
    {
     "data": {
      "application/vnd.jupyter.widget-view+json": {
       "model_id": "cb35c139f65145a0b4749af9b5544581",
       "version_major": 2,
       "version_minor": 0
      },
      "text/plain": [
       "%px:   0%|          | 0/4 [00:00<?, ?tasks/s]"
      ]
     },
     "metadata": {},
     "output_type": "display_data"
    },
    {
     "data": {
      "text/plain": [
       "[stdout:1] Empty DataFrame\n",
       "Columns: [Unnamed: 0, ID, Case Number, Date, Block, IUCR, Primary Type, Description, Location Description, Arrest, Domestic, Beat, District, Ward, Community Area, FBI Code, X Coordinate, Y Coordinate, Year, Updated On, Latitude, Longitude, Location]\n",
       "Index: []\n",
       "\n",
       "[0 rows x 23 columns]\n"
      ]
     },
     "metadata": {},
     "output_type": "display_data"
    },
    {
     "data": {
      "text/plain": [
       "[stdout:3] Empty DataFrame\n",
       "Columns: [Unnamed: 0, ID, Case Number, Date, Block, IUCR, Primary Type, Description, Location Description, Arrest, Domestic, Beat, District, Ward, Community Area, FBI Code, X Coordinate, Y Coordinate, Year, Updated On, Latitude, Longitude, Location]\n",
       "Index: []\n",
       "\n",
       "[0 rows x 23 columns]\n"
      ]
     },
     "metadata": {},
     "output_type": "display_data"
    },
    {
     "data": {
      "text/plain": [
       "[stdout:2] Empty DataFrame\n",
       "Columns: [Unnamed: 0, ID, Case Number, Date, Block, IUCR, Primary Type, Description, Location Description, Arrest, Domestic, Beat, District, Ward, Community Area, FBI Code, X Coordinate, Y Coordinate, Year, Updated On, Latitude, Longitude, Location]\n",
       "Index: []\n",
       "\n",
       "[0 rows x 23 columns]\n"
      ]
     },
     "metadata": {},
     "output_type": "display_data"
    },
    {
     "data": {
      "text/plain": [
       "[stdout:0] Reading time:  29582.451105117798  (ms)\n",
       "         Unnamed: 0    ID Case Number                    Date  \\\n",
       "1324003     4897380  3012    HL101040  01/01/2005 01:15:00 PM   \n",
       "1324004     4898204  3013    HK826899  01/02/2005 09:45:00 PM   \n",
       "1324005     4898986  3014    HL106602  01/04/2005 04:39:00 PM   \n",
       "1324006     4899770  3015    HL107444  01/05/2005 04:07:00 AM   \n",
       "1324007     4900593  3016    HL112637  01/08/2005 03:15:00 AM   \n",
       "\n",
       "                         Block  IUCR Primary Type          Description  \\\n",
       "1324003  076XX S GREENWOOD AVE  0110     HOMICIDE  FIRST DEGREE MURDER   \n",
       "1324004        029XX E 82ND ST  0110     HOMICIDE  FIRST DEGREE MURDER   \n",
       "1324005  070XX S CONSTANCE AVE  0110     HOMICIDE  FIRST DEGREE MURDER   \n",
       "1324006     095XX S COLFAX AVE  0110     HOMICIDE  FIRST DEGREE MURDER   \n",
       "1324007      015XX N DAYTON ST  0110     HOMICIDE  FIRST DEGREE MURDER   \n",
       "\n",
       "        Location Description  Arrest  ...  Ward  Community Area  FBI Code  \\\n",
       "1324003           VACANT LOT    True  ...   8.0            69.0       01A   \n",
       "1324004               STREET    True  ...   7.0            46.0       01A   \n",
       "1324005               STREET   False  ...   5.0            43.0       01A   \n",
       "1324006                 AUTO   False  ...   7.0            51.0       01A   \n",
       "1324007                 CLUB    True  ...  43.0             8.0       01A   \n",
       "\n",
       "         X Coordinate  Y Coordinate  Year              Updated On   Latitude  \\\n",
       "1324003     1184881.0     1854385.0  2005  08/17/2015 03:03:40 PM  41.755589   \n",
       "1324004     1197086.0     1851161.0  2005  08/17/2015 03:03:40 PM  41.746447   \n",
       "1324005     1189760.0     1858598.0  2005  08/17/2015 03:03:40 PM  41.767034   \n",
       "1324006     1195168.0     1842391.0  2005  08/17/2015 03:03:40 PM  41.722429   \n",
       "1324007     1170405.0     1910128.0  2005  08/17/2015 03:03:40 PM  41.908880   \n",
       "\n",
       "         Longitude                       Location  \n",
       "1324003 -87.598021  (41.755589111, -87.598020614)  \n",
       "1324004 -87.553400  (41.746447258, -87.553400264)  \n",
       "1324005 -87.580005  (41.767034119, -87.580005338)  \n",
       "1324006 -87.560717  (41.722429119, -87.560716591)  \n",
       "1324007 -87.649445  (41.908880377, -87.649445039)  \n",
       "\n",
       "[5 rows x 23 columns]\n"
      ]
     },
     "metadata": {},
     "output_type": "display_data"
    }
   ],
   "source": [
    "%%px\n",
    "@bodo.jit(distributed=[\"crimes\"], cache=True)\n",
    "def load_chicago_crimes():\n",
    "    t1 = time.time()\n",
    "    crimes1 = pd.read_csv(\n",
    "        \"s3://bodo-examples-data/chicago-crimes/Chicago_Crimes_2005_to_2007.csv\"\n",
    "    )\n",
    "    crimes2 = pd.read_csv(\n",
    "        \"s3://bodo-examples-data/chicago-crimes/Chicago_Crimes_2008_to_2011.csv\"\n",
    "    )\n",
    "    crimes3 = pd.read_csv(\n",
    "        \"s3://bodo-examples-data/chicago-crimes/Chicago_Crimes_2012_to_2017.csv\"\n",
    "    )\n",
    "    crimes = pd.concat([crimes1, crimes2, crimes3], ignore_index=False, axis=0)\n",
    "    crimes = crimes.sort_values(by=\"ID\")\n",
    "    print(\"Reading time: \", ((time.time() - t1) * 1000), \" (ms)\")\n",
    "    print(crimes.head())\n",
    "    return crimes\n",
    "\n",
    "\n",
    "crimes = load_chicago_crimes()"
   ]
  },
  {
   "cell_type": "markdown",
   "metadata": {},
   "source": [
    "## Preprocessing and Cleaning\n",
    " 1. Drop duplicated cases, filter unused columns, and add day of week and date of the crime.\n",
    " 2. Keep only the most frequent crime type categories.\n"
   ]
  },
  {
   "cell_type": "code",
   "execution_count": 5,
   "metadata": {
    "execution": {
     "iopub.execute_input": "2022-03-01T22:18:04.527240Z",
     "iopub.status.busy": "2022-03-01T22:18:04.527054Z",
     "iopub.status.idle": "2022-03-01T22:18:13.034458Z",
     "shell.execute_reply": "2022-03-01T22:18:13.034035Z",
     "shell.execute_reply.started": "2022-03-01T22:18:04.527222Z"
    },
    "tags": []
   },
   "outputs": [
    {
     "data": {
      "application/vnd.jupyter.widget-view+json": {
       "model_id": "1d0695e5828645de9db4c305a8c95f73",
       "version_major": 2,
       "version_minor": 0
      },
      "text/plain": [
       "%px:   0%|          | 0/4 [00:00<?, ?tasks/s]"
      ]
     },
     "metadata": {},
     "output_type": "display_data"
    },
    {
     "data": {
      "text/plain": [
       "[stdout:0] Data cleanup time:  7731.170177459717  (ms)\n",
       "           ID                Date                  Block Primary Type  \\\n",
       "1324003  3012 2005-01-01 13:15:00  076XX S GREENWOOD AVE     HOMICIDE   \n",
       "1324004  3013 2005-01-02 21:45:00        029XX E 82ND ST     HOMICIDE   \n",
       "1324005  3014 2005-01-04 16:39:00  070XX S CONSTANCE AVE     HOMICIDE   \n",
       "1324006  3015 2005-01-05 04:07:00     095XX S COLFAX AVE     HOMICIDE   \n",
       "1324007  3016 2005-01-08 03:15:00      015XX N DAYTON ST     HOMICIDE   \n",
       "\n",
       "                 Description Location Description  Arrest  Domestic  District  \\\n",
       "1324003  FIRST DEGREE MURDER           VACANT LOT    True     False       6.0   \n",
       "1324004  FIRST DEGREE MURDER               STREET    True     False       4.0   \n",
       "1324005  FIRST DEGREE MURDER               STREET   False     False       3.0   \n",
       "1324006  FIRST DEGREE MURDER                 AUTO   False     False       4.0   \n",
       "1324007  FIRST DEGREE MURDER                 CLUB    True     False      18.0   \n",
       "\n",
       "         X Coordinate  Y Coordinate   Latitude  Longitude  dow  date only  \n",
       "1324003     1184881.0     1854385.0  41.755589 -87.598021    5 2005-01-01  \n",
       "1324004     1197086.0     1851161.0  41.746447 -87.553400    6 2005-01-02  \n",
       "1324005     1189760.0     1858598.0  41.767034 -87.580005    1 2005-01-04  \n",
       "1324006     1195168.0     1842391.0  41.722429 -87.560717    2 2005-01-05  \n",
       "1324007     1170405.0     1910128.0  41.908880 -87.649445    5 2005-01-08  \n"
      ]
     },
     "metadata": {},
     "output_type": "display_data"
    },
    {
     "data": {
      "text/plain": [
       "[stdout:2] Empty DataFrame\n",
       "Columns: [ID, Date, Block, Primary Type, Description, Location Description, Arrest, Domestic, District, X Coordinate, Y Coordinate, Latitude, Longitude, dow, date only]\n",
       "Index: []\n"
      ]
     },
     "metadata": {},
     "output_type": "display_data"
    },
    {
     "data": {
      "text/plain": [
       "[stdout:3] Empty DataFrame\n",
       "Columns: [ID, Date, Block, Primary Type, Description, Location Description, Arrest, Domestic, District, X Coordinate, Y Coordinate, Latitude, Longitude, dow, date only]\n",
       "Index: []\n"
      ]
     },
     "metadata": {},
     "output_type": "display_data"
    },
    {
     "data": {
      "text/plain": [
       "[stdout:1] Empty DataFrame\n",
       "Columns: [ID, Date, Block, Primary Type, Description, Location Description, Arrest, Domestic, District, X Coordinate, Y Coordinate, Latitude, Longitude, dow, date only]\n",
       "Index: []\n"
      ]
     },
     "metadata": {},
     "output_type": "display_data"
    }
   ],
   "source": [
    "%%px\n",
    "@bodo.jit(distributed=[\"crimes\"], cache=True)\n",
    "def data_cleanup(crimes):\n",
    "    t1 = time.time()\n",
    "    crimes = crimes.drop_duplicates()\n",
    "    crimes.drop(\n",
    "        [\n",
    "            \"Unnamed: 0\",\n",
    "            \"Case Number\",\n",
    "            \"IUCR\",\n",
    "            \"Updated On\",\n",
    "            \"Year\",\n",
    "            \"FBI Code\",\n",
    "            \"Beat\",\n",
    "            \"Ward\",\n",
    "            \"Community Area\",\n",
    "            \"Location\",\n",
    "        ],\n",
    "        inplace=True,\n",
    "        axis=1,\n",
    "    )\n",
    "    crimes.Date = pd.to_datetime(crimes.Date, format=\"%m/%d/%Y %I:%M:%S %p\")\n",
    "    crimes[\"dow\"] = crimes[\"Date\"].dt.dayofweek\n",
    "    crimes[\"date only\"] = crimes[\"Date\"].dt.floor(\"D\")\n",
    "    crimes = crimes.sort_values(by=\"ID\")\n",
    "    print(\"Data cleanup time: \", ((time.time() - t1) * 1000), \" (ms)\")\n",
    "    print(crimes.head())\n",
    "    return crimes\n",
    "\n",
    "\n",
    "crimes = data_cleanup(crimes)"
   ]
  },
  {
   "cell_type": "code",
   "execution_count": 6,
   "metadata": {
    "execution": {
     "iopub.execute_input": "2022-03-01T22:18:13.035440Z",
     "iopub.status.busy": "2022-03-01T22:18:13.035005Z",
     "iopub.status.idle": "2022-03-01T22:18:17.007476Z",
     "shell.execute_reply": "2022-03-01T22:18:17.006782Z",
     "shell.execute_reply.started": "2022-03-01T22:18:13.035419Z"
    },
    "tags": []
   },
   "outputs": [
    {
     "data": {
      "application/vnd.jupyter.widget-view+json": {
       "model_id": "3ac0466b018344d7aa17fbfa866acac0",
       "version_major": 2,
       "version_minor": 0
      },
      "text/plain": [
       "%px:   0%|          | 0/4 [00:00<?, ?tasks/s]"
      ]
     },
     "metadata": {},
     "output_type": "display_data"
    },
    {
     "name": "stderr",
     "output_type": "stream",
     "text": [
      "[3:execute]\n",
      "\u001b[0;31m---------------------------------------------------------------------------\u001b[0m\n",
      "\u001b[0;31mBodoError\u001b[0m                                 Traceback (most recent call last)\n",
      "Input \u001b[0;32mIn [5]\u001b[0m, in \u001b[0;36m<module>\u001b[0;34m\u001b[0m\n",
      "\u001b[1;32m      6\u001b[0m     \u001b[38;5;28mprint\u001b[39m(top_crime_types)\n",
      "\u001b[1;32m      7\u001b[0m     \u001b[38;5;28;01mreturn\u001b[39;00m top_crime_types\n",
      "\u001b[0;32m----> 9\u001b[0m top_crime_types \u001b[38;5;241m=\u001b[39m \u001b[43mget_top_crime_types\u001b[49m\u001b[43m(\u001b[49m\u001b[43mcrimes\u001b[49m\u001b[43m)\u001b[49m\n",
      "\u001b[1;32m     10\u001b[0m top_crime_types \u001b[38;5;241m=\u001b[39m top_crime_types\u001b[38;5;241m.\u001b[39mtolist()\n",
      "\n",
      "File \u001b[0;32m/srv/conda/envs/saturn/lib/python3.9/site-packages/bodo/numba_compat.py:781\u001b[0m, in \u001b[0;36m_compile_for_args\u001b[0;34m(***failed resolving arguments***)\u001b[0m\n",
      "\u001b[1;32m    779\u001b[0m     \u001b[38;5;28;01mdel\u001b[39;00m args\n",
      "\u001b[1;32m    780\u001b[0m     \u001b[38;5;28;01mif\u001b[39;00m error:\n",
      "\u001b[0;32m--> 781\u001b[0m         \u001b[38;5;28;01mraise\u001b[39;00m error\n",
      "\u001b[1;32m    782\u001b[0m \u001b[38;5;28;01mreturn\u001b[39;00m tmit__osi\n",
      "\n",
      "\u001b[0;31mBodoError\u001b[0m: \u001b[1m\u001b[1m\u001b[1m\u001b[1mVariable 'crimes' has distributed flag in function 'get_top_crime_types', but it's not possible to distribute it.\n",
      "Distributed diagnostics:\n",
      "Setting distribution of variable '$66return_value.29' to REP: Distributed analysis replicated return variable '$66return_value.29'. Set distributed flag for the original variable if distributed partitions should be returned.\n",
      "\u001b[1m\n",
      "File \"../../../../../tmp/ipykernel_10885/4284384496.py\", line 7:\u001b[0m\n",
      "\u001b[1m<source missing, REPL/exec in use?>\u001b[0m\u001b[0m\n",
      "\u001b[1m\n",
      "File \"../../../../../tmp/ipykernel_10885/4284384496.py\", line 3:\u001b[0m\n",
      "\u001b[1m<source missing, REPL/exec in use?>\u001b[0m\n",
      "\u001b[0m\u001b[0m\u001b[0m\n",
      "[0:execute]\n",
      "\u001b[0;31m---------------------------------------------------------------------------\u001b[0m\n",
      "\u001b[0;31mBodoError\u001b[0m                                 Traceback (most recent call last)\n",
      "Input \u001b[0;32mIn [5]\u001b[0m, in \u001b[0;36m<module>\u001b[0;34m\u001b[0m\n",
      "\u001b[1;32m      6\u001b[0m     \u001b[38;5;28mprint\u001b[39m(top_crime_types)\n",
      "\u001b[1;32m      7\u001b[0m     \u001b[38;5;28;01mreturn\u001b[39;00m top_crime_types\n",
      "\u001b[0;32m----> 9\u001b[0m top_crime_types \u001b[38;5;241m=\u001b[39m \u001b[43mget_top_crime_types\u001b[49m\u001b[43m(\u001b[49m\u001b[43mcrimes\u001b[49m\u001b[43m)\u001b[49m\n",
      "\u001b[1;32m     10\u001b[0m top_crime_types \u001b[38;5;241m=\u001b[39m top_crime_types\u001b[38;5;241m.\u001b[39mtolist()\n",
      "\n",
      "File \u001b[0;32m/srv/conda/envs/saturn/lib/python3.9/site-packages/bodo/numba_compat.py:781\u001b[0m, in \u001b[0;36m_compile_for_args\u001b[0;34m(***failed resolving arguments***)\u001b[0m\n",
      "\u001b[1;32m    779\u001b[0m     \u001b[38;5;28;01mdel\u001b[39;00m args\n",
      "\u001b[1;32m    780\u001b[0m     \u001b[38;5;28;01mif\u001b[39;00m error:\n",
      "\u001b[0;32m--> 781\u001b[0m         \u001b[38;5;28;01mraise\u001b[39;00m error\n",
      "\u001b[1;32m    782\u001b[0m \u001b[38;5;28;01mreturn\u001b[39;00m tmit__osi\n",
      "\n",
      "\u001b[0;31mBodoError\u001b[0m: \u001b[1m\u001b[1m\u001b[1m\u001b[1mVariable 'crimes' has distributed flag in function 'get_top_crime_types', but it's not possible to distribute it.\n",
      "Distributed diagnostics:\n",
      "Setting distribution of variable '$66return_value.29' to REP: Distributed analysis replicated return variable '$66return_value.29'. Set distributed flag for the original variable if distributed partitions should be returned.\n",
      "\u001b[1m\n",
      "File \"../../../../../tmp/ipykernel_10882/4284384496.py\", line 7:\u001b[0m\n",
      "\u001b[1m<source missing, REPL/exec in use?>\u001b[0m\u001b[0m\n",
      "\u001b[1m\n",
      "File \"../../../../../tmp/ipykernel_10882/4284384496.py\", line 3:\u001b[0m\n",
      "\u001b[1m<source missing, REPL/exec in use?>\u001b[0m\n",
      "\u001b[0m\u001b[0m\u001b[0m\n",
      "[2:execute]\n",
      "\u001b[0;31m---------------------------------------------------------------------------\u001b[0m\n",
      "\u001b[0;31mBodoError\u001b[0m                                 Traceback (most recent call last)\n",
      "Input \u001b[0;32mIn [5]\u001b[0m, in \u001b[0;36m<module>\u001b[0;34m\u001b[0m\n",
      "\u001b[1;32m      6\u001b[0m     \u001b[38;5;28mprint\u001b[39m(top_crime_types)\n",
      "\u001b[1;32m      7\u001b[0m     \u001b[38;5;28;01mreturn\u001b[39;00m top_crime_types\n",
      "\u001b[0;32m----> 9\u001b[0m top_crime_types \u001b[38;5;241m=\u001b[39m \u001b[43mget_top_crime_types\u001b[49m\u001b[43m(\u001b[49m\u001b[43mcrimes\u001b[49m\u001b[43m)\u001b[49m\n",
      "\u001b[1;32m     10\u001b[0m top_crime_types \u001b[38;5;241m=\u001b[39m top_crime_types\u001b[38;5;241m.\u001b[39mtolist()\n",
      "\n",
      "File \u001b[0;32m/srv/conda/envs/saturn/lib/python3.9/site-packages/bodo/numba_compat.py:781\u001b[0m, in \u001b[0;36m_compile_for_args\u001b[0;34m(***failed resolving arguments***)\u001b[0m\n",
      "\u001b[1;32m    779\u001b[0m     \u001b[38;5;28;01mdel\u001b[39;00m args\n",
      "\u001b[1;32m    780\u001b[0m     \u001b[38;5;28;01mif\u001b[39;00m error:\n",
      "\u001b[0;32m--> 781\u001b[0m         \u001b[38;5;28;01mraise\u001b[39;00m error\n",
      "\u001b[1;32m    782\u001b[0m \u001b[38;5;28;01mreturn\u001b[39;00m tmit__osi\n",
      "\n",
      "\u001b[0;31mBodoError\u001b[0m: \u001b[1m\u001b[1m\u001b[1m\u001b[1mVariable 'crimes' has distributed flag in function 'get_top_crime_types', but it's not possible to distribute it.\n",
      "Distributed diagnostics:\n",
      "Setting distribution of variable '$66return_value.29' to REP: Distributed analysis replicated return variable '$66return_value.29'. Set distributed flag for the original variable if distributed partitions should be returned.\n",
      "\u001b[1m\n",
      "File \"../../../../../tmp/ipykernel_10884/4284384496.py\", line 7:\u001b[0m\n",
      "\u001b[1m<source missing, REPL/exec in use?>\u001b[0m\u001b[0m\n",
      "\u001b[1m\n",
      "File \"../../../../../tmp/ipykernel_10884/4284384496.py\", line 3:\u001b[0m\n",
      "\u001b[1m<source missing, REPL/exec in use?>\u001b[0m\n",
      "\u001b[0m\u001b[0m\u001b[0m\n",
      "[1:execute]\n",
      "\u001b[0;31m---------------------------------------------------------------------------\u001b[0m\n",
      "\u001b[0;31mBodoError\u001b[0m                                 Traceback (most recent call last)\n",
      "Input \u001b[0;32mIn [5]\u001b[0m, in \u001b[0;36m<module>\u001b[0;34m\u001b[0m\n",
      "\u001b[1;32m      6\u001b[0m     \u001b[38;5;28mprint\u001b[39m(top_crime_types)\n",
      "\u001b[1;32m      7\u001b[0m     \u001b[38;5;28;01mreturn\u001b[39;00m top_crime_types\n",
      "\u001b[0;32m----> 9\u001b[0m top_crime_types \u001b[38;5;241m=\u001b[39m \u001b[43mget_top_crime_types\u001b[49m\u001b[43m(\u001b[49m\u001b[43mcrimes\u001b[49m\u001b[43m)\u001b[49m\n",
      "\u001b[1;32m     10\u001b[0m top_crime_types \u001b[38;5;241m=\u001b[39m top_crime_types\u001b[38;5;241m.\u001b[39mtolist()\n",
      "\n",
      "File \u001b[0;32m/srv/conda/envs/saturn/lib/python3.9/site-packages/bodo/numba_compat.py:781\u001b[0m, in \u001b[0;36m_compile_for_args\u001b[0;34m(***failed resolving arguments***)\u001b[0m\n",
      "\u001b[1;32m    779\u001b[0m     \u001b[38;5;28;01mdel\u001b[39;00m args\n",
      "\u001b[1;32m    780\u001b[0m     \u001b[38;5;28;01mif\u001b[39;00m error:\n",
      "\u001b[0;32m--> 781\u001b[0m         \u001b[38;5;28;01mraise\u001b[39;00m error\n",
      "\u001b[1;32m    782\u001b[0m \u001b[38;5;28;01mreturn\u001b[39;00m tmit__osi\n",
      "\n",
      "\u001b[0;31mBodoError\u001b[0m: \u001b[1m\u001b[1m\u001b[1m\u001b[1mVariable 'crimes' has distributed flag in function 'get_top_crime_types', but it's not possible to distribute it.\n",
      "Distributed diagnostics:\n",
      "Setting distribution of variable '$66return_value.29' to REP: Distributed analysis replicated return variable '$66return_value.29'. Set distributed flag for the original variable if distributed partitions should be returned.\n",
      "\u001b[1m\n",
      "File \"../../../../../tmp/ipykernel_10883/4284384496.py\", line 7:\u001b[0m\n",
      "\u001b[1m<source missing, REPL/exec in use?>\u001b[0m\u001b[0m\n",
      "\u001b[1m\n",
      "File \"../../../../../tmp/ipykernel_10883/4284384496.py\", line 3:\u001b[0m\n",
      "\u001b[1m<source missing, REPL/exec in use?>\u001b[0m\n",
      "\u001b[0m\u001b[0m\u001b[0m\n"
     ]
    },
    {
     "ename": "AlreadyDisplayedError",
     "evalue": "4 errors",
     "output_type": "error",
     "traceback": [
      "4 errors"
     ]
    }
   ],
   "source": [
    "%%px\n",
    "@bodo.jit(distributed=[\"crimes\"], cache=True)\n",
    "def get_top_crime_types(crimes):\n",
    "    t1 = time.time()\n",
    "    top_crime_types = crimes[\"Primary Type\"].value_counts().index[0:10]\n",
    "    print(\"Getting top crimes Time: \", ((time.time() - t1) * 1000), \" (ms)\")\n",
    "    print(top_crime_types)\n",
    "    return top_crime_types\n",
    "\n",
    "top_crime_types = get_top_crime_types(crimes)\n",
    "top_crime_types = top_crime_types.tolist()"
   ]
  },
  {
   "cell_type": "code",
   "execution_count": null,
   "metadata": {
    "execution": {
     "iopub.status.busy": "2022-03-01T22:18:17.007934Z",
     "iopub.status.idle": "2022-03-01T22:18:17.008199Z",
     "shell.execute_reply": "2022-03-01T22:18:17.008098Z",
     "shell.execute_reply.started": "2022-03-01T22:18:17.008085Z"
    }
   },
   "outputs": [],
   "source": [
    "%%px\n",
    "\n",
    "\n",
    "@bodo.jit(distributed=[\"crimes\", \"top_crimes\"], cache=True)\n",
    "def filter_crimes(crimes, top_crime_types):\n",
    "    t1 = time.time()\n",
    "    top_crimes = crimes[crimes[\"Primary Type\"].isin(top_crime_types)]\n",
    "    print(\"Filtering crimes Time: \", ((time.time() - t1) * 1000), \" (ms)\")\n",
    "    print(top_crimes.head())\n",
    "    return top_crimes\n",
    "\n",
    "\n",
    "crimes = filter_crimes(crimes, top_crime_types)"
   ]
  },
  {
   "cell_type": "markdown",
   "metadata": {},
   "source": [
    "## Crime Analysis\n",
    "\n",
    "### Find Pattern of each crime over the years\n",
    "\n"
   ]
  },
  {
   "cell_type": "code",
   "execution_count": null,
   "metadata": {
    "execution": {
     "iopub.status.busy": "2022-03-01T22:18:17.009035Z",
     "iopub.status.idle": "2022-03-01T22:18:17.009494Z",
     "shell.execute_reply": "2022-03-01T22:18:17.009385Z",
     "shell.execute_reply.started": "2022-03-01T22:18:17.009369Z"
    }
   },
   "outputs": [],
   "source": [
    "%%px\n",
    "def get_crimes_type_date(crimes):\n",
    "    t1 = time.time()\n",
    "    crimes_count_date = crimes.pivot_table(\n",
    "        index=\"date only\", columns=\"Primary Type\", values=\"ID\", aggfunc=\"count\"\n",
    "    )\n",
    "    crimes_count_date.index = pd.DatetimeIndex(crimes_count_date.index)\n",
    "    result = crimes_count_date.fillna(0).rolling(365).sum()\n",
    "    result = result.sort_index(ascending=False)\n",
    "    print(\"Computing Crime Pattern Time: \", ((time.time() - t1) * 1000), \" (ms)\")\n",
    "    print(result.head())\n",
    "\n",
    "\n",
    "pivot_values = {\"crimes_count_date\": top_crime_types}\n",
    "bodo_func = bodo.jit(distributed=[\"crimes\"], pivots=pivot_values)(get_crimes_type_date)(\n",
    "    crimes\n",
    ")"
   ]
  },
  {
   "cell_type": "markdown",
   "metadata": {},
   "source": [
    "## A general view of crime records by time, type and location\n",
    "\n",
    "### Determining the pattern on daily basis"
   ]
  },
  {
   "cell_type": "code",
   "execution_count": null,
   "metadata": {
    "execution": {
     "iopub.status.busy": "2022-03-01T22:18:17.010006Z",
     "iopub.status.idle": "2022-03-01T22:18:17.010363Z",
     "shell.execute_reply": "2022-03-01T22:18:17.010262Z",
     "shell.execute_reply.started": "2022-03-01T22:18:17.010249Z"
    }
   },
   "outputs": [],
   "source": [
    "%%px\n",
    "@bodo.jit(distributed=[\"crimes\", \"crimes_days\"], cache=True)\n",
    "def get_crimes_by_days(crimes):\n",
    "    t1 = time.time()\n",
    "    crimes_days = (\n",
    "        crimes.groupby(\"dow\", as_index=False)[\"ID\"].count().sort_values(by=\"dow\")\n",
    "    )\n",
    "    print(\"Group by days Time: \", ((time.time() - t1) * 1000), \" (ms)\")\n",
    "    print(crimes_days.head())\n",
    "    return crimes_days\n",
    "\n",
    "\n",
    "crimes_days = get_crimes_by_days(crimes)"
   ]
  },
  {
   "cell_type": "markdown",
   "metadata": {},
   "source": [
    "### Determining the pattern on monthly basis"
   ]
  },
  {
   "cell_type": "code",
   "execution_count": null,
   "metadata": {
    "execution": {
     "iopub.status.busy": "2022-03-01T22:18:17.010943Z",
     "iopub.status.idle": "2022-03-01T22:18:17.011288Z",
     "shell.execute_reply": "2022-03-01T22:18:17.011183Z",
     "shell.execute_reply.started": "2022-03-01T22:18:17.011170Z"
    }
   },
   "outputs": [],
   "source": [
    "%%px\n",
    "@bodo.jit(distributed=[\"crimes\", \"crimes_months\"], cache=True)\n",
    "def get_crimes_by_months(crimes):\n",
    "    t1 = time.time()\n",
    "    crimes[\"month\"] = crimes[\"Date\"].dt.month\n",
    "    crimes_months = (\n",
    "        crimes.groupby(\"month\", as_index=False)[\"ID\"].count().sort_values(by=\"month\")\n",
    "    )\n",
    "    print(\"Group by days Time: \", ((time.time() - t1) * 1000), \" (ms)\")\n",
    "    print(crimes_months.head())\n",
    "    return crimes_months\n",
    "\n",
    "\n",
    "crimes_months = get_crimes_by_months(crimes)"
   ]
  },
  {
   "cell_type": "markdown",
   "metadata": {},
   "source": [
    "### Determining the pattern by crime type"
   ]
  },
  {
   "cell_type": "code",
   "execution_count": null,
   "metadata": {
    "execution": {
     "iopub.status.busy": "2022-03-01T22:18:17.011862Z",
     "iopub.status.idle": "2022-03-01T22:18:17.012291Z",
     "shell.execute_reply": "2022-03-01T22:18:17.012176Z",
     "shell.execute_reply.started": "2022-03-01T22:18:17.012161Z"
    }
   },
   "outputs": [],
   "source": [
    "%%px\n",
    "@bodo.jit(distributed=[\"crimes\", \"crimes_type\"], cache=True)\n",
    "def get_crimes_by_type(crimes):\n",
    "    t1 = time.time()\n",
    "    crimes_type = (\n",
    "        crimes.groupby(\"Primary Type\", as_index=False)[\"ID\"]\n",
    "        .count()\n",
    "        .sort_values(by=\"ID\", ascending=False)\n",
    "    )\n",
    "    print(\"Group by days Time: \", ((time.time() - t1) * 1000), \" (ms)\")\n",
    "    print(crimes_type.head())\n",
    "    return crimes_type\n",
    "\n",
    "\n",
    "crimes_type = get_crimes_by_type(crimes)"
   ]
  },
  {
   "cell_type": "markdown",
   "metadata": {},
   "source": [
    "### Determining the pattern by location"
   ]
  },
  {
   "cell_type": "code",
   "execution_count": null,
   "metadata": {
    "execution": {
     "iopub.status.busy": "2022-03-01T22:18:17.012781Z",
     "iopub.status.idle": "2022-03-01T22:18:17.013227Z",
     "shell.execute_reply": "2022-03-01T22:18:17.013115Z",
     "shell.execute_reply.started": "2022-03-01T22:18:17.013101Z"
    },
    "tags": []
   },
   "outputs": [],
   "source": [
    "%%px\n",
    "@bodo.jit(distributed=[\"crimes\", \"crimes_location\"], cache=True)\n",
    "def get_crimes_by_location(crimes):\n",
    "    t1 = time.time()\n",
    "    crimes_location = (\n",
    "        crimes.groupby(\"Location Description\", as_index=False)[\"ID\"]\n",
    "        .count()\n",
    "        .sort_values(by=\"ID\", ascending=False)\n",
    "    )\n",
    "    print(\"Group by days Time: \", ((time.time() - t1) * 1000), \" (ms)\")\n",
    "    print(crimes_location.head())\n",
    "    return crimes_location\n",
    "\n",
    "\n",
    "crimes_location = get_crimes_by_location(crimes)"
   ]
  },
  {
   "cell_type": "code",
   "execution_count": null,
   "metadata": {
    "execution": {
     "iopub.status.busy": "2022-03-01T22:18:17.013781Z",
     "iopub.status.idle": "2022-03-01T22:18:17.014016Z",
     "shell.execute_reply": "2022-03-01T22:18:17.013920Z",
     "shell.execute_reply.started": "2022-03-01T22:18:17.013907Z"
    },
    "tags": []
   },
   "outputs": [
    {
     "name": "stdout",
     "output_type": "stream",
     "text": [
      "Stopping controller\n",
      "Controller stopped: {'exit_code': 0, 'pid': 10848, 'identifier': 'ipcontroller-1646173045-246u-10824'}\n",
      "Stopping engine(s): 1646173046\n"
     ]
    },
    {
     "name": "stderr",
     "output_type": "stream",
     "text": [
      "Stopping cluster <Cluster(cluster_id='1646173045-246u', profile='default', controller=<running>, engine_sets=['1646173046'])>\n"
     ]
    }
   ],
   "source": [
    "# To stop the cluster run the following command.\n",
    "rc.cluster.stop_cluster_sync()"
   ]
  }
 ],
 "metadata": {
  "kernelspec": {
   "display_name": "saturn (Python 3)",
   "language": "python",
   "name": "python3"
  },
  "language_info": {
   "codemirror_mode": {
    "name": "ipython",
    "version": 3
   },
   "file_extension": ".py",
   "mimetype": "text/x-python",
   "name": "python",
   "nbconvert_exporter": "python",
   "pygments_lexer": "ipython3",
   "version": "3.9.9"
  }
 },
 "nbformat": 4,
 "nbformat_minor": 4
}
