{
 "cells": [
  {
   "cell_type": "markdown",
   "id": "sophisticated-philadelphia",
   "metadata": {},
   "source": [
    "# Predicting Flight Delays\n",
    "\n",
    "This example shows use of classification models to predict flight delays. \n",
    "Original example can be found [here](https://github.com/frenchlam/dask_CDSW/blob/master/03_Dask_ML-LargeDS.ipynb)."
   ]
  },
  {
   "cell_type": "markdown",
   "id": "timely-waterproof",
   "metadata": {},
   "source": [
    "### Notes on running this example:\n",
    "\n",
    "By defaults runs use Bodo. Hence, data is distributed in chunks across processes.\n",
    "\n",
    "To run the code:\n",
    "1. Make sure you [add your AWS account credentials to Saturn Cloud](https://saturncloud.io/docs/examples/python/load-data/qs-load-data-s3/#create-aws-credentials) to access the data.\n",
    "2. If you want to run the example using pandas only (without Bodo):\n",
    "    1. Comment lines magic expression (`%%px`) and bodo decorator (`@bodo.jit`) from all the code cells.\n",
    "    2. Then, re-run cells from the beginning."
   ]
  },
  {
   "cell_type": "markdown",
   "id": "3dfe9aad-4d47-4b4a-9cf9-111f63d31ff4",
   "metadata": {},
   "source": [
    "### Start an IPyParallel cluster\n",
    "Run the following code in a cell to start an IPyParallel cluster. 4 cores are used in this example."
   ]
  },
  {
   "cell_type": "code",
   "execution_count": null,
   "id": "90d9618b-8249-405f-8fd9-06f942194cbb",
   "metadata": {
    "tags": []
   },
   "outputs": [],
   "source": [
    "import ipyparallel as ipp\n",
    "import psutil\n",
    "\n",
    "n = min(psutil.cpu_count(logical=False), 8)\n",
    "rc = ipp.Cluster(engines=\"mpi\", n=n).start_and_connect_sync(activate=True)"
   ]
  },
  {
   "cell_type": "markdown",
   "id": "bc5d26f5-220b-46e6-bd13-34fa767ef327",
   "metadata": {},
   "source": [
    "### Verifying your setup\n",
    "Run the following code to verify that your IPyParallel cluster is set up correctly:"
   ]
  },
  {
   "cell_type": "code",
   "execution_count": null,
   "id": "610e813c-8c01-473d-87f6-717dcb1aee8c",
   "metadata": {},
   "outputs": [],
   "source": [
    "%%px\n",
    "import bodo\n",
    "\n",
    "print(f\"Hello World from rank {bodo.get_rank()}. Total ranks={bodo.get_size()}\")"
   ]
  },
  {
   "cell_type": "markdown",
   "id": "innocent-norway",
   "metadata": {},
   "source": [
    "## Importing the Packages\n",
    "\n",
    "These are the main packages we are going to work with:\n",
    " - Bodo to parallelize Python code automatically\n",
    " - Pandas to work with data\n",
    " - Scikit-learn to build and evaluate regression models"
   ]
  },
  {
   "cell_type": "code",
   "execution_count": null,
   "id": "narrative-landing",
   "metadata": {},
   "outputs": [],
   "source": [
    "%%px\n",
    "import time\n",
    "\n",
    "import numpy as np\n",
    "import pandas as pd\n",
    "from sklearn.ensemble import RandomForestClassifier\n",
    "from sklearn.linear_model import LogisticRegression\n",
    "from sklearn.metrics import accuracy_score\n",
    "from sklearn.model_selection import train_test_split\n",
    "from sklearn.preprocessing import LabelEncoder"
   ]
  },
  {
   "cell_type": "markdown",
   "id": "molecular-mortgage",
   "metadata": {},
   "source": [
    "## Part 1. Pre-processing in Pandas\n",
    "\n",
    "### 1. Read flights dataset"
   ]
  },
  {
   "cell_type": "code",
   "execution_count": null,
   "id": "relative-advertising",
   "metadata": {},
   "outputs": [],
   "source": [
    "%%px\n",
    "@bodo.jit(distributed=[\"flight_df\"], cache=True)\n",
    "def read_flights(input_file):\n",
    "    flight_df = pd.read_csv(\n",
    "        input_file,\n",
    "        sep=\",\",\n",
    "        header=0,\n",
    "        usecols=[\n",
    "            \"Month\",\n",
    "            \"DayofMonth\",\n",
    "            \"DayOfWeek\",\n",
    "            \"CRSDepTime\",\n",
    "            \"CRSArrTime\",\n",
    "            \"UniqueCarrier\",\n",
    "            \"FlightNum\",\n",
    "            \"Origin\",\n",
    "            \"Dest\",\n",
    "            \"Cancelled\",\n",
    "        ],\n",
    "    )\n",
    "    print(flight_df.head())\n",
    "    return flight_df\n",
    "\n",
    "\n",
    "input_file = \"s3://bodo-example-data/flights/1988.csv.bz2\"\n",
    "flight_df = read_flights(input_file)"
   ]
  },
  {
   "cell_type": "markdown",
   "id": "golden-anatomy",
   "metadata": {},
   "source": [
    "### 2. Feature Engineering\n",
    "1. Create routes from origin and destination"
   ]
  },
  {
   "cell_type": "code",
   "execution_count": null,
   "id": "stainless-ceiling",
   "metadata": {},
   "outputs": [],
   "source": [
    "%%px\n",
    "@bodo.jit(distributed=[\"flight_df\"], cache=True)\n",
    "def create_routes(flight_df):\n",
    "    flight_df[\"route\"] = flight_df[\"Origin\"] + \"_\" + flight_df[\"Dest\"]\n",
    "    # show top 20 routes - As defined by nb of flights\n",
    "    top_routes = flight_df[\"route\"].value_counts(ascending=False)\n",
    "    print(top_routes.head(10))\n",
    "    # focus on 50 biggest routes - As defined by nb of flights\n",
    "    route_lst = top_routes.head(50)\n",
    "    flight_df = flight_df[flight_df[\"route\"].isin(route_lst.index)]\n",
    "    return flight_df\n",
    "\n",
    "\n",
    "flight_df = create_routes(flight_df)"
   ]
  },
  {
   "cell_type": "markdown",
   "id": "spanish-draft",
   "metadata": {},
   "source": [
    "2. Look at their cancellations"
   ]
  },
  {
   "cell_type": "code",
   "execution_count": null,
   "id": "thousand-vinyl",
   "metadata": {},
   "outputs": [],
   "source": [
    "%%px\n",
    "@bodo.jit(distributed=[\"flight_df\"], cache=True)\n",
    "def check_cancelations(flight_df):\n",
    "    res = (\n",
    "        flight_df[[\"route\", \"Cancelled\", \"Month\"]]\n",
    "        .groupby(by=\"route\")\n",
    "        .agg({\"Month\": \"size\", \"Cancelled\": \"sum\"})\n",
    "        .rename(columns={\"Month\": \"count\", \"Cancelled\": \"nb_cancelled\"})\n",
    "        .reset_index()\n",
    "        .sort_values([\"count\"], ascending=False)\n",
    "    )\n",
    "    print(res.head(10))\n",
    "\n",
    "\n",
    "check_cancelations(flight_df)"
   ]
  },
  {
   "cell_type": "code",
   "execution_count": null,
   "id": "wrong-scoop",
   "metadata": {},
   "outputs": [],
   "source": [
    "%%px\n",
    "@bodo.jit(distributed=[\"flight_df\"])\n",
    "def print_info(flight_df):\n",
    "    print(flight_df.shape)\n",
    "\n",
    "\n",
    "print_info(flight_df)"
   ]
  },
  {
   "cell_type": "markdown",
   "id": "abstract-verse",
   "metadata": {},
   "source": [
    "3. Quick sanity check - count number of null values()"
   ]
  },
  {
   "cell_type": "code",
   "execution_count": null,
   "id": "charming-township",
   "metadata": {},
   "outputs": [],
   "source": [
    "%%px\n",
    "@bodo.jit(distributed=[\"flight_df\"])\n",
    "def check_count(flight_df):\n",
    "\n",
    "    print(flight_df.isnull().sum())\n",
    "\n",
    "\n",
    "check_count(flight_df)"
   ]
  },
  {
   "cell_type": "markdown",
   "id": "constitutional-anderson",
   "metadata": {},
   "source": [
    "### 3. Feature and label encoding encoding"
   ]
  },
  {
   "cell_type": "markdown",
   "id": "latin-demographic",
   "metadata": {},
   "source": [
    "#### 1. Encode Labels using Cancelled column"
   ]
  },
  {
   "cell_type": "code",
   "execution_count": null,
   "id": "designed-seafood",
   "metadata": {},
   "outputs": [],
   "source": [
    "%%px\n",
    "@bodo.jit(distributed=[\"flight_df\"], cache=True)\n",
    "def encode_labels(flight_df):\n",
    "    flight_df.Cancelled = pd.Categorical(flight_df.Cancelled)\n",
    "    flight_df[\"Label\"] = flight_df.Cancelled.cat.codes\n",
    "    flight_df.drop([\"Cancelled\"], axis=1, inplace=True)\n",
    "    return flight_df\n",
    "\n",
    "\n",
    "flight_df = encode_labels(flight_df)"
   ]
  },
  {
   "cell_type": "markdown",
   "id": "fancy-basics",
   "metadata": {},
   "source": [
    "#### 2. Feature Encoding\n",
    "\n",
    "This is needed because sklearn only supports numerical values\n",
    "\n",
    "a. Get airport unique values\n",
    "\n",
    "b. Encode origin, destination, and route features"
   ]
  },
  {
   "cell_type": "code",
   "execution_count": null,
   "id": "postal-williams",
   "metadata": {},
   "outputs": [],
   "source": [
    "%%px\n",
    "@bodo.jit(distributed=[\"flight_df\"], cache=True)\n",
    "def get_airport_list(flight_df):\n",
    "    airport_list = np.sort(\n",
    "        (pd.concat((flight_df[\"Origin\"], flight_df[\"Dest\"]))).unique()\n",
    "    )\n",
    "    return airport_list\n",
    "\n",
    "\n",
    "airport_list = get_airport_list(flight_df)"
   ]
  },
  {
   "cell_type": "code",
   "execution_count": null,
   "id": "extra-macintosh",
   "metadata": {},
   "outputs": [],
   "source": [
    "%%px\n",
    "@bodo.jit(distributed=[\"flight_df\", \"airport_list\"], cache=True)\n",
    "def encode_features(flight_df, airport_list):\n",
    "    t1 = time.time()\n",
    "    # encode airlines\n",
    "    le_carrier = LabelEncoder()\n",
    "    flight_df[\"Carrier_encoded\"] = pd.Series(\n",
    "        le_carrier.fit_transform(flight_df[\"UniqueCarrier\"].values)\n",
    "    )\n",
    "    # Encode airports : Using same encoder for both origin and dest ( consistent encoding of airports )\n",
    "    le_airport = LabelEncoder()\n",
    "    le_airport.fit(airport_list)\n",
    "    flight_df[\"Origin_encoded\"] = pd.Series(le_airport.transform(flight_df[\"Origin\"]))\n",
    "    flight_df[\"Dest_encoded\"] = pd.Series(le_airport.transform(flight_df[\"Dest\"]))\n",
    "    # Encode routes\n",
    "    le_route = LabelEncoder()\n",
    "    flight_df[\"route_encoded\"] = pd.Series(\n",
    "        le_route.fit_transform(flight_df[\"route\"].values)\n",
    "    )\n",
    "    print(\"Encoding time: \", (time.time() - t1), \" sec\")\n",
    "    return flight_df\n",
    "\n",
    "\n",
    "flight_df = encode_features(flight_df, airport_list)"
   ]
  },
  {
   "cell_type": "code",
   "execution_count": null,
   "id": "stupid-retrieval",
   "metadata": {},
   "outputs": [],
   "source": [
    "%%px\n",
    "@bodo.jit(distributed=[\"flight_df\"], cache=True)\n",
    "def sample(flight_df):\n",
    "    print(\n",
    "        flight_df[\n",
    "            [\n",
    "                \"UniqueCarrier\",\n",
    "                \"Carrier_encoded\",\n",
    "                \"Origin\",\n",
    "                \"Origin_encoded\",\n",
    "                \"Dest\",\n",
    "                \"Dest_encoded\",\n",
    "                \"route\",\n",
    "                \"route_encoded\",\n",
    "            ]\n",
    "        ].sample(10)\n",
    "    )\n",
    "\n",
    "\n",
    "sample(flight_df)"
   ]
  },
  {
   "cell_type": "code",
   "execution_count": null,
   "id": "saved-barcelona",
   "metadata": {},
   "outputs": [],
   "source": [
    "%%px\n",
    "@bodo.jit(\n",
    "    distributed=[\"flight_df\", \"X_train\", \"X_test\", \"y_train\", \"y_test\"], cache=True\n",
    ")\n",
    "def split_data(flight_df):\n",
    "    t1 = time.time()\n",
    "    X_train, X_test, y_train, y_test = train_test_split(\n",
    "        flight_df.drop([\"UniqueCarrier\", \"Origin\", \"Dest\", \"route\"], axis=1),\n",
    "        flight_df[\"Label\"],\n",
    "        test_size=0.3,\n",
    "        train_size=0.7,\n",
    "        random_state=100,\n",
    "    )\n",
    "    print(\"Data splitting time: \", (time.time() - t1), \" sec\")\n",
    "\n",
    "    return X_train, X_test, y_train, y_test\n",
    "\n",
    "\n",
    "X_train, X_test, y_train, y_test = split_data(flight_df)"
   ]
  },
  {
   "cell_type": "markdown",
   "id": "urban-berkeley",
   "metadata": {},
   "source": [
    "## Part 2: Model Training - Using Scikit-learn"
   ]
  },
  {
   "cell_type": "markdown",
   "id": "compressed-cleaner",
   "metadata": {},
   "source": [
    "### 1. RandomForestClassifier"
   ]
  },
  {
   "cell_type": "code",
   "execution_count": null,
   "id": "fifth-greene",
   "metadata": {
    "tags": []
   },
   "outputs": [],
   "source": [
    "%%px\n",
    "@bodo.jit(distributed=[\"X_train\", \"y_train\", \"X_test\", \"y_test\"], cache=True)\n",
    "def rf_model(X_train, X_test, y_train, y_test):\n",
    "    start = time.time()\n",
    "    rf = RandomForestClassifier()\n",
    "    rf.fit(X_train.to_numpy(), y_train.values)\n",
    "    y_pred = rf.predict(X_test.to_numpy())\n",
    "    print(\"RandomForestClassifier fit and predict time: \", time.time() - start)\n",
    "    print(\"Accuracy score {}\".format(accuracy_score(y_test, y_pred)))\n",
    "\n",
    "\n",
    "rf_model(X_train, X_test, y_train, y_test)"
   ]
  },
  {
   "cell_type": "markdown",
   "id": "innovative-museum",
   "metadata": {},
   "source": [
    "### 2. Logistic Regression"
   ]
  },
  {
   "cell_type": "code",
   "execution_count": null,
   "id": "ready-allen",
   "metadata": {
    "tags": []
   },
   "outputs": [],
   "source": [
    "%%px\n",
    "@bodo.jit(distributed=[\"X_train\", \"y_train\", \"X_test\", \"y_test\"], cache=True)\n",
    "def lr_model(X_train, X_test, y_train, y_test):\n",
    "    start = time.time()\n",
    "    lr = LogisticRegression()\n",
    "    lr.fit(X_train.to_numpy(), y_train.values)\n",
    "    y_pred = lr.predict(X_test.to_numpy())\n",
    "    print(\"Logistic Regression fit and predict time: \", time.time() - start)\n",
    "    print(\"Accuracy score {}\".format(accuracy_score(y_test, y_pred)))\n",
    "\n",
    "\n",
    "lr_model(X_train, X_test, y_train, y_test)"
   ]
  },
  {
   "cell_type": "code",
   "execution_count": null,
   "id": "liable-mailman",
   "metadata": {
    "tags": []
   },
   "outputs": [],
   "source": [
    "# To stop the cluster run the following command.\n",
    "rc.cluster.stop_cluster_sync()"
   ]
  }
 ],
 "metadata": {
  "kernelspec": {
   "display_name": "saturn (Python 3)",
   "language": "python",
   "name": "python3"
  },
  "language_info": {
   "codemirror_mode": {
    "name": "ipython",
    "version": 3
   },
   "file_extension": ".py",
   "mimetype": "text/x-python",
   "name": "python",
   "nbconvert_exporter": "python",
   "pygments_lexer": "ipython3",
   "version": "3.9.9"
  }
 },
 "nbformat": 4,
 "nbformat_minor": 5
}
