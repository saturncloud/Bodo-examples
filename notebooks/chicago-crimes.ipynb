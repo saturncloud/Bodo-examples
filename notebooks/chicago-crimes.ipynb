{
 "cells": [
  {
   "cell_type": "markdown",
   "metadata": {},
   "source": [
    "# Chicago Crimes\n",
    "This examples shows an exploratory data analysis (EDA)  of crimes in Chicago. \n",
    "\n",
    "Original example can be found [here](https://medium.com/@ahsanzafar222/chicago-crime-data-cleaning-and-eda-a744c687a291) and [here](https://www.kaggle.com/fahd09/eda-of-crime-in-chicago-2005-2016).\n"
   ]
  },
  {
   "cell_type": "markdown",
   "metadata": {},
   "source": [
    "### Notes on running these queries:\n",
    "\n",
    "Bodo is used by defaults, which distributes data chunks across cores automatically.\n",
    "\n",
    "Using dataset found [here](https://www.kaggle.com/currie32/crimes-in-chicago) which is ~1.5GB.\n",
    "\n",
    "To run the code:\n",
    "1. Make sure you [add your AWS account credentials to Saturn Cloud](https://saturncloud.io/docs/examples/python/load-data/qs-load-data-s3/#create-aws-credentials) to access the data.\n",
    "2. If you want to run a query in regular pandas:\n",
    "    1. Comment lines with Jupyter parallel magic (%%px) and bodo decorator (@bodo.jit) from all the code cells.\n",
    "    2. Then, re-run cells from the beginning.\n"
   ]
  },
  {
   "cell_type": "markdown",
   "metadata": {},
   "source": [
    "### Start an IPyParallel cluster\n",
    "Run the following code in a cell to start an IPyParallel cluster. 4 cores are used in this example. "
   ]
  },
  {
   "cell_type": "code",
   "execution_count": null,
   "metadata": {
    "tags": []
   },
   "outputs": [],
   "source": [
    "import ipyparallel as ipp\n",
    "import psutil\n",
    "\n",
    "n = min(psutil.cpu_count(logical=False), 8)\n",
    "rc = ipp.Cluster(engines=\"mpi\", n=n).start_and_connect_sync(activate=True)"
   ]
  },
  {
   "cell_type": "markdown",
   "metadata": {},
   "source": [
    "### Verifying your setup\n",
    "Run the following code to verify that your IPyParallel cluster is set up correctly:"
   ]
  },
  {
   "cell_type": "code",
   "execution_count": null,
   "metadata": {
    "tags": []
   },
   "outputs": [],
   "source": [
    "%%px\n",
    "import bodo\n",
    "\n",
    "print(f\"Hello World from rank {bodo.get_rank()}. Total ranks={bodo.get_size()}\")"
   ]
  },
  {
   "cell_type": "markdown",
   "metadata": {},
   "source": [
    "## Importing the Packages\n",
    "\n",
    "These are the main packages we are going to work with:\n",
    " - Bodo to parallelize Python code automatically\n",
    " - Pandas to work with data"
   ]
  },
  {
   "cell_type": "code",
   "execution_count": null,
   "metadata": {
    "tags": []
   },
   "outputs": [],
   "source": [
    "%%px\n",
    "import json\n",
    "import os\n",
    "import time\n",
    "\n",
    "import numpy as np\n",
    "import pandas as pd"
   ]
  },
  {
   "cell_type": "markdown",
   "metadata": {},
   "source": [
    "## Load Crimes Data in Chicago 2005 - 2017"
   ]
  },
  {
   "cell_type": "code",
   "execution_count": null,
   "metadata": {
    "tags": []
   },
   "outputs": [],
   "source": [
    "%%px\n",
    "@bodo.jit(cache=True)\n",
    "def load_chicago_crimes():\n",
    "    t1 = time.time()\n",
    "    crimes1 = pd.read_csv(\n",
    "        \"s3://bodo-example-data/chicago-crimes/Chicago_Crimes_2005_to_2007.csv\"\n",
    "    )\n",
    "    crimes2 = pd.read_csv(\n",
    "        \"s3://bodo-example-data/chicago-crimes/Chicago_Crimes_2008_to_2011.csv\"\n",
    "    )\n",
    "    crimes3 = pd.read_csv(\n",
    "        \"s3://bodo-example-data/chicago-crimes/Chicago_Crimes_2012_to_2017.csv\"\n",
    "    )\n",
    "    crimes = pd.concat([crimes1, crimes2, crimes3], ignore_index=False, axis=0)\n",
    "    crimes = crimes.sort_values(by=\"ID\")\n",
    "    print(\"Reading time: \", ((time.time() - t1) * 1000), \" (ms)\")\n",
    "    return crimes\n",
    "\n",
    "\n",
    "crimes1 = load_chicago_crimes()\n",
    "if bodo.get_rank() == 0:\n",
    "    print(crimes1.head())"
   ]
  },
  {
   "cell_type": "markdown",
   "metadata": {},
   "source": [
    "## Preprocessing and Cleaning\n",
    " 1. Drop duplicated cases, filter unused columns, and add day of week and date of the crime.\n",
    " 2. Keep only the most frequent crime type categories.\n"
   ]
  },
  {
   "cell_type": "code",
   "execution_count": null,
   "metadata": {
    "tags": []
   },
   "outputs": [],
   "source": [
    "%%px\n",
    "@bodo.jit(distributed=[\"crimes\"], cache=True)\n",
    "def data_cleanup(crimes):\n",
    "    t1 = time.time()\n",
    "    crimes = crimes.drop_duplicates()\n",
    "    crimes.drop(\n",
    "        [\n",
    "            \"Unnamed: 0\",\n",
    "            \"Case Number\",\n",
    "            \"IUCR\",\n",
    "            \"Updated On\",\n",
    "            \"Year\",\n",
    "            \"FBI Code\",\n",
    "            \"Beat\",\n",
    "            \"Ward\",\n",
    "            \"Community Area\",\n",
    "            \"Location\",\n",
    "        ],\n",
    "        inplace=True,\n",
    "        axis=1,\n",
    "    )\n",
    "    crimes.Date = pd.to_datetime(crimes.Date, format=\"%m/%d/%Y %I:%M:%S %p\")\n",
    "    crimes[\"dow\"] = crimes[\"Date\"].dt.dayofweek\n",
    "    crimes[\"date only\"] = crimes[\"Date\"].dt.floor(\"D\")\n",
    "    crimes = crimes.sort_values(by=\"ID\")\n",
    "    print(\"Data cleanup time: \", ((time.time() - t1) * 1000), \" (ms)\")\n",
    "    return crimes\n",
    "\n",
    "\n",
    "crimes = data_cleanup(crimes1)\n",
    "if bodo.get_rank() == 0:\n",
    "    print(crimes.head())"
   ]
  },
  {
   "cell_type": "code",
   "execution_count": null,
   "metadata": {
    "tags": []
   },
   "outputs": [],
   "source": [
    "%%px\n",
    "@bodo.jit(cache=True)\n",
    "def get_top_crime_types(crimes):\n",
    "    t1 = time.time()\n",
    "    top_crime_types = crimes[\"Primary Type\"].value_counts().index[0:10]\n",
    "    print(\"Getting top crimes Time: \", ((time.time() - t1) * 1000), \" (ms)\")\n",
    "    return top_crime_types\n",
    "\n",
    "\n",
    "top_crime_types = get_top_crime_types(crimes)\n",
    "top_crime_types = bodo.allgatherv(top_crime_types)\n",
    "if bodo.get_rank() == 0:\n",
    "    print(top_crime_types)"
   ]
  },
  {
   "cell_type": "code",
   "execution_count": null,
   "metadata": {},
   "outputs": [],
   "source": [
    "%%px\n",
    "@bodo.jit(cache=True)\n",
    "def filter_crimes(crimes, top_crime_types):\n",
    "    t1 = time.time()\n",
    "    top_crimes = crimes[crimes[\"Primary Type\"].isin(top_crime_types)]\n",
    "    print(\"Filtering crimes Time: \", ((time.time() - t1) * 1000), \" (ms)\")\n",
    "    return top_crimes\n",
    "\n",
    "\n",
    "crimes = filter_crimes(crimes, top_crime_types)\n",
    "if bodo.get_rank() == 0:\n",
    "    print(crimes.head())"
   ]
  },
  {
   "cell_type": "markdown",
   "metadata": {},
   "source": [
    "## Crime Analysis\n",
    "\n",
    "### Find Pattern of each crime over the years\n",
    "\n"
   ]
  },
  {
   "cell_type": "code",
   "execution_count": null,
   "metadata": {},
   "outputs": [],
   "source": [
    "%%px\n",
    "@bodo.jit(cache=True)\n",
    "def get_crimes_count_date(crimes):\n",
    "    t1 = time.time()\n",
    "    crimes_count_date = crimes.pivot_table(\n",
    "        index=\"date only\", columns=\"Primary Type\", values=\"ID\", aggfunc=\"count\"\n",
    "    )\n",
    "    print(\"Computing Crime Pattern Time: \", ((time.time() - t1) * 1000), \" (ms)\")\n",
    "    return crimes_count_date\n",
    "\n",
    "\n",
    "crimes_count_date = get_crimes_count_date(crimes)"
   ]
  },
  {
   "cell_type": "code",
   "execution_count": null,
   "metadata": {},
   "outputs": [],
   "source": [
    "%%px\n",
    "@bodo.jit\n",
    "def get_crimes_type_date(crimes_count_date):\n",
    "    t1 = time.time()\n",
    "    crimes_count_date.index = pd.DatetimeIndex(crimes_count_date.index)\n",
    "    result = crimes_count_date.fillna(0).rolling(365).sum()\n",
    "    result = result.sort_index(ascending=False)\n",
    "    print(\"Computing Crime Pattern Time: \", ((time.time() - t1) * 1000), \" (ms)\")\n",
    "    return result\n",
    "\n",
    "\n",
    "get_crimes_type_date = get_crimes_type_date(crimes_count_date)\n",
    "if bodo.get_rank() == 0:\n",
    "    print(get_crimes_type_date.head())"
   ]
  },
  {
   "cell_type": "markdown",
   "metadata": {},
   "source": [
    "## A general view of crime records by time, type and location\n",
    "\n",
    "### Determining the pattern on daily basis"
   ]
  },
  {
   "cell_type": "code",
   "execution_count": null,
   "metadata": {},
   "outputs": [],
   "source": [
    "%%px\n",
    "@bodo.jit(distributed=[\"crimes\", \"crimes_days\"], cache=True)\n",
    "def get_crimes_by_days(crimes):\n",
    "    t1 = time.time()\n",
    "    crimes_days = (\n",
    "        crimes.groupby(\"dow\", as_index=False)[\"ID\"].count().sort_values(by=\"dow\")\n",
    "    )\n",
    "    print(\"Group by days Time: \", ((time.time() - t1) * 1000), \" (ms)\")\n",
    "    return crimes_days\n",
    "\n",
    "\n",
    "crimes_days = get_crimes_by_days(crimes)\n",
    "if bodo.get_rank() == 0:\n",
    "    print(crimes_days.head())"
   ]
  },
  {
   "cell_type": "markdown",
   "metadata": {},
   "source": [
    "### Determining the pattern on monthly basis"
   ]
  },
  {
   "cell_type": "code",
   "execution_count": null,
   "metadata": {},
   "outputs": [],
   "source": [
    "%%px\n",
    "@bodo.jit(distributed=[\"crimes\", \"crimes_months\"], cache=True)\n",
    "def get_crimes_by_months(crimes):\n",
    "    t1 = time.time()\n",
    "    crimes[\"month\"] = crimes[\"Date\"].dt.month\n",
    "    crimes_months = (\n",
    "        crimes.groupby(\"month\", as_index=False)[\"ID\"].count().sort_values(by=\"month\")\n",
    "    )\n",
    "    print(\"Group by days Time: \", ((time.time() - t1) * 1000), \" (ms)\")\n",
    "    return crimes_months\n",
    "\n",
    "\n",
    "crimes_months = get_crimes_by_months(crimes)\n",
    "if bodo.get_rank() == 0:\n",
    "    print(crimes_months.head())"
   ]
  },
  {
   "cell_type": "markdown",
   "metadata": {},
   "source": [
    "### Determining the pattern by crime type"
   ]
  },
  {
   "cell_type": "code",
   "execution_count": null,
   "metadata": {
    "tags": []
   },
   "outputs": [],
   "source": [
    "%%px\n",
    "@bodo.jit(distributed=[\"crimes\", \"crimes_type\"], cache=True)\n",
    "def get_crimes_by_type(crimes):\n",
    "    t1 = time.time()\n",
    "    crimes_type = (\n",
    "        crimes.groupby(\"Primary Type\", as_index=False)[\"ID\"]\n",
    "        .count()\n",
    "        .sort_values(by=\"ID\", ascending=False)\n",
    "    )\n",
    "    print(\"Group by days Time: \", ((time.time() - t1) * 1000), \" (ms)\")\n",
    "    return crimes_type\n",
    "\n",
    "\n",
    "crimes_type = get_crimes_by_type(crimes)\n",
    "if bodo.get_rank() == 0:\n",
    "    print(crimes_type.head())"
   ]
  },
  {
   "cell_type": "markdown",
   "metadata": {},
   "source": [
    "### Determining the pattern by location"
   ]
  },
  {
   "cell_type": "code",
   "execution_count": null,
   "metadata": {
    "tags": []
   },
   "outputs": [],
   "source": [
    "%%px\n",
    "@bodo.jit(distributed=[\"crimes\", \"crimes_location\"], cache=True)\n",
    "def get_crimes_by_location(crimes):\n",
    "    t1 = time.time()\n",
    "    crimes_location = (\n",
    "        crimes.groupby(\"Location Description\", as_index=False)[\"ID\"]\n",
    "        .count()\n",
    "        .sort_values(by=\"ID\", ascending=False)\n",
    "    )\n",
    "    print(\"Group by days Time: \", ((time.time() - t1) * 1000), \" (ms)\")\n",
    "    return crimes_location\n",
    "\n",
    "\n",
    "crimes_location = get_crimes_by_location(crimes)\n",
    "if bodo.get_rank() == 0:\n",
    "    print(crimes_location.head())"
   ]
  },
  {
   "cell_type": "code",
   "execution_count": null,
   "metadata": {
    "tags": []
   },
   "outputs": [],
   "source": [
    "# To stop the cluster run the following command.\n",
    "rc.cluster.stop_cluster_sync()"
   ]
  }
 ],
 "metadata": {
  "kernelspec": {
   "display_name": "saturn (Python 3)",
   "language": "python",
   "name": "python3"
  },
  "language_info": {
   "codemirror_mode": {
    "name": "ipython",
    "version": 3
   },
   "file_extension": ".py",
   "mimetype": "text/x-python",
   "name": "python",
   "nbconvert_exporter": "python",
   "pygments_lexer": "ipython3",
   "version": "3.9.9"
  }
 },
 "nbformat": 4,
 "nbformat_minor": 4
}
