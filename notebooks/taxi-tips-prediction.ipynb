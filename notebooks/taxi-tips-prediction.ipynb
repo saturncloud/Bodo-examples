{
 "cells": [
  {
   "cell_type": "markdown",
   "id": "conservative-ghost",
   "metadata": {},
   "source": [
    "# NYC Yellow Taxi Tips Prediction With Machine Learning in Python\n",
    "\n",
    "This example shows use of regression models to predict taxi tip fractions. \n",
    "Original example can be found [here](https://github.com/saturncloud/workshop-scaling-ml/blob/main/04-large-dataset.ipynb)."
   ]
  },
  {
   "cell_type": "markdown",
   "id": "falling-intelligence",
   "metadata": {},
   "source": [
    "### Notes on running this example:\n",
    "\n",
    "By defaults runs use Bodo. Hence, data is distributed in chunks across processes.\n",
    "\n",
    "\n",
    "To run the code:\n",
    "1. Make sure you [add your AWS account credentials to Saturn Cloud](https://saturncloud.io/docs/examples/python/load-data/qs-load-data-s3/#create-aws-credentials) to access the data.\n",
    "2. If you want to run the example using pandas only (without Bodo):\n",
    "    1. Comment lines magic expression (`%%px`) and bodo decorator (`@bodo.jit`) from all the code cells.\n",
    "    2. Then, re-run cells from the beginning."
   ]
  },
  {
   "cell_type": "markdown",
   "id": "ea1f302f-c922-4942-874e-b0a6787022f2",
   "metadata": {},
   "source": [
    "### Start an IPyParallel cluster\n",
    "Run the following code in a cell to start an IPyParallel cluster. 4 cores are used in this example. "
   ]
  },
  {
   "cell_type": "code",
   "execution_count": 1,
   "id": "0050c46a-4484-40f4-9aed-5ebccfb5abab",
   "metadata": {
    "execution": {
     "iopub.execute_input": "2022-03-28T14:29:02.217226Z",
     "iopub.status.busy": "2022-03-28T14:29:02.216740Z",
     "iopub.status.idle": "2022-03-28T14:29:09.204201Z",
     "shell.execute_reply": "2022-03-28T14:29:09.203419Z",
     "shell.execute_reply.started": "2022-03-28T14:29:02.217149Z"
    },
    "tags": []
   },
   "outputs": [
    {
     "name": "stdout",
     "output_type": "stream",
     "text": [
      "Starting 8 engines with <class 'ipyparallel.cluster.launcher.MPIEngineSetLauncher'>\n"
     ]
    },
    {
     "data": {
      "application/vnd.jupyter.widget-view+json": {
       "model_id": "71e105a44c784c30be5f7e10cd9f644b",
       "version_major": 2,
       "version_minor": 0
      },
      "text/plain": [
       "  0%|          | 0/8 [00:00<?, ?engine/s]"
      ]
     },
     "metadata": {},
     "output_type": "display_data"
    }
   ],
   "source": [
    "import ipyparallel as ipp\n",
    "import psutil\n",
    "\n",
    "n = min(psutil.cpu_count(logical=False), 8)\n",
    "rc = ipp.Cluster(engines=\"mpi\", n=n).start_and_connect_sync(activate=True)"
   ]
  },
  {
   "cell_type": "markdown",
   "id": "b93f5e9e-78f1-4be3-940a-3fb2b2132927",
   "metadata": {},
   "source": [
    "### Verifying your setup\n",
    "Run the following code to verify that your IPyParallel cluster is set up correctly:"
   ]
  },
  {
   "cell_type": "code",
   "execution_count": 2,
   "id": "2f73c63c-ce82-4d0c-9ecd-8d8b1cf5ea4d",
   "metadata": {
    "execution": {
     "iopub.execute_input": "2022-03-28T14:29:09.206036Z",
     "iopub.status.busy": "2022-03-28T14:29:09.205455Z",
     "iopub.status.idle": "2022-03-28T14:29:11.955673Z",
     "shell.execute_reply": "2022-03-28T14:29:11.955108Z",
     "shell.execute_reply.started": "2022-03-28T14:29:09.206007Z"
    }
   },
   "outputs": [
    {
     "data": {
      "text/plain": [
       "[stdout:5] Hello World from rank 5. Total ranks=8\n"
      ]
     },
     "metadata": {},
     "output_type": "display_data"
    },
    {
     "data": {
      "text/plain": [
       "[stdout:0] Hello World from rank 0. Total ranks=8\n"
      ]
     },
     "metadata": {},
     "output_type": "display_data"
    },
    {
     "data": {
      "text/plain": [
       "[stdout:7] Hello World from rank 7. Total ranks=8\n"
      ]
     },
     "metadata": {},
     "output_type": "display_data"
    },
    {
     "data": {
      "text/plain": [
       "[stdout:4] Hello World from rank 4. Total ranks=8\n"
      ]
     },
     "metadata": {},
     "output_type": "display_data"
    },
    {
     "data": {
      "text/plain": [
       "[stdout:6] Hello World from rank 6. Total ranks=8\n"
      ]
     },
     "metadata": {},
     "output_type": "display_data"
    },
    {
     "data": {
      "application/vnd.jupyter.widget-view+json": {
       "model_id": "187edcad18974828831ec23b698c6e05",
       "version_major": 2,
       "version_minor": 0
      },
      "text/plain": [
       "%px:   0%|          | 0/8 [00:00<?, ?tasks/s]"
      ]
     },
     "metadata": {},
     "output_type": "display_data"
    },
    {
     "data": {
      "text/plain": [
       "[stdout:1] Hello World from rank 1. Total ranks=8\n"
      ]
     },
     "metadata": {},
     "output_type": "display_data"
    },
    {
     "data": {
      "text/plain": [
       "[stdout:3] Hello World from rank 3. Total ranks=8\n"
      ]
     },
     "metadata": {},
     "output_type": "display_data"
    },
    {
     "data": {
      "text/plain": [
       "[stdout:2] Hello World from rank 2. Total ranks=8\n"
      ]
     },
     "metadata": {},
     "output_type": "display_data"
    }
   ],
   "source": [
    "%%px\n",
    "import bodo\n",
    "\n",
    "print(f\"Hello World from rank {bodo.get_rank()}. Total ranks={bodo.get_size()}\")"
   ]
  },
  {
   "cell_type": "markdown",
   "id": "unsigned-asset",
   "metadata": {},
   "source": [
    "## Importing the Packages\n",
    "\n",
    "These are the main packages we are going to work with:\n",
    " - Bodo to parallelize Python code automatically\n",
    " - Pandas to work with data\n",
    " - scikit-learn to build and evaluate regression models\n",
    " - xgboost for xgboost regressor model"
   ]
  },
  {
   "cell_type": "code",
   "execution_count": 3,
   "id": "japanese-edward",
   "metadata": {
    "execution": {
     "iopub.execute_input": "2022-03-28T14:29:11.957404Z",
     "iopub.status.busy": "2022-03-28T14:29:11.957113Z",
     "iopub.status.idle": "2022-03-28T14:29:12.650409Z",
     "shell.execute_reply": "2022-03-28T14:29:12.649644Z",
     "shell.execute_reply.started": "2022-03-28T14:29:11.957379Z"
    }
   },
   "outputs": [],
   "source": [
    "%%px\n",
    "import warnings\n",
    "\n",
    "warnings.filterwarnings(\"ignore\")\n",
    "\n",
    "import time\n",
    "\n",
    "import bodo\n",
    "import pandas as pd\n",
    "from sklearn.linear_model import Lasso, LinearRegression, Ridge, SGDRegressor\n",
    "from sklearn.metrics import mean_squared_error\n",
    "from sklearn.model_selection import train_test_split"
   ]
  },
  {
   "cell_type": "markdown",
   "id": "hungry-director",
   "metadata": {},
   "source": [
    "## Load data"
   ]
  },
  {
   "cell_type": "code",
   "execution_count": 4,
   "id": "weird-opening",
   "metadata": {
    "execution": {
     "iopub.execute_input": "2022-03-28T14:29:12.651472Z",
     "iopub.status.busy": "2022-03-28T14:29:12.651199Z",
     "iopub.status.idle": "2022-03-28T14:31:42.680125Z",
     "shell.execute_reply": "2022-03-28T14:31:42.679704Z",
     "shell.execute_reply.started": "2022-03-28T14:29:12.651435Z"
    }
   },
   "outputs": [
    {
     "data": {
      "application/vnd.jupyter.widget-view+json": {
       "model_id": "41e060bd1870428697c4a6d2e28e323e",
       "version_major": 2,
       "version_minor": 0
      },
      "text/plain": [
       "%px:   0%|          | 0/8 [00:00<?, ?tasks/s]"
      ]
     },
     "metadata": {},
     "output_type": "display_data"
    },
    {
     "data": {
      "text/plain": [
       "[stdout:0] Reading time:  148.35999703407288\n",
       "   VendorID tpep_pickup_datetime tpep_dropoff_datetime  passenger_count  \\\n",
       "0         1  2019-01-01 00:46:40   2019-01-01 00:53:20                1   \n",
       "1         1  2019-01-01 00:59:47   2019-01-01 01:18:59                1   \n",
       "2         2  2018-12-21 13:48:30   2018-12-21 13:52:40                3   \n",
       "3         2  2018-11-28 15:52:25   2018-11-28 15:55:45                5   \n",
       "4         2  2018-11-28 15:56:57   2018-11-28 15:58:33                5   \n",
       "\n",
       "   trip_distance  RatecodeID store_and_fwd_flag  PULocationID  DOLocationID  \\\n",
       "0            1.5           1                  N           151           239   \n",
       "1            2.6           1                  N           239           246   \n",
       "2            0.0           1                  N           236           236   \n",
       "3            0.0           1                  N           193           193   \n",
       "4            0.0           2                  N           193           193   \n",
       "\n",
       "   payment_type  fare_amount  extra  mta_tax  tip_amount  tolls_amount  \\\n",
       "0             1          7.0    0.5      0.5        1.65           0.0   \n",
       "1             1         14.0    0.5      0.5        1.00           0.0   \n",
       "2             1          4.5    0.5      0.5        0.00           0.0   \n",
       "3             2          3.5    0.5      0.5        0.00           0.0   \n",
       "4             2         52.0    0.0      0.5        0.00           0.0   \n",
       "\n",
       "   improvement_surcharge  total_amount  congestion_surcharge  \n",
       "0                    0.3          9.95                   NaN  \n",
       "1                    0.3         16.30                   NaN  \n",
       "2                    0.3          5.80                   NaN  \n",
       "3                    0.3          7.55                   NaN  \n",
       "4                    0.3         55.55                   NaN  \n",
       "(84399019, 18)\n"
      ]
     },
     "metadata": {},
     "output_type": "display_data"
    }
   ],
   "source": [
    "%%px\n",
    "@bodo.jit(distributed=[\"taxi\"], cache=True)\n",
    "def get_taxi_trips():\n",
    "    start = time.time()\n",
    "    taxi = pd.read_csv(\n",
    "        \"s3://bodo-example-data/nyc-taxi/yellow_tripdata_2019.csv\",\n",
    "        parse_dates=[\"tpep_pickup_datetime\", \"tpep_dropoff_datetime\"],\n",
    "    )\n",
    "    print(\"Reading time: \", time.time() - start)\n",
    "    print(taxi.head())\n",
    "    print(taxi.shape)\n",
    "    return taxi\n",
    "\n",
    "\n",
    "taxi = get_taxi_trips()"
   ]
  },
  {
   "cell_type": "markdown",
   "id": "simplified-tsunami",
   "metadata": {},
   "source": [
    "## Exploratory analysis"
   ]
  },
  {
   "cell_type": "markdown",
   "id": "reflected-cherry",
   "metadata": {},
   "source": [
    "## Feature engineering\n",
    "\n",
    "1. Create features before performing any data splitting.\n",
    "2. Split data into train/test sets."
   ]
  },
  {
   "cell_type": "code",
   "execution_count": 5,
   "id": "suited-original",
   "metadata": {
    "execution": {
     "iopub.execute_input": "2022-03-28T14:31:42.680843Z",
     "iopub.status.busy": "2022-03-28T14:31:42.680642Z",
     "iopub.status.idle": "2022-03-28T14:31:52.153599Z",
     "shell.execute_reply": "2022-03-28T14:31:52.153110Z",
     "shell.execute_reply.started": "2022-03-28T14:31:42.680824Z"
    }
   },
   "outputs": [
    {
     "data": {
      "application/vnd.jupyter.widget-view+json": {
       "model_id": "e419027cb1f5405f8e46b730a354023a",
       "version_major": 2,
       "version_minor": 0
      },
      "text/plain": [
       "%px:   0%|          | 0/8 [00:00<?, ?tasks/s]"
      ]
     },
     "metadata": {},
     "output_type": "display_data"
    },
    {
     "data": {
      "text/plain": [
       "[stdout:0] Data preparation time:  8.446730852127075\n",
       "   pickup_weekday  pickup_weekofyear  pickup_hour  pickup_week_hour  \\\n",
       "0             1.0                1.0          0.0              24.0   \n",
       "1             1.0                1.0          0.0              24.0   \n",
       "2             4.0               51.0         13.0             109.0   \n",
       "3             2.0               48.0         15.0              63.0   \n",
       "4             2.0               48.0         15.0              63.0   \n",
       "\n",
       "   pickup_minute  passenger_count  tip_fraction  \n",
       "0           46.0              1.0      0.235714  \n",
       "1           59.0              1.0      0.071429  \n",
       "2           48.0              3.0      0.000000  \n",
       "3           52.0              5.0      0.000000  \n",
       "4           56.0              5.0      0.000000  \n"
      ]
     },
     "metadata": {},
     "output_type": "display_data"
    },
    {
     "data": {
      "text/plain": [
       "[stdout:1] Empty DataFrame\n",
       "Columns: [pickup_weekday, pickup_weekofyear, pickup_hour, pickup_week_hour, pickup_minute, passenger_count, tip_fraction]\n",
       "Index: []\n"
      ]
     },
     "metadata": {},
     "output_type": "display_data"
    },
    {
     "data": {
      "text/plain": [
       "[stdout:5] Empty DataFrame\n",
       "Columns: [pickup_weekday, pickup_weekofyear, pickup_hour, pickup_week_hour, pickup_minute, passenger_count, tip_fraction]\n",
       "Index: []\n"
      ]
     },
     "metadata": {},
     "output_type": "display_data"
    },
    {
     "data": {
      "text/plain": [
       "[stdout:7] Empty DataFrame\n",
       "Columns: [pickup_weekday, pickup_weekofyear, pickup_hour, pickup_week_hour, pickup_minute, passenger_count, tip_fraction]\n",
       "Index: []\n"
      ]
     },
     "metadata": {},
     "output_type": "display_data"
    },
    {
     "data": {
      "text/plain": [
       "[stdout:6] Empty DataFrame\n",
       "Columns: [pickup_weekday, pickup_weekofyear, pickup_hour, pickup_week_hour, pickup_minute, passenger_count, tip_fraction]\n",
       "Index: []\n"
      ]
     },
     "metadata": {},
     "output_type": "display_data"
    },
    {
     "data": {
      "text/plain": [
       "[stdout:2] Empty DataFrame\n",
       "Columns: [pickup_weekday, pickup_weekofyear, pickup_hour, pickup_week_hour, pickup_minute, passenger_count, tip_fraction]\n",
       "Index: []\n"
      ]
     },
     "metadata": {},
     "output_type": "display_data"
    },
    {
     "data": {
      "text/plain": [
       "[stdout:3] Empty DataFrame\n",
       "Columns: [pickup_weekday, pickup_weekofyear, pickup_hour, pickup_week_hour, pickup_minute, passenger_count, tip_fraction]\n",
       "Index: []\n"
      ]
     },
     "metadata": {},
     "output_type": "display_data"
    },
    {
     "data": {
      "text/plain": [
       "[stdout:4] Empty DataFrame\n",
       "Columns: [pickup_weekday, pickup_weekofyear, pickup_hour, pickup_week_hour, pickup_minute, passenger_count, tip_fraction]\n",
       "Index: []\n"
      ]
     },
     "metadata": {},
     "output_type": "display_data"
    }
   ],
   "source": [
    "%%px\n",
    "@bodo.jit(distributed=[\"taxi_df\", \"df\"], cache=True)\n",
    "def prep_df(taxi_df):\n",
    "    \"\"\"\n",
    "    Generate features from a raw taxi dataframe.\n",
    "    \"\"\"\n",
    "    start = time.time()\n",
    "    df = taxi_df[taxi_df.fare_amount > 0][\n",
    "        \"tpep_pickup_datetime\", \"passenger_count\", \"tip_amount\", \"fare_amount\"\n",
    "    ].copy()  # avoid divide-by-zero\n",
    "    df[\"tip_fraction\"] = df.tip_amount / df.fare_amount\n",
    "\n",
    "    df[\"pickup_weekday\"] = df.tpep_pickup_datetime.dt.weekday\n",
    "    df[\"pickup_weekofyear\"] = df.tpep_pickup_datetime.dt.weekofyear\n",
    "    df[\"pickup_hour\"] = df.tpep_pickup_datetime.dt.hour\n",
    "    df[\"pickup_week_hour\"] = (df.pickup_weekday * 24) + df.pickup_hour\n",
    "    df[\"pickup_minute\"] = df.tpep_pickup_datetime.dt.minute\n",
    "    df = (\n",
    "        df[\n",
    "            \"pickup_weekday\",\n",
    "            \"pickup_weekofyear\",\n",
    "            \"pickup_hour\",\n",
    "            \"pickup_week_hour\",\n",
    "            \"pickup_minute\",\n",
    "            \"passenger_count\",\n",
    "            \"tip_fraction\",\n",
    "        ]\n",
    "        .astype(float)\n",
    "        .fillna(-1)\n",
    "    )\n",
    "    print(\"Data preparation time: \", time.time() - start)\n",
    "    print(df.head())\n",
    "    return df\n",
    "\n",
    "\n",
    "taxi_feat = prep_df(taxi)"
   ]
  },
  {
   "cell_type": "code",
   "execution_count": 6,
   "id": "bottom-ecology",
   "metadata": {
    "execution": {
     "iopub.execute_input": "2022-03-28T14:31:52.154625Z",
     "iopub.status.busy": "2022-03-28T14:31:52.154174Z",
     "iopub.status.idle": "2022-03-28T14:32:32.718810Z",
     "shell.execute_reply": "2022-03-28T14:32:32.718369Z",
     "shell.execute_reply.started": "2022-03-28T14:31:52.154606Z"
    }
   },
   "outputs": [
    {
     "data": {
      "application/vnd.jupyter.widget-view+json": {
       "model_id": "5d6937ba157c4a0a9b9869acc6326a6a",
       "version_major": 2,
       "version_minor": 0
      },
      "text/plain": [
       "%px:   0%|          | 0/8 [00:00<?, ?tasks/s]"
      ]
     },
     "metadata": {},
     "output_type": "display_data"
    }
   ],
   "source": [
    "%%px\n",
    "@bodo.jit(distributed=[\"taxi_feat\", \"X_train\", \"X_test\", \"y_train\", \"y_test\"])\n",
    "def data_split(taxi_feat):\n",
    "    X_train, X_test, y_train, y_test = train_test_split(\n",
    "        taxi_feat[\n",
    "            \"pickup_weekday\",\n",
    "            \"pickup_weekofyear\",\n",
    "            \"pickup_hour\",\n",
    "            \"pickup_week_hour\",\n",
    "            \"pickup_minute\",\n",
    "            \"passenger_count\",\n",
    "        ],\n",
    "        taxi_feat[\"tip_fraction\"],\n",
    "        test_size=0.3,\n",
    "        train_size=0.7,\n",
    "        random_state=42,\n",
    "    )\n",
    "    return X_train, X_test, y_train, y_test\n",
    "\n",
    "\n",
    "X_train, X_test, y_train, y_test = data_split(taxi_feat)"
   ]
  },
  {
   "cell_type": "markdown",
   "id": "romantic-surprise",
   "metadata": {},
   "source": [
    "## Train Model over large dataset\n",
    "\n",
    "We'll train a linear model to predict tip_fraction and evaluate these models against the test set using RMSE.\n",
    "\n",
    "#### 1. Linear Regression"
   ]
  },
  {
   "cell_type": "code",
   "execution_count": 7,
   "id": "rocky-briefs",
   "metadata": {
    "execution": {
     "iopub.execute_input": "2022-03-28T14:32:32.719526Z",
     "iopub.status.busy": "2022-03-28T14:32:32.719344Z",
     "iopub.status.idle": "2022-03-28T14:33:06.101237Z",
     "shell.execute_reply": "2022-03-28T14:33:06.100593Z",
     "shell.execute_reply.started": "2022-03-28T14:32:32.719509Z"
    }
   },
   "outputs": [
    {
     "data": {
      "application/vnd.jupyter.widget-view+json": {
       "model_id": "a73c10d5723641ba8e63cb8c232825a6",
       "version_major": 2,
       "version_minor": 0
      },
      "text/plain": [
       "%px:   0%|          | 0/8 [00:00<?, ?tasks/s]"
      ]
     },
     "metadata": {},
     "output_type": "display_data"
    },
    {
     "data": {
      "text/plain": [
       "[stdout:0] Linear Regression fitting time:  32.709486961364746\n",
       "Linear Regression prediction time:  0.4321110248565674\n",
       "15.824122160595941\n"
      ]
     },
     "metadata": {},
     "output_type": "display_data"
    }
   ],
   "source": [
    "%%px\n",
    "@bodo.jit(distributed=[\"X_train\", \"y_train\", \"X_test\", \"y_test\"], cache=True)\n",
    "def lr_model(X_train, y_train, X_test, y_test):\n",
    "    start = time.time()\n",
    "    lr = LinearRegression()\n",
    "    lr_fitted = lr.fit(X_train, y_train)\n",
    "    print(\"Linear Regression fitting time: \", time.time() - start)\n",
    "\n",
    "    start = time.time()\n",
    "    lr_preds = lr_fitted.predict(X_test)\n",
    "    print(\"Linear Regression prediction time: \", time.time() - start)\n",
    "    print(mean_squared_error(y_test, lr_preds, squared=False))\n",
    "\n",
    "\n",
    "lr_model(X_train, y_train, X_test, y_test)"
   ]
  },
  {
   "cell_type": "markdown",
   "id": "martial-julian",
   "metadata": {},
   "source": [
    "#### 2. Ridge"
   ]
  },
  {
   "cell_type": "code",
   "execution_count": 8,
   "id": "collaborative-prison",
   "metadata": {
    "execution": {
     "iopub.execute_input": "2022-03-28T14:33:06.102048Z",
     "iopub.status.busy": "2022-03-28T14:33:06.101885Z",
     "iopub.status.idle": "2022-03-28T14:33:43.005800Z",
     "shell.execute_reply": "2022-03-28T14:33:43.005397Z",
     "shell.execute_reply.started": "2022-03-28T14:33:06.102025Z"
    }
   },
   "outputs": [
    {
     "data": {
      "application/vnd.jupyter.widget-view+json": {
       "model_id": "0c8153fce0b640459efe29e0b664d5ff",
       "version_major": 2,
       "version_minor": 0
      },
      "text/plain": [
       "%px:   0%|          | 0/8 [00:00<?, ?tasks/s]"
      ]
     },
     "metadata": {},
     "output_type": "display_data"
    },
    {
     "data": {
      "text/plain": [
       "[stdout:0] Ridge fitting time:  32.57842803001404\n",
       "Ridge prediction time:  0.09001302719116211\n",
       "15.822561552688157\n"
      ]
     },
     "metadata": {},
     "output_type": "display_data"
    }
   ],
   "source": [
    "%%px\n",
    "@bodo.jit(distributed=[\"X_train\", \"y_train\", \"X_test\", \"y_test\"])\n",
    "def rr_model(X_train, y_train, X_test, y_test):\n",
    "    start = time.time()\n",
    "    rr = Ridge()\n",
    "    rr_fitted = rr.fit(X_train, y_train)\n",
    "    print(\"Ridge fitting time: \", time.time() - start)\n",
    "\n",
    "    start = time.time()\n",
    "    rr_preds = rr_fitted.predict(X_test)\n",
    "    print(\"Ridge prediction time: \", time.time() - start)\n",
    "    print(mean_squared_error(y_test, rr_preds, squared=False))\n",
    "\n",
    "\n",
    "rr_model(X_train, y_train, X_test, y_test)"
   ]
  },
  {
   "cell_type": "markdown",
   "id": "separated-session",
   "metadata": {},
   "source": [
    "#### 3. Lasso"
   ]
  },
  {
   "cell_type": "code",
   "execution_count": 9,
   "id": "executed-winning",
   "metadata": {
    "execution": {
     "iopub.execute_input": "2022-03-28T14:33:43.006518Z",
     "iopub.status.busy": "2022-03-28T14:33:43.006320Z",
     "iopub.status.idle": "2022-03-28T14:34:20.926538Z",
     "shell.execute_reply": "2022-03-28T14:34:20.925998Z",
     "shell.execute_reply.started": "2022-03-28T14:33:43.006500Z"
    }
   },
   "outputs": [
    {
     "data": {
      "application/vnd.jupyter.widget-view+json": {
       "model_id": "894d45d4f8ba4e4c8373ee5849ce7c3d",
       "version_major": 2,
       "version_minor": 0
      },
      "text/plain": [
       "%px:   0%|          | 0/8 [00:00<?, ?tasks/s]"
      ]
     },
     "metadata": {},
     "output_type": "display_data"
    },
    {
     "data": {
      "text/plain": [
       "[stdout:0] Lasso fitting time:  35.245792865753174\n",
       "Lasso prediction time:  0.05363106727600098\n",
       "15.822415914128683\n"
      ]
     },
     "metadata": {},
     "output_type": "display_data"
    }
   ],
   "source": [
    "%%px\n",
    "@bodo.jit(distributed=[\"X_train\", \"y_train\", \"X_test\", \"y_test\"])\n",
    "def lsr_model(X_train, y_train, X_test, y_test):\n",
    "    start = time.time()\n",
    "    lsr = Lasso()\n",
    "    lsr_fitted = lsr.fit(X_train, y_train)\n",
    "    print(\"Lasso fitting time: \", time.time() - start)\n",
    "\n",
    "    start = time.time()\n",
    "    lsr_preds = lsr_fitted.predict(X_test)\n",
    "    print(\"Lasso prediction time: \", time.time() - start)\n",
    "    print(mean_squared_error(y_test, lsr_preds, squared=False))\n",
    "\n",
    "\n",
    "lsr_model(X_train, y_train, X_test, y_test)"
   ]
  },
  {
   "cell_type": "markdown",
   "id": "greater-evolution",
   "metadata": {},
   "source": [
    "#### 4. SGDRegressor"
   ]
  },
  {
   "cell_type": "code",
   "execution_count": 10,
   "id": "related-michael",
   "metadata": {
    "execution": {
     "iopub.execute_input": "2022-03-28T14:34:20.927301Z",
     "iopub.status.busy": "2022-03-28T14:34:20.927116Z",
     "iopub.status.idle": "2022-03-28T14:34:55.491200Z",
     "shell.execute_reply": "2022-03-28T14:34:55.490740Z",
     "shell.execute_reply.started": "2022-03-28T14:34:20.927283Z"
    }
   },
   "outputs": [
    {
     "data": {
      "application/vnd.jupyter.widget-view+json": {
       "model_id": "e179c95773f746cc938bf8d0cfa08ef9",
       "version_major": 2,
       "version_minor": 0
      },
      "text/plain": [
       "%px:   0%|          | 0/8 [00:00<?, ?tasks/s]"
      ]
     },
     "metadata": {},
     "output_type": "display_data"
    },
    {
     "data": {
      "text/plain": [
       "[stdout:0] SGDRegressor fitting time:  32.32445311546326\n",
       "SGDRegressor prediction time:  0.09289813041687012\n",
       "15.822485516985774\n"
      ]
     },
     "metadata": {},
     "output_type": "display_data"
    }
   ],
   "source": [
    "%%px\n",
    "@bodo.jit(distributed=[\"X_train\", \"y_train\", \"X_test\", \"y_test\"])\n",
    "def sgdr_model(X_train, y_train, X_test, y_test):\n",
    "    start = time.time()\n",
    "    sgdr = SGDRegressor(max_iter=100, penalty=\"l2\")\n",
    "    sgdr_fitted = sgdr.fit(X_train, y_train)\n",
    "    print(\"SGDRegressor fitting time: \", time.time() - start)\n",
    "\n",
    "    start = time.time()\n",
    "    sgdr_preds = sgdr_fitted.predict(X_test)\n",
    "    print(\"SGDRegressor prediction time: \", time.time() - start)\n",
    "    print(mean_squared_error(y_test, sgdr_preds, squared=False))\n",
    "\n",
    "\n",
    "sgdr_model(X_train, y_train, X_test, y_test)"
   ]
  },
  {
   "cell_type": "code",
   "execution_count": 13,
   "id": "conditional-hindu",
   "metadata": {
    "execution": {
     "iopub.execute_input": "2022-03-28T14:40:04.946628Z",
     "iopub.status.busy": "2022-03-28T14:40:04.945426Z",
     "iopub.status.idle": "2022-03-28T14:40:07.312072Z",
     "shell.execute_reply": "2022-03-28T14:40:07.311420Z",
     "shell.execute_reply.started": "2022-03-28T14:40:04.946585Z"
    },
    "tags": []
   },
   "outputs": [],
   "source": [
    "# To stop the cluster run the following command.\n",
    "rc.cluster.stop_cluster_sync()"
   ]
  }
 ],
 "metadata": {
  "kernelspec": {
   "display_name": "saturn (Python 3)",
   "language": "python",
   "name": "python3"
  },
  "language_info": {
   "codemirror_mode": {
    "name": "ipython",
    "version": 3
   },
   "file_extension": ".py",
   "mimetype": "text/x-python",
   "name": "python",
   "nbconvert_exporter": "python",
   "pygments_lexer": "ipython3",
   "version": "3.9.9"
  }
 },
 "nbformat": 4,
 "nbformat_minor": 5
}
