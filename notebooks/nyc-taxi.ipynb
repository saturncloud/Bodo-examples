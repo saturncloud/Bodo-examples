{
 "cells": [
  {
   "cell_type": "markdown",
   "metadata": {},
   "source": [
    "# New York City Taxi Analysis\n",
    "In this example we show some analysis for yellow and green taxi trips originating in New York City in 2019. \n",
    "\n",
    "Orignal example can be found [here](https://github.com/toddwschneider/nyc-taxi-data)\n",
    "\n",
    "The queries are originally in SQL format and here they are implemented using the pandas API."
   ]
  },
  {
   "cell_type": "markdown",
   "metadata": {},
   "source": [
    "### Notes on running these queries:\n",
    "\n",
    "Bodo is used by defaults, which distributes data chunks across cores automatically.\n",
    "\n",
    "Dataset size is ~8GB.\n",
    "\n",
    "To run the code:\n",
    "1. Make sure you [add your AWS account credentials to Saturn Cloud](https://saturncloud.io/docs/examples/python/load-data/qs-load-data-s3/#create-aws-credentials) to access the data.\n",
    "2. If you want to run a query in regular pandas:\n",
    "    1. Comment lines with Jupyter parallel magic (%%px) and bodo decorator (@bodo.jit) from all the code cells.\n",
    "    2. Then, re-run cells from the beginning.\n",
    "\n"
   ]
  },
  {
   "cell_type": "markdown",
   "metadata": {},
   "source": [
    "### Start an IPyParallel cluster\n",
    "Run the following code in a cell to start an IPyParallel cluster. 4 cores are used in this example. "
   ]
  },
  {
   "cell_type": "code",
   "execution_count": null,
   "metadata": {},
   "outputs": [],
   "source": [
    "import ipyparallel as ipp\n",
    "import psutil\n",
    "\n",
    "n = min(psutil.cpu_count(logical=False), 8)\n",
    "rc = ipp.Cluster(engines=\"mpi\", n=n).start_and_connect_sync(activate=True)"
   ]
  },
  {
   "cell_type": "markdown",
   "metadata": {},
   "source": [
    "### Verifying your setup\n",
    "Run the following code to verify that your IPyParallel cluster is set up correctly:"
   ]
  },
  {
   "cell_type": "code",
   "execution_count": null,
   "metadata": {},
   "outputs": [],
   "source": [
    "%%px\n",
    "import bodo\n",
    "\n",
    "print(f\"Hello World from rank {bodo.get_rank()}. Total ranks={bodo.get_size()}\")"
   ]
  },
  {
   "cell_type": "code",
   "execution_count": null,
   "metadata": {},
   "outputs": [],
   "source": [
    "%%px\n",
    "import time\n",
    "\n",
    "import bodo\n",
    "import numpy as np\n",
    "import pandas as pd"
   ]
  },
  {
   "cell_type": "markdown",
   "metadata": {},
   "source": [
    "<a id=\"loading_data\"></a>\n",
    "## Loading data\n",
    "\n",
    "In this section, we load the yellow and green taxi trips and weather in central park area in 2019 in pandas DataFrame."
   ]
  },
  {
   "cell_type": "code",
   "execution_count": null,
   "metadata": {},
   "outputs": [],
   "source": [
    "%%px\n",
    "@bodo.jit(distributed=[\"trips\"], cache=True)\n",
    "def get_trips():\n",
    "    start = time.time()\n",
    "    yellow_taxi = pd.read_csv(\n",
    "        \"s3://bodo-example-data/nyc-taxi/yellow_tripdata_2019.csv\",\n",
    "        usecols=[0, 1, 4, 7, 8],\n",
    "        parse_dates=[\"tpep_pickup_datetime\"],\n",
    "    )\n",
    "\n",
    "    yellow_taxi[\"cab_type_id\"] = 0\n",
    "\n",
    "    green_taxi = pd.read_csv(\n",
    "        \"s3://bodo-example-data/nyc-taxi/green_tripdata_2019.csv\",\n",
    "        usecols=[0, 1, 5, 6, 8],\n",
    "        parse_dates=[\"lpep_pickup_datetime\"],\n",
    "    )\n",
    "    green_taxi[\"cab_type_id\"] = 1\n",
    "\n",
    "    # Rename yellow_taxi column to match green_taxi\n",
    "    yellow_taxi = yellow_taxi.rename(\n",
    "        columns={\"tpep_pickup_datetime\": \"lpep_pickup_datetime\"}, copy=False\n",
    "    )\n",
    "\n",
    "    # concat\n",
    "    trips = pd.concat([green_taxi, yellow_taxi])\n",
    "    end = time.time()\n",
    "    print(\"Time: \", end - start)\n",
    "    return trips\n",
    "\n",
    "\n",
    "trips = get_trips()\n",
    "if bodo.get_rank() == 0:\n",
    "    print(trips.head())"
   ]
  },
  {
   "cell_type": "code",
   "execution_count": null,
   "metadata": {
    "tags": []
   },
   "outputs": [],
   "source": [
    "%%px\n",
    "@bodo.jit(distributed=[\"central_park_weather_observations\"], cache=True)\n",
    "def get_cp_weather():\n",
    "    start = time.time()\n",
    "    central_park_weather_observations = pd.read_csv(\n",
    "        \"s3://bodo-example-data/nyc-taxi/central_park_weather.csv\", parse_dates=[\"date\"]\n",
    "    )\n",
    "    central_park_weather_observations[\"date\"] = central_park_weather_observations[\n",
    "        \"date\"\n",
    "    ].dt.date\n",
    "    end = time.time()\n",
    "    print(\"Time: \", end - start)\n",
    "    return central_park_weather_observations\n",
    "\n",
    "\n",
    "central_park_weather_observations = get_cp_weather()\n",
    "if bodo.get_rank() == 0:\n",
    "    print(central_park_weather_observations.head())"
   ]
  },
  {
   "cell_type": "markdown",
   "metadata": {},
   "source": [
    "## Query Definitions\n",
    "\n",
    "This section includes some of the queries using Python (Pandas)"
   ]
  },
  {
   "cell_type": "markdown",
   "metadata": {},
   "source": [
    "### Q1: Display pickups by geography\n",
    "This query reports the number of trips for each pickup location."
   ]
  },
  {
   "cell_type": "code",
   "execution_count": null,
   "metadata": {
    "tags": []
   },
   "outputs": [],
   "source": [
    "%%px\n",
    "@bodo.jit(distributed=[\"daily_pickups_taxi\", \"trips\"], cache=True)\n",
    "def get_daily_pickups(trips):\n",
    "    start = time.time()\n",
    "    daily_pickups_taxi = trips.loc[\n",
    "        :, [\"cab_type_id\", \"PULocationID\", \"lpep_pickup_datetime\"]\n",
    "    ]\n",
    "    daily_pickups_taxi[\"pickup_date\"] = daily_pickups_taxi[\n",
    "        \"lpep_pickup_datetime\"\n",
    "    ].dt.date\n",
    "    daily_pickups_taxi = daily_pickups_taxi.groupby(\n",
    "        [\"cab_type_id\", \"PULocationID\", \"pickup_date\"], as_index=False\n",
    "    )[\"lpep_pickup_datetime\"].count()\n",
    "    daily_pickups_taxi = daily_pickups_taxi.rename(\n",
    "        columns={\n",
    "            \"PULocationID\": \"pickup_location_id\",\n",
    "            \"pickup_date\": \"date\",\n",
    "            \"lpep_pickup_datetime\": \"trips\",\n",
    "        },\n",
    "        copy=False,\n",
    "    )\n",
    "    daily_pickups_taxi = daily_pickups_taxi.sort_values(\n",
    "        by=[\"cab_type_id\", \"pickup_location_id\", \"date\", \"trips\"],\n",
    "        ascending=[True, True, True, False],\n",
    "    )\n",
    "\n",
    "    end = time.time()\n",
    "    print(\"Time: \", end - start)\n",
    "    return daily_pickups_taxi\n",
    "\n",
    "\n",
    "daily_pickups = get_daily_pickups(trips)\n",
    "if bodo.get_rank() == 0:\n",
    "    print(daily_pickups.head())"
   ]
  },
  {
   "cell_type": "markdown",
   "metadata": {},
   "source": [
    "### Q2: JFK Hourly Pickups\n",
    "This query reports the number of hourly pickups at JFK airport for each car type."
   ]
  },
  {
   "cell_type": "code",
   "execution_count": null,
   "metadata": {
    "tags": []
   },
   "outputs": [],
   "source": [
    "%%px\n",
    "@bodo.jit(distributed=[\"jfk_hourly\", \"trips\"], cache=True)\n",
    "def get_jfk_hourly_pickups(trips):\n",
    "    start = time.time()\n",
    "    jfk_hourly = trips.loc[:, [\"cab_type_id\", \"PULocationID\", \"lpep_pickup_datetime\"]]\n",
    "    jfk_hourly[\"pickup_hour\"] = jfk_hourly[\"lpep_pickup_datetime\"].dt.hour\n",
    "    jfk_hourly = jfk_hourly.loc[jfk_hourly[\"PULocationID\"] == 132]\n",
    "    jfk_hourly = jfk_hourly.groupby(\n",
    "        [\"cab_type_id\", \"pickup_hour\", \"PULocationID\"], as_index=False\n",
    "    )[\"lpep_pickup_datetime\"].count()\n",
    "    jfk_hourly = jfk_hourly.rename(\n",
    "        columns={\n",
    "            \"lpep_pickup_datetime\": \"trips\",\n",
    "            \"PULocationID\": \"pickup_location_id\",\n",
    "        },\n",
    "        copy=False,\n",
    "    )\n",
    "    jfk_hourly = jfk_hourly.sort_values(\n",
    "        by=[\"cab_type_id\", \"pickup_hour\", \"pickup_location_id\", \"trips\"],\n",
    "        ascending=[True, True, True, False],\n",
    "    )\n",
    "\n",
    "    end = time.time()\n",
    "    print(\"Time: \", end - start)\n",
    "    return jfk_hourly\n",
    "\n",
    "\n",
    "jfk_hourly = get_jfk_hourly_pickups(trips)\n",
    "if bodo.get_rank() == 0:\n",
    "    print(jfk_hourly.head())"
   ]
  },
  {
   "cell_type": "markdown",
   "metadata": {},
   "source": [
    "### Q3: Weekday trips\n",
    "This query reports how many trips are done during weekdays."
   ]
  },
  {
   "cell_type": "code",
   "execution_count": null,
   "metadata": {
    "tags": []
   },
   "outputs": [],
   "source": [
    "%%px\n",
    "@bodo.jit(distributed=[\"trips\", \"trips_weekdays\"], cache=True)\n",
    "def get_weekday_trips(trips):\n",
    "    start = time.time()\n",
    "    trips_weekdays = trips.loc[\n",
    "        :, [\"cab_type_id\", \"lpep_pickup_datetime\", \"PULocationID\", \"DOLocationID\"]\n",
    "    ]\n",
    "    trips_weekdays[\"pickup_dow\"] = trips_weekdays[\"lpep_pickup_datetime\"].dt.dayofweek\n",
    "    trips_weekdays = trips_weekdays[\n",
    "        (trips_weekdays[\"cab_type_id\"].isin([0, 1]))\n",
    "        & (trips_weekdays[\"lpep_pickup_datetime\"] >= pd.to_datetime(\"2018-07-01\"))\n",
    "        & (trips_weekdays[\"lpep_pickup_datetime\"] < pd.to_datetime(\"2020-07-01\"))\n",
    "        & (trips_weekdays[\"pickup_dow\"].isin([1, 2, 3, 4, 5]))\n",
    "    ]\n",
    "    trips_weekdays = trips_weekdays.groupby(\n",
    "        [\"PULocationID\", \"DOLocationID\"], as_index=False\n",
    "    ).count()\n",
    "    trips_weekdays = trips_weekdays.loc[\n",
    "        :, [\"PULocationID\", \"DOLocationID\", \"lpep_pickup_datetime\"]\n",
    "    ]\n",
    "    trips_weekdays = trips_weekdays.rename(\n",
    "        columns={\n",
    "            \"PULocationID\": \"pickup_location_id\",\n",
    "            \"DOLocationID\": \"dropoff_location_id\",\n",
    "            \"lpep_pickup_datetime\": \"trips\",\n",
    "        },\n",
    "        copy=False,\n",
    "    )\n",
    "    trips_weekdays = trips_weekdays.sort_values(\n",
    "        by=[\"pickup_location_id\", \"dropoff_location_id\", \"trips\"],\n",
    "        ascending=[True, True, False],\n",
    "    )\n",
    "    end = time.time()\n",
    "    print(\"Time: \", end - start)\n",
    "    return trips_weekdays\n",
    "\n",
    "\n",
    "wd_trips = get_weekday_trips(trips)\n",
    "if bodo.get_rank() == 0:\n",
    "    print(wd_trips.head())"
   ]
  },
  {
   "cell_type": "markdown",
   "metadata": {},
   "source": [
    "### Q4: Monthly Trips and Weather in Central Park\n",
    "This query reports monthly travel times; the average distance, number of trips over and its corresponding weather.\n"
   ]
  },
  {
   "cell_type": "code",
   "execution_count": null,
   "metadata": {
    "tags": []
   },
   "outputs": [],
   "source": [
    "%%px\n",
    "@bodo.jit(\n",
    "    distributed=[\"trips\", \"central_park_weather_observations\", \"monthly_trips_weather\"],\n",
    "    cache=True,\n",
    ")\n",
    "def get_monthly_travels_weather(trips, central_park_weather_observations):\n",
    "    start = time.time()\n",
    "    trips = trips.loc[\n",
    "        :,\n",
    "        [\n",
    "            \"VendorID\",\n",
    "            \"lpep_pickup_datetime\",\n",
    "            \"PULocationID\",\n",
    "            \"DOLocationID\",\n",
    "            \"trip_distance\",\n",
    "        ],\n",
    "    ]\n",
    "    trips[\"date\"] = trips[\"lpep_pickup_datetime\"].dt.date\n",
    "    trips[\"month\"] = trips[\"lpep_pickup_datetime\"].dt.month\n",
    "    trips[\"hour\"] = trips[\"lpep_pickup_datetime\"].dt.hour\n",
    "    trips[\"weekday\"] = trips[\"lpep_pickup_datetime\"].dt.dayofweek\n",
    "    monthly_trips_weather = trips.merge(\n",
    "        central_park_weather_observations, on=\"date\", how=\"inner\"\n",
    "    )\n",
    "    monthly_trips_weather = monthly_trips_weather[\n",
    "        (monthly_trips_weather[\"weekday\"].isin([1, 2, 3, 4, 5]))\n",
    "        & (monthly_trips_weather[\"precipitation\"] > 0.1)\n",
    "    ]\n",
    "    # 0: morning, 1:midday, 2:afternoon, 3:evening, 4:other\n",
    "    monthly_trips_weather[\"time_bucket\"] = monthly_trips_weather.hour.replace(\n",
    "        {\n",
    "            8: 0,\n",
    "            9: 0,\n",
    "            10: 0,\n",
    "            11: 1,\n",
    "            12: 1,\n",
    "            13: 1,\n",
    "            14: 1,\n",
    "            15: 1,\n",
    "            16: 2,\n",
    "            17: 2,\n",
    "            18: 2,\n",
    "            18: 2,\n",
    "            19: 3,\n",
    "            20: 3,\n",
    "            21: 3,\n",
    "            22: 4,\n",
    "            23: 4,\n",
    "            0: 4,\n",
    "            1: 4,\n",
    "            2: 4,\n",
    "            3: 4,\n",
    "            4: 4,\n",
    "            5: 4,\n",
    "            6: 4,\n",
    "            7: 4,\n",
    "        }\n",
    "    )\n",
    "    monthly_trips_weather = monthly_trips_weather.groupby(\n",
    "        [\n",
    "            \"PULocationID\",\n",
    "            \"DOLocationID\",\n",
    "            \"month\",\n",
    "            \"weekday\",\n",
    "            \"precipitation\",\n",
    "            \"time_bucket\",\n",
    "        ],\n",
    "        as_index=False,\n",
    "    ).agg({\"VendorID\": \"count\", \"trip_distance\": \"mean\"})\n",
    "    monthly_trips_weather = monthly_trips_weather.sort_values(\n",
    "        by=[\n",
    "            \"PULocationID\",\n",
    "            \"DOLocationID\",\n",
    "            \"month\",\n",
    "            \"weekday\",\n",
    "            \"precipitation\",\n",
    "            \"time_bucket\",\n",
    "            \"VendorID\",\n",
    "        ],\n",
    "        ascending=[True, True, True, True, True, True, False],\n",
    "    )\n",
    "    monthly_trips_weather = monthly_trips_weather.rename(\n",
    "        columns={\n",
    "            \"VendorID\": \"trips\",\n",
    "            \"trip_distance\": \"avg_distance\",\n",
    "            \"precipitation\": \"date_with_precipitation\",\n",
    "        },\n",
    "        copy=False,\n",
    "    )\n",
    "    end = time.time()\n",
    "    print(\"Time: \", end - start)\n",
    "    return monthly_trips_weather\n",
    "\n",
    "\n",
    "monthly_trips_weather = get_monthly_travels_weather(\n",
    "    trips, central_park_weather_observations\n",
    ")\n",
    "if bodo.get_rank() == 0:\n",
    "    print(monthly_trips_weather.head())"
   ]
  },
  {
   "cell_type": "code",
   "execution_count": null,
   "metadata": {},
   "outputs": [],
   "source": [
    "# To stop the cluster run the following command.\n",
    "rc.cluster.stop_cluster_sync()"
   ]
  }
 ],
 "metadata": {
  "kernelspec": {
   "display_name": "saturn (Python 3)",
   "language": "python",
   "name": "python3"
  },
  "language_info": {
   "codemirror_mode": {
    "name": "ipython",
    "version": 3
   },
   "file_extension": ".py",
   "mimetype": "text/x-python",
   "name": "python",
   "nbconvert_exporter": "python",
   "pygments_lexer": "ipython3",
   "version": "3.9.9"
  }
 },
 "nbformat": 4,
 "nbformat_minor": 4
}
