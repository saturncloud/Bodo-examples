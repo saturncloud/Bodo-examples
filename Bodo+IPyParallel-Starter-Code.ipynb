{
 "cells": [
  {
   "cell_type": "code",
   "execution_count": 1,
   "id": "206d1697",
   "metadata": {
    "execution": {
     "iopub.execute_input": "2022-03-01T22:15:03.346144Z",
     "iopub.status.busy": "2022-03-01T22:15:03.345601Z",
     "iopub.status.idle": "2022-03-01T22:15:10.123306Z",
     "shell.execute_reply": "2022-03-01T22:15:10.122857Z",
     "shell.execute_reply.started": "2022-03-01T22:15:03.346061Z"
    }
   },
   "outputs": [
    {
     "name": "stdout",
     "output_type": "stream",
     "text": [
      "Starting 4 engines with <class 'ipyparallel.cluster.launcher.MPIEngineSetLauncher'>\n"
     ]
    },
    {
     "data": {
      "application/vnd.jupyter.widget-view+json": {
       "model_id": "6dd723ffd6df4a41a19641c9ad5aa957",
       "version_major": 2,
       "version_minor": 0
      },
      "text/plain": [
       "  0%|          | 0/4 [00:00<?, ?engine/s]"
      ]
     },
     "metadata": {},
     "output_type": "display_data"
    }
   ],
   "source": [
    "import ipyparallel as ipp\n",
    "\n",
    "rc = ipp.Cluster(engines=\"mpi\", n=4).start_and_connect_sync(activate=True)"
   ]
  },
  {
   "cell_type": "code",
   "execution_count": 2,
   "id": "188d36ff",
   "metadata": {
    "execution": {
     "iopub.execute_input": "2022-03-01T22:15:10.124049Z",
     "iopub.status.busy": "2022-03-01T22:15:10.123856Z",
     "iopub.status.idle": "2022-03-01T22:15:10.127748Z",
     "shell.execute_reply": "2022-03-01T22:15:10.127275Z",
     "shell.execute_reply.started": "2022-03-01T22:15:10.124030Z"
    }
   },
   "outputs": [
    {
     "name": "stdout",
     "output_type": "stream",
     "text": [
      "%autopx enabled\n"
     ]
    }
   ],
   "source": [
    "%autopx"
   ]
  },
  {
   "cell_type": "code",
   "execution_count": 3,
   "id": "97deed42",
   "metadata": {
    "execution": {
     "iopub.execute_input": "2022-03-01T22:15:10.129009Z",
     "iopub.status.busy": "2022-03-01T22:15:10.128669Z",
     "iopub.status.idle": "2022-03-01T22:15:11.429984Z",
     "shell.execute_reply": "2022-03-01T22:15:11.429559Z",
     "shell.execute_reply.started": "2022-03-01T22:15:10.128978Z"
    }
   },
   "outputs": [
    {
     "data": {
      "text/plain": [
       "\u001b[0;31mOut[1:1]: \u001b[0m1"
      ]
     },
     "metadata": {
      "after": null,
      "completed": null,
      "data": {},
      "engine_id": 1,
      "engine_uuid": "e84a99da-f4adaf0b9da55ee1e7bfe678",
      "error": null,
      "execute_input": "import bodo\n\nbodo.get_rank()",
      "execute_result": {
       "data": {
        "text/plain": "1"
       },
       "execution_count": 1,
       "metadata": {}
      },
      "follow": null,
      "msg_id": null,
      "outputs": [],
      "received": null,
      "started": null,
      "status": null,
      "stderr": "",
      "stdout": "",
      "submitted": "2022-03-01T22:15:10.131267Z"
     },
     "output_type": "display_data"
    },
    {
     "data": {
      "text/plain": [
       "\u001b[0;31mOut[0:1]: \u001b[0m0"
      ]
     },
     "metadata": {
      "after": null,
      "completed": null,
      "data": {},
      "engine_id": 0,
      "engine_uuid": "b0d1228a-f3058c1bc9cf818fe390e42a",
      "error": null,
      "execute_input": "import bodo\n\nbodo.get_rank()",
      "execute_result": {
       "data": {
        "text/plain": "0"
       },
       "execution_count": 1,
       "metadata": {}
      },
      "follow": null,
      "msg_id": null,
      "outputs": [],
      "received": null,
      "started": null,
      "status": null,
      "stderr": "",
      "stdout": "",
      "submitted": "2022-03-01T22:15:10.130903Z"
     },
     "output_type": "display_data"
    },
    {
     "data": {
      "text/plain": [
       "\u001b[0;31mOut[2:1]: \u001b[0m2"
      ]
     },
     "metadata": {
      "after": null,
      "completed": null,
      "data": {},
      "engine_id": 2,
      "engine_uuid": "2afdef7e-6aa5183a537c81758db56cf6",
      "error": null,
      "execute_input": "import bodo\n\nbodo.get_rank()",
      "execute_result": {
       "data": {
        "text/plain": "2"
       },
       "execution_count": 1,
       "metadata": {}
      },
      "follow": null,
      "msg_id": null,
      "outputs": [],
      "received": null,
      "started": null,
      "status": null,
      "stderr": "",
      "stdout": "",
      "submitted": "2022-03-01T22:15:10.131485Z"
     },
     "output_type": "display_data"
    },
    {
     "data": {
      "text/plain": [
       "\u001b[0;31mOut[3:1]: \u001b[0m3"
      ]
     },
     "metadata": {
      "after": null,
      "completed": null,
      "data": {},
      "engine_id": 3,
      "engine_uuid": "7212a874-37001b8d905ccf51634a8d9e",
      "error": null,
      "execute_input": "import bodo\n\nbodo.get_rank()",
      "execute_result": {
       "data": {
        "text/plain": "3"
       },
       "execution_count": 1,
       "metadata": {}
      },
      "follow": null,
      "msg_id": null,
      "outputs": [],
      "received": null,
      "started": null,
      "status": null,
      "stderr": "",
      "stdout": "",
      "submitted": "2022-03-01T22:15:10.132582Z"
     },
     "output_type": "display_data"
    }
   ],
   "source": [
    "import bodo\n",
    "\n",
    "bodo.get_rank()"
   ]
  },
  {
   "cell_type": "code",
   "execution_count": 4,
   "id": "7e273a7c",
   "metadata": {
    "execution": {
     "iopub.execute_input": "2022-03-01T22:15:11.430688Z",
     "iopub.status.busy": "2022-03-01T22:15:11.430497Z",
     "iopub.status.idle": "2022-03-01T22:15:11.444163Z",
     "shell.execute_reply": "2022-03-01T22:15:11.443740Z",
     "shell.execute_reply.started": "2022-03-01T22:15:11.430668Z"
    }
   },
   "outputs": [],
   "source": [
    "import time\n",
    "\n",
    "import numpy as np\n",
    "\n",
    "\n",
    "@bodo.jit\n",
    "def calc_pi(n):\n",
    "    t1 = time.time()\n",
    "    x = 2 * np.random.ranf(n) - 1\n",
    "    y = 2 * np.random.ranf(n) - 1\n",
    "    pi = 4 * np.sum(x ** 2 + y ** 2 < 1) / n\n",
    "    print(\"Execution time:\", time.time() - t1, \"\\nresult:\", pi)"
   ]
  },
  {
   "cell_type": "code",
   "execution_count": 5,
   "id": "2e0ee3dd",
   "metadata": {
    "execution": {
     "iopub.execute_input": "2022-03-01T22:15:11.444839Z",
     "iopub.status.busy": "2022-03-01T22:15:11.444656Z",
     "iopub.status.idle": "2022-03-01T22:15:12.426523Z",
     "shell.execute_reply": "2022-03-01T22:15:12.425993Z",
     "shell.execute_reply.started": "2022-03-01T22:15:11.444821Z"
    }
   },
   "outputs": [
    {
     "data": {
      "text/plain": [
       "[stdout:0] Execution time: 0.037220001220703125 \n",
       "result: 3.1414684\n"
      ]
     },
     "metadata": {},
     "output_type": "display_data"
    }
   ],
   "source": [
    "calc_pi(10000000)"
   ]
  },
  {
   "cell_type": "code",
   "execution_count": 6,
   "id": "419b45b4",
   "metadata": {
    "execution": {
     "iopub.execute_input": "2022-03-01T22:15:12.427424Z",
     "iopub.status.busy": "2022-03-01T22:15:12.427147Z",
     "iopub.status.idle": "2022-03-01T22:15:12.430713Z",
     "shell.execute_reply": "2022-03-01T22:15:12.430221Z",
     "shell.execute_reply.started": "2022-03-01T22:15:12.427392Z"
    }
   },
   "outputs": [
    {
     "name": "stdout",
     "output_type": "stream",
     "text": [
      "%autopx disabled\n"
     ]
    }
   ],
   "source": [
    "%autopx"
   ]
  },
  {
   "cell_type": "code",
   "execution_count": 7,
   "id": "7379a470",
   "metadata": {
    "execution": {
     "iopub.execute_input": "2022-03-01T22:15:12.431422Z",
     "iopub.status.busy": "2022-03-01T22:15:12.431234Z",
     "iopub.status.idle": "2022-03-01T22:15:16.343462Z",
     "shell.execute_reply": "2022-03-01T22:15:16.343016Z",
     "shell.execute_reply.started": "2022-03-01T22:15:12.431399Z"
    },
    "tags": []
   },
   "outputs": [
    {
     "name": "stdout",
     "output_type": "stream",
     "text": [
      "Stopping controller\n",
      "Controller stopped: {'exit_code': 0, 'pid': 10279, 'identifier': 'ipcontroller-1646172903-t5zd-10262'}\n",
      "Stopping engine(s): 1646172904\n",
      "engine set stopped 1646172904: {'exit_code': 0, 'pid': 10310, 'identifier': 'ipengine-1646172903-t5zd-1646172904-10262'}\n"
     ]
    }
   ],
   "source": [
    "rc.cluster.stop_cluster_sync()"
   ]
  }
 ],
 "metadata": {
  "kernelspec": {
   "display_name": "saturn (Python 3)",
   "language": "python",
   "name": "python3"
  },
  "language_info": {
   "codemirror_mode": {
    "name": "ipython",
    "version": 3
   },
   "file_extension": ".py",
   "mimetype": "text/x-python",
   "name": "python",
   "nbconvert_exporter": "python",
   "pygments_lexer": "ipython3",
   "version": "3.9.9"
  }
 },
 "nbformat": 4,
 "nbformat_minor": 5
}
